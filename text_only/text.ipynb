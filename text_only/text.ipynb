{
 "cells": [
  {
   "cell_type": "code",
   "execution_count": 1,
   "metadata": {},
   "outputs": [],
   "source": [
    "import warnings\n",
    "warnings.filterwarnings(\"ignore\")\n",
    "from utils.dataset import TextDataset\n",
    "from torch.utils.data import DataLoader\n",
    "import torch.optim as optim\n",
    "from torch import nn\n",
    "import torch\n",
    "from utils.model import LSTMnet_RnnAtten\n",
    "import numpy as np\n",
    "from sklearn.model_selection import train_test_split\n",
    "from sklearn.metrics import f1_score\n",
    "import pandas as pd\n",
    "from copy import deepcopy"
   ]
  },
  {
   "cell_type": "code",
   "execution_count": 2,
   "metadata": {},
   "outputs": [
    {
     "name": "stdout",
     "output_type": "stream",
     "text": [
      "c:\\Users\\kjart\\OneDrive\\Dokumenter\\KU\\2. semester\\CogSci2\\research\\multimodal\\text_only\n"
     ]
    }
   ],
   "source": [
    "import os\n",
    "print(os.getcwd())\n",
    "\n",
    "train_annotations = '..\\\\data\\\\MELD\\\\train_sent_emo.csv'\n",
    "val_annotations = '..\\\\data\\\\\\MELD\\\\dev_sent_emo.csv'\n",
    "test_annotations = '..\\\\data\\\\MELD\\\\test_sent_emo.csv'\n",
    "\n",
    "train_bert = 'embeddings\\\\bert_embeddings'\n",
    "val_bert = 'embeddings\\\\bert_embeddings_val'\n",
    "test_bert = 'embeddings\\\\bert_embeddings_test'\n"
   ]
  },
  {
   "cell_type": "code",
   "execution_count": 3,
   "metadata": {},
   "outputs": [],
   "source": [
    "l = False\n",
    "train = TextDataset(train_annotations, train_bert, emotion=l, exclude=False)\n",
    "val = TextDataset(val_annotations, val_bert, emotion=l, exclude=False)\n",
    "\n",
    "# train, val = train_test_split(train, test_size=0.2)\n",
    "\n",
    "train_dataloader = DataLoader(train, batch_size=64, shuffle = True, drop_last=False)\n",
    "val_dataloader = DataLoader(val, batch_size=1000, shuffle=False, drop_last=False)\n",
    "# train_features, train_labels = next(iter(train_dataloader))"
   ]
  },
  {
   "cell_type": "code",
   "execution_count": 4,
   "metadata": {},
   "outputs": [
    {
     "name": "stdout",
     "output_type": "stream",
     "text": [
      "9989\n"
     ]
    }
   ],
   "source": [
    "print(len(train))"
   ]
  },
  {
   "cell_type": "code",
   "execution_count": 5,
   "metadata": {},
   "outputs": [],
   "source": [
    "# weights = torch.tensor([1-1109/9989, 1-271/9989, 1-268/9989, 1-1743/9989, 1-4710/9989, 1-683/9989, 1-1205/9989])\n",
    "# emotions = {'anger':0, 'disgust':1, 'fear':2, 'joy':3, 'neutral':4, 'sadness':5, 'surprise':6}"
   ]
  },
  {
   "cell_type": "code",
   "execution_count": 6,
   "metadata": {},
   "outputs": [
    {
     "name": "stdout",
     "output_type": "stream",
     "text": [
      "Feature batch shape: torch.Size([64, 768])\n",
      "Labels batch shape: torch.Size([64])\n"
     ]
    },
    {
     "data": {
      "text/plain": [
       "(torch.Size([768]),\n",
       " tensor([2, 2, 0, 1, 2, 2, 1, 0, 2, 2, 2, 1, 0, 2, 1, 2, 0, 0, 0, 2, 1, 1, 2, 0,\n",
       "         2, 2, 1, 2, 2, 1, 2, 0, 0, 2, 2, 1, 2, 1, 0, 2, 0, 2, 2, 0, 1, 2, 2, 2,\n",
       "         0, 1, 2, 1, 0, 0, 2, 1, 2, 0, 2, 2, 2, 2, 1, 1]))"
      ]
     },
     "execution_count": 6,
     "metadata": {},
     "output_type": "execute_result"
    }
   ],
   "source": [
    "# Sanity check: Size should be [batch_size, num_features, feature_vector_len], [batch_size]\n",
    "# Where batch size is 32, num_features (num mfccs) is 40 \n",
    "train_features, train_labels = next(iter(train_dataloader))\n",
    "print(f\"Feature batch shape: {train_features.size()}\")\n",
    "print(f\"Labels batch shape: {train_labels.size()}\")\n",
    "features = train_features[0]\n",
    "label = train_labels\n",
    "\n",
    "features.shape,label\n"
   ]
  },
  {
   "cell_type": "code",
   "execution_count": 7,
   "metadata": {},
   "outputs": [
    {
     "name": "stdout",
     "output_type": "stream",
     "text": [
      "torch.Size([64, 768]) torch.Size([64])\n"
     ]
    }
   ],
   "source": [
    "for batch in train_dataloader:\n",
    "    x, y = batch\n",
    "    print(x.shape, y.shape)\n",
    "    break\n",
    "device = 'cuda' if torch.cuda.is_available() else 'cpu'\n",
    "# weight=torch.tensor([1-1109/9989, 1-271/9989, 1-268/9989, 1-1743/9989, 1-4710/9989, 1-683/9989, 1-1205/9989]).to(device=device)\n",
    "weight=torch.tensor([1-2945/9989, 1-2334/9989, 1-4710/9989]).to(device=device)\n",
    "\n"
   ]
  },
  {
   "cell_type": "code",
   "execution_count": 8,
   "metadata": {},
   "outputs": [],
   "source": [
    "def loss_fnc(predictions, targets):\n",
    "    return nn.CrossEntropyLoss(weight=weight, label_smoothing=0.01)(input=predictions,target=targets)"
   ]
  },
  {
   "cell_type": "code",
   "execution_count": 9,
   "metadata": {},
   "outputs": [],
   "source": [
    "def make_train_step(model, loss_fnc, optimizer):\n",
    "    def train_step(X,Y):\n",
    "        # set model to train mode\n",
    "        model.train()\n",
    "        # forward pass\n",
    "        output_logits = model(X)\n",
    "        predictions = torch.argmax(output_logits,dim=1)\n",
    "        accuracy = torch.sum(Y==predictions)/float(len(Y))\n",
    "        f1 = f1_score(Y.cpu(), predictions.cpu(), average='weighted')\n",
    "        # compute loss\n",
    "        loss = loss_fnc(output_logits, Y)\n",
    "        # compute gradients\n",
    "        loss.backward()\n",
    "        # update parameters and zero gradients\n",
    "        optimizer.step()\n",
    "        optimizer.zero_grad()\n",
    "        return loss.item(), accuracy*100 , f1*100\n",
    "    return train_step"
   ]
  },
  {
   "cell_type": "code",
   "execution_count": 10,
   "metadata": {},
   "outputs": [],
   "source": [
    "def make_validate_fnc(model,loss_fnc):\n",
    "    def validate(X,Y):\n",
    "        with torch.no_grad():\n",
    "            model.eval()\n",
    "            output_logits = model(X)\n",
    "            predictions = torch.argmax(output_logits,dim=1)\n",
    "            accuracy = torch.sum(Y==predictions)/float(len(Y))\n",
    "            f1 = f1_score(Y.cpu(), predictions.cpu(), average='weighted')\n",
    "            loss = loss_fnc(output_logits,Y)\n",
    "        return loss.item(), accuracy*100, predictions, f1*100\n",
    "    return validate"
   ]
  },
  {
   "cell_type": "code",
   "execution_count": 11,
   "metadata": {},
   "outputs": [
    {
     "name": "stdout",
     "output_type": "stream",
     "text": [
      "Number of trainable params:  691203\n"
     ]
    }
   ],
   "source": [
    "device = 'cuda' if torch.cuda.is_available() else 'cpu'\n",
    "model = LSTMnet_RnnAtten(input_dim = 768, hidden_dim=128, output_dim=3, num_layers=2, bidirectional=False).to(device)\n",
    "print('Number of trainable params: ',sum(p.numel() for p in model.parameters()) )\n",
    "OPTIMIZER = torch.optim.Adam(model.parameters(),lr=0.0001, weight_decay=1e-3)\n"
   ]
  },
  {
   "cell_type": "code",
   "execution_count": 12,
   "metadata": {
    "scrolled": true
   },
   "outputs": [
    {
     "name": "stdout",
     "output_type": "stream",
     "text": [
      "\n",
      "Epoch 1 --> loss:1.0338, acc:49.12%, val_loss:0.9445, val_acc:58.00%  f1:88.57%, val_f1:57.88\n",
      "\n",
      "Epoch 2 --> loss:0.9594, acc:57.45%, val_loss:0.8946, val_acc:59.40%  f1:57.14%, val_f1:59.48\n",
      "\n",
      "Epoch 3 --> loss:0.9062, acc:61.19%, val_loss:0.8742, val_acc:62.10%  f1:10.00%, val_f1:61.56\n",
      "\n",
      "Epoch 4 --> loss:0.8881, acc:62.42%, val_loss:0.8614, val_acc:62.70%  f1:100.00%, val_f1:62.50\n",
      "\n",
      "Epoch 5 --> loss:0.8660, acc:63.83%, val_loss:0.8543, val_acc:63.20%  f1:74.67%, val_f1:62.84\n",
      "\n",
      "Epoch 6 --> loss:0.8614, acc:63.97%, val_loss:0.8487, val_acc:63.00%  f1:100.00%, val_f1:62.45\n",
      "\n",
      "Epoch 7 --> loss:0.8507, acc:64.75%, val_loss:0.8509, val_acc:63.30%  f1:68.00%, val_f1:62.87\n",
      "\n",
      "Epoch 8 --> loss:0.8434, acc:65.51%, val_loss:0.8402, val_acc:64.70%  f1:60.00%, val_f1:64.24\n",
      "\n",
      "Epoch 9 --> loss:0.8338, acc:65.55%, val_loss:0.8445, val_acc:63.60%  f1:30.00%, val_f1:63.09\n",
      "\n",
      "Epoch 10 --> loss:0.8260, acc:66.09%, val_loss:0.8376, val_acc:63.90%  f1:73.33%, val_f1:63.76\n",
      "\n",
      "Epoch 11 --> loss:0.8111, acc:66.91%, val_loss:0.8331, val_acc:64.00%  f1:81.33%, val_f1:63.65\n",
      "\n",
      "Epoch 12 --> loss:0.8128, acc:67.00%, val_loss:0.8364, val_acc:64.10%  f1:42.00%, val_f1:63.31\n",
      "\n",
      "Epoch 13 --> loss:0.8050, acc:67.09%, val_loss:0.8367, val_acc:64.40%  f1:80.00%, val_f1:63.93\n",
      "\n",
      "Epoch 14 --> loss:0.7997, acc:67.06%, val_loss:0.8352, val_acc:64.00%  f1:50.00%, val_f1:63.36\n",
      "\n",
      "Epoch 15 --> loss:0.7852, acc:68.10%, val_loss:0.8305, val_acc:64.80%  f1:80.00%, val_f1:64.19\n",
      "\n",
      "Epoch 16 --> loss:0.7822, acc:68.42%, val_loss:0.8303, val_acc:64.10%  f1:24.00%, val_f1:63.67\n",
      "\n",
      "Epoch 17 --> loss:0.7819, acc:68.30%, val_loss:0.8375, val_acc:64.60%  f1:48.00%, val_f1:64.12\n",
      "\n",
      "Epoch 18 --> loss:0.7735, acc:68.51%, val_loss:0.8355, val_acc:64.70%  f1:78.67%, val_f1:64.14\n",
      "\n",
      "Epoch 19 --> loss:0.7659, acc:68.96%, val_loss:0.8323, val_acc:65.20%  f1:63.33%, val_f1:64.81\n",
      "\n",
      "Epoch 20 --> loss:0.7596, acc:69.17%, val_loss:0.8407, val_acc:64.60%  f1:56.67%, val_f1:63.72\n",
      "\n",
      "Epoch 21 --> loss:0.7580, acc:69.33%, val_loss:0.8378, val_acc:64.70%  f1:44.00%, val_f1:64.47\n",
      "\n",
      "Epoch 22 --> loss:0.7535, acc:69.37%, val_loss:0.8378, val_acc:65.70%  f1:33.33%, val_f1:65.24\n",
      "\n",
      "Epoch 23 --> loss:0.7432, acc:69.89%, val_loss:0.8264, val_acc:66.20%  f1:100.00%, val_f1:65.78\n",
      "\n",
      "Epoch 24 --> loss:0.7388, acc:70.40%, val_loss:0.8258, val_acc:65.40%  f1:20.00%, val_f1:65.20\n",
      "\n",
      "Epoch 25 --> loss:0.7332, acc:70.61%, val_loss:0.8485, val_acc:64.70%  f1:80.00%, val_f1:64.01\n",
      "\n",
      "Epoch 26 --> loss:0.7277, acc:70.65%, val_loss:0.8456, val_acc:64.80%  f1:61.33%, val_f1:64.41\n",
      "\n",
      "Epoch 27 --> loss:0.7218, acc:71.27%, val_loss:0.8608, val_acc:64.70%  f1:26.67%, val_f1:64.17\n",
      "\n",
      "Epoch 28 --> loss:0.7211, acc:71.13%, val_loss:0.8535, val_acc:64.80%  f1:80.00%, val_f1:63.97\n",
      "\n",
      "Epoch 29 --> loss:0.7200, acc:70.75%, val_loss:0.8693, val_acc:64.90%  f1:20.00%, val_f1:64.15\n",
      "\n",
      "Epoch 30 --> loss:0.7088, acc:71.23%, val_loss:0.8455, val_acc:64.40%  f1:81.90%, val_f1:64.08\n",
      "\n",
      "Epoch 31 --> loss:0.6959, acc:72.26%, val_loss:0.8565, val_acc:65.80%  f1:60.00%, val_f1:65.25\n",
      "\n",
      "Epoch 32 --> loss:0.6994, acc:72.42%, val_loss:0.8485, val_acc:64.90%  f1:40.00%, val_f1:64.46\n",
      "\n",
      "Epoch 33 --> loss:0.6904, acc:72.49%, val_loss:0.8611, val_acc:64.90%  f1:60.00%, val_f1:64.05\n",
      "\n",
      "Epoch 34 --> loss:0.6841, acc:72.51%, val_loss:0.8650, val_acc:64.60%  f1:50.00%, val_f1:63.90\n",
      "\n",
      "Epoch 35 --> loss:0.6811, acc:73.25%, val_loss:0.8850, val_acc:63.10%  f1:68.00%, val_f1:62.95\n",
      "\n",
      "Epoch 36 --> loss:0.6731, acc:73.47%, val_loss:0.8801, val_acc:64.30%  f1:44.00%, val_f1:63.68\n",
      "\n",
      "Epoch 37 --> loss:0.6634, acc:73.47%, val_loss:0.8628, val_acc:64.60%  f1:88.00%, val_f1:64.25\n",
      "\n",
      "Epoch 38 --> loss:0.6634, acc:73.82%, val_loss:0.8721, val_acc:65.30%  f1:81.33%, val_f1:64.79\n",
      "\n",
      "Epoch 39 --> loss:0.6597, acc:73.82%, val_loss:0.8743, val_acc:64.40%  f1:62.00%, val_f1:64.08\n",
      "\n",
      "Epoch 40 --> loss:0.6525, acc:74.11%, val_loss:0.8810, val_acc:65.30%  f1:60.00%, val_f1:64.62\n",
      "\n",
      "Epoch 41 --> loss:0.6497, acc:74.05%, val_loss:0.8669, val_acc:65.70%  f1:88.57%, val_f1:65.30\n",
      "\n",
      "Epoch 42 --> loss:0.6475, acc:74.25%, val_loss:0.8829, val_acc:63.40%  f1:43.33%, val_f1:63.09\n",
      "\n",
      "Epoch 43 --> loss:0.6380, acc:74.83%, val_loss:0.8948, val_acc:64.80%  f1:71.43%, val_f1:64.54\n",
      "\n",
      "Epoch 44 --> loss:0.6316, acc:75.28%, val_loss:0.8946, val_acc:64.50%  f1:100.00%, val_f1:64.04\n",
      "\n",
      "Epoch 45 --> loss:0.6280, acc:75.11%, val_loss:0.9042, val_acc:65.40%  f1:80.00%, val_f1:64.66\n",
      "\n",
      "Epoch 46 --> loss:0.6239, acc:75.64%, val_loss:0.9034, val_acc:64.80%  f1:88.00%, val_f1:64.47\n",
      "\n",
      "Epoch 47 --> loss:0.6205, acc:75.78%, val_loss:0.8984, val_acc:65.00%  f1:88.57%, val_f1:64.42\n",
      "\n",
      "Epoch 48 --> loss:0.6222, acc:75.43%, val_loss:0.8790, val_acc:65.70%  f1:88.00%, val_f1:65.24\n",
      "\n",
      "Epoch 49 --> loss:0.6173, acc:75.78%, val_loss:0.8965, val_acc:64.10%  f1:68.57%, val_f1:63.97\n",
      "\n",
      "Epoch 50 --> loss:0.6134, acc:76.11%, val_loss:0.9224, val_acc:64.80%  f1:100.00%, val_f1:64.30\n",
      "\n",
      "Epoch 51 --> loss:0.6017, acc:76.30%, val_loss:0.9157, val_acc:63.00%  f1:60.00%, val_f1:62.89\n",
      "\n",
      "Epoch 52 --> loss:0.6048, acc:76.36%, val_loss:0.8989, val_acc:64.00%  f1:80.00%, val_f1:63.76\n",
      "\n",
      "Epoch 53 --> loss:0.6007, acc:76.23%, val_loss:0.9067, val_acc:64.00%  f1:40.00%, val_f1:63.92\n",
      "\n",
      "Epoch 54 --> loss:0.5926, acc:76.39%, val_loss:0.9310, val_acc:62.90%  f1:75.00%, val_f1:62.91\n",
      "\n",
      "Epoch 55 --> loss:0.5860, acc:77.25%, val_loss:0.9554, val_acc:64.80%  f1:100.00%, val_f1:64.34\n",
      "\n",
      "Epoch 56 --> loss:0.5855, acc:76.85%, val_loss:0.9470, val_acc:63.70%  f1:100.00%, val_f1:63.44\n",
      "\n",
      "Epoch 57 --> loss:0.5849, acc:77.48%, val_loss:0.9217, val_acc:64.00%  f1:80.00%, val_f1:63.76\n",
      "\n",
      "Epoch 58 --> loss:0.5862, acc:77.18%, val_loss:0.9531, val_acc:65.10%  f1:60.00%, val_f1:64.65\n",
      "\n",
      "Epoch 59 --> loss:0.5757, acc:77.54%, val_loss:0.9368, val_acc:64.10%  f1:53.33%, val_f1:63.96\n",
      "\n",
      "Epoch 60 --> loss:0.5677, acc:78.00%, val_loss:0.9866, val_acc:63.60%  f1:72.00%, val_f1:63.05\n",
      "\n",
      "Epoch 61 --> loss:0.5704, acc:77.78%, val_loss:0.9561, val_acc:62.50%  f1:68.57%, val_f1:62.50\n",
      "\n",
      "Epoch 62 --> loss:0.5605, acc:78.41%, val_loss:0.9729, val_acc:63.40%  f1:63.33%, val_f1:63.05\n",
      "\n",
      "Epoch 63 --> loss:0.5630, acc:77.53%, val_loss:0.9889, val_acc:62.70%  f1:80.00%, val_f1:62.56\n",
      "\n",
      "Epoch 64 --> loss:0.5589, acc:77.95%, val_loss:0.9344, val_acc:62.90%  f1:33.33%, val_f1:62.89\n",
      "\n",
      "Epoch 65 --> loss:0.5556, acc:78.65%, val_loss:0.9596, val_acc:64.10%  f1:74.67%, val_f1:63.76\n",
      "\n",
      "Epoch 66 --> loss:0.5511, acc:78.73%, val_loss:1.0124, val_acc:63.90%  f1:70.00%, val_f1:63.12\n",
      "\n",
      "Epoch 67 --> loss:0.5474, acc:79.23%, val_loss:0.9675, val_acc:63.70%  f1:60.00%, val_f1:63.25\n",
      "\n",
      "Epoch 68 --> loss:0.5508, acc:78.94%, val_loss:0.9585, val_acc:64.80%  f1:80.00%, val_f1:64.69\n",
      "\n",
      "Epoch 69 --> loss:0.5398, acc:78.92%, val_loss:0.9835, val_acc:63.10%  f1:56.67%, val_f1:62.89\n",
      "\n",
      "Epoch 70 --> loss:0.5380, acc:79.19%, val_loss:0.9662, val_acc:63.20%  f1:56.67%, val_f1:62.75\n",
      "\n",
      "Epoch 71 --> loss:0.5360, acc:79.35%, val_loss:0.9979, val_acc:64.50%  f1:74.67%, val_f1:64.11\n",
      "\n",
      "Epoch 72 --> loss:0.5285, acc:79.84%, val_loss:0.9998, val_acc:64.10%  f1:81.33%, val_f1:63.41\n",
      "\n",
      "Epoch 73 --> loss:0.5247, acc:80.02%, val_loss:0.9890, val_acc:64.40%  f1:100.00%, val_f1:64.09\n",
      "\n",
      "Epoch 74 --> loss:0.5242, acc:79.88%, val_loss:1.0211, val_acc:63.70%  f1:61.33%, val_f1:63.36\n",
      "\n",
      "Epoch 75 --> loss:0.5290, acc:80.09%, val_loss:0.9779, val_acc:63.40%  f1:78.67%, val_f1:63.27\n",
      "\n",
      "Epoch 76 --> loss:0.5168, acc:80.21%, val_loss:1.0145, val_acc:64.10%  f1:72.00%, val_f1:63.66\n",
      "\n",
      "Epoch 77 --> loss:0.5122, acc:80.44%, val_loss:1.0414, val_acc:64.40%  f1:81.90%, val_f1:63.66\n",
      "\n",
      "Epoch 78 --> loss:0.5119, acc:80.86%, val_loss:1.0185, val_acc:63.70%  f1:88.00%, val_f1:63.40\n",
      "\n",
      "Epoch 79 --> loss:0.5130, acc:80.46%, val_loss:1.0246, val_acc:63.70%  f1:50.00%, val_f1:63.02\n",
      "\n",
      "Epoch 80 --> loss:0.5151, acc:80.60%, val_loss:0.9932, val_acc:62.80%  f1:53.33%, val_f1:62.50\n",
      "\n",
      "Epoch 81 --> loss:0.5129, acc:80.23%, val_loss:1.0364, val_acc:63.20%  f1:80.00%, val_f1:62.85\n",
      "\n",
      "Epoch 82 --> loss:0.5021, acc:81.12%, val_loss:1.0319, val_acc:63.70%  f1:80.00%, val_f1:63.44\n",
      "\n",
      "Epoch 83 --> loss:0.5037, acc:80.69%, val_loss:1.0645, val_acc:64.30%  f1:58.00%, val_f1:63.56\n",
      "\n",
      "Epoch 84 --> loss:0.5004, acc:81.02%, val_loss:0.9960, val_acc:63.30%  f1:81.90%, val_f1:63.11\n",
      "\n",
      "Epoch 85 --> loss:0.4933, acc:81.48%, val_loss:1.0082, val_acc:61.30%  f1:86.67%, val_f1:61.33\n",
      "\n",
      "Epoch 86 --> loss:0.4915, acc:81.44%, val_loss:1.0634, val_acc:64.00%  f1:33.33%, val_f1:63.51\n",
      "\n",
      "Epoch 87 --> loss:0.4980, acc:81.15%, val_loss:1.0191, val_acc:62.10%  f1:66.67%, val_f1:62.18\n",
      "\n",
      "Epoch 88 --> loss:0.4928, acc:81.60%, val_loss:1.0385, val_acc:63.80%  f1:80.00%, val_f1:63.06\n",
      "\n",
      "Epoch 89 --> loss:0.4861, acc:81.79%, val_loss:1.0576, val_acc:63.30%  f1:80.00%, val_f1:62.80\n",
      "\n",
      "Epoch 90 --> loss:0.4798, acc:82.20%, val_loss:1.0523, val_acc:63.90%  f1:88.00%, val_f1:63.24\n",
      "\n",
      "Epoch 91 --> loss:0.4928, acc:81.43%, val_loss:1.0256, val_acc:63.80%  f1:81.33%, val_f1:63.29\n",
      "\n",
      "Epoch 92 --> loss:0.4840, acc:81.55%, val_loss:1.0427, val_acc:62.80%  f1:80.00%, val_f1:62.24\n",
      "\n",
      "Epoch 93 --> loss:0.4777, acc:82.29%, val_loss:1.0320, val_acc:62.80%  f1:100.00%, val_f1:62.70\n",
      "\n",
      "Epoch 94 --> loss:0.4706, acc:82.64%, val_loss:1.0543, val_acc:61.70%  f1:100.00%, val_f1:61.64\n",
      "\n",
      "Epoch 95 --> loss:0.4813, acc:81.93%, val_loss:1.0496, val_acc:64.00%  f1:78.67%, val_f1:63.62\n",
      "\n",
      "Epoch 96 --> loss:0.4823, acc:81.75%, val_loss:1.0962, val_acc:62.60%  f1:60.00%, val_f1:62.07\n",
      "\n",
      "Epoch 97 --> loss:0.4657, acc:82.81%, val_loss:1.0557, val_acc:62.70%  f1:74.67%, val_f1:62.47\n",
      "\n",
      "Epoch 98 --> loss:0.4711, acc:82.40%, val_loss:1.0629, val_acc:62.20%  f1:53.33%, val_f1:62.18\n",
      "\n",
      "Epoch 99 --> loss:0.4697, acc:82.15%, val_loss:1.1032, val_acc:63.80%  f1:88.00%, val_f1:63.12\n",
      "\n",
      "Epoch 100 --> loss:0.4638, acc:82.19%, val_loss:1.1337, val_acc:63.70%  f1:60.00%, val_f1:62.78\n",
      "\n",
      "Epoch 101 --> loss:0.4617, acc:82.78%, val_loss:1.1145, val_acc:63.70%  f1:80.00%, val_f1:63.08\n",
      "\n",
      "Epoch 102 --> loss:0.4559, acc:82.91%, val_loss:1.0912, val_acc:62.00%  f1:74.67%, val_f1:61.86\n",
      "\n",
      "Epoch 103 --> loss:0.4543, acc:83.13%, val_loss:1.0921, val_acc:63.60%  f1:88.00%, val_f1:62.97\n",
      "\n",
      "Epoch 104 --> loss:0.4615, acc:82.84%, val_loss:1.0647, val_acc:63.30%  f1:78.67%, val_f1:62.87\n",
      "\n",
      "Epoch 105 --> loss:0.4642, acc:82.83%, val_loss:1.1248, val_acc:63.50%  f1:73.33%, val_f1:62.67\n",
      "\n",
      "Epoch 106 --> loss:0.4531, acc:83.16%, val_loss:1.0925, val_acc:63.00%  f1:100.00%, val_f1:62.38\n",
      "\n",
      "Epoch 107 --> loss:0.4443, acc:83.65%, val_loss:1.1010, val_acc:63.00%  f1:78.67%, val_f1:62.57\n",
      "\n",
      "Epoch 108 --> loss:0.4472, acc:83.44%, val_loss:1.1261, val_acc:63.40%  f1:56.67%, val_f1:62.61\n",
      "\n",
      "Epoch 109 --> loss:0.4490, acc:83.71%, val_loss:1.0871, val_acc:62.30%  f1:63.33%, val_f1:62.31\n",
      "\n",
      "Epoch 110 --> loss:0.4414, acc:83.85%, val_loss:1.1018, val_acc:63.40%  f1:100.00%, val_f1:62.87\n",
      "\n",
      "Epoch 111 --> loss:0.4513, acc:83.05%, val_loss:1.1218, val_acc:63.80%  f1:36.67%, val_f1:62.93\n",
      "\n",
      "Epoch 112 --> loss:0.4424, acc:83.82%, val_loss:1.0985, val_acc:61.80%  f1:88.57%, val_f1:61.86\n",
      "\n",
      "Epoch 113 --> loss:0.4441, acc:83.70%, val_loss:1.1540, val_acc:62.90%  f1:78.67%, val_f1:62.30\n",
      "\n",
      "Epoch 114 --> loss:0.4374, acc:83.84%, val_loss:1.1021, val_acc:62.40%  f1:60.00%, val_f1:61.97\n",
      "\n",
      "Epoch 115 --> loss:0.4377, acc:83.58%, val_loss:1.1312, val_acc:61.00%  f1:100.00%, val_f1:60.84\n",
      "\n",
      "Epoch 116 --> loss:0.4334, acc:84.31%, val_loss:1.1305, val_acc:63.00%  f1:70.00%, val_f1:62.52\n",
      "\n",
      "Epoch 117 --> loss:0.4270, acc:84.34%, val_loss:1.1235, val_acc:62.90%  f1:100.00%, val_f1:62.42\n",
      "\n",
      "Epoch 118 --> loss:0.4387, acc:83.91%, val_loss:1.1025, val_acc:61.80%  f1:100.00%, val_f1:61.69\n",
      "\n",
      "Epoch 119 --> loss:0.4264, acc:84.21%, val_loss:1.1565, val_acc:62.10%  f1:88.57%, val_f1:61.67\n",
      "\n",
      "Epoch 120 --> loss:0.4243, acc:84.43%, val_loss:1.1947, val_acc:63.20%  f1:60.00%, val_f1:62.38\n"
     ]
    }
   ],
   "source": [
    "train_step = make_train_step(model, loss_fnc, OPTIMIZER)\n",
    "validate = make_validate_fnc(model,loss_fnc)\n",
    "\n",
    "val_accs = []\n",
    "losses=[]\n",
    "val_losses = []\n",
    "f1s = []\n",
    "val_f1s= []\n",
    "epochs = 120\n",
    "best_val_f1 = 60\n",
    "\n",
    "\n",
    "for epoch in range(epochs):\n",
    "    epoch_acc = 0\n",
    "    epoch_loss = 0\n",
    "    epoch_f1 = 0\n",
    "    for idx, (features, labels) in enumerate(train_dataloader):\n",
    "        X, Y = features, labels\n",
    "        X_tensor = torch.tensor(X,device=device).float()\n",
    "        Y_tensor = torch.tensor(Y, dtype=torch.long,device=device)\n",
    "        loss, acc, f1= train_step(X_tensor,Y_tensor)\n",
    "        epoch_acc += acc*len(features)/len(train)\n",
    "        epoch_loss += loss*len(features)/len(train)\n",
    "        epoch_f1 += f1*len(features)/len(train)\n",
    "    for batch in val_dataloader:\n",
    "        X_val, Y_val = batch\n",
    "        break\n",
    "    X_val_tensor = torch.tensor(X_val,device=device).float()\n",
    "    Y_val_tensor = torch.tensor(Y_val,dtype=torch.long,device=device)\n",
    "    val_loss, val_acc, _, val_f1 = validate(X_val_tensor,Y_val_tensor)\n",
    "    val_accs.append(val_acc.cpu())\n",
    "    losses.append(epoch_loss)\n",
    "    val_losses.append(val_loss)\n",
    "    f1s.append(epoch_f1)\n",
    "    val_f1s.append(val_f1)\n",
    "    if val_f1 > best_val_f1:\n",
    "        torch.save(deepcopy(model.state_dict()), 'best-model-params_sent_weighted1.pt')\n",
    "        best_epoch = epoch\n",
    "        best_val_f1 = val_loss\n",
    "    \n",
    "    print('')\n",
    "    print(f\"Epoch {epoch+1} --> loss:{epoch_loss:.4f}, acc:{epoch_acc:.2f}%, val_loss:{val_loss:.4f}, val_acc:{val_acc:.2f}%  f1:{f1:.2f}%, val_f1:{val_f1:.2f}\")"
   ]
  },
  {
   "cell_type": "code",
   "execution_count": 13,
   "metadata": {},
   "outputs": [
    {
     "name": "stdout",
     "output_type": "stream",
     "text": [
      "layers:  2\n",
      "model hidden dim:  128\n",
      "batch size:  64\n",
      "1.1946756839752197\n"
     ]
    },
    {
     "data": {
      "image/png": "[encoded data removed]",
      "text/plain": [
       "<Figure size 432x288 with 1 Axes>"
      ]
     },
     "metadata": {
      "needs_background": "light"
     },
     "output_type": "display_data"
    }
   ],
   "source": [
    "import matplotlib.pyplot as plt\n",
    "x = range(epochs)\n",
    "\n",
    "fig, ax = plt.subplots()\n",
    "ax.set_xlabel('epoch #')\n",
    "ax.set_ylabel('')\n",
    "ax.plot(x,np.divide(val_accs,100), label='val_acc')\n",
    "ax.plot(x,np.divide(val_f1s,100), label='val_f1')\n",
    "ax.plot(x, losses, label='loss')\n",
    "ax.plot(x, val_losses, label='val_loss')\n",
    "ax.scatter(best_epoch, best_val_f1/100)\n",
    "ax.plot(x, 0.7*np.ones(len(x)), '--', color=(0.1,0.1,0.1))\n",
    "ax.legend()\n",
    "print(\"layers: \", model.num_layers)\n",
    "print(\"model hidden dim: \", model.hidden_dim)\n",
    "print(\"batch size: \", train_dataloader.batch_size)\n",
    "print(best_val_f1)\n"
   ]
  },
  {
   "cell_type": "code",
   "execution_count": 19,
   "metadata": {},
   "outputs": [
    {
     "data": {
      "text/plain": [
       "<All keys matched successfully>"
      ]
     },
     "execution_count": 19,
     "metadata": {},
     "output_type": "execute_result"
    }
   ],
   "source": [
    "\n",
    "model.load_state_dict(torch.load(\"best-model-params_sent_weighted.pt\"))\n"
   ]
  },
  {
   "cell_type": "code",
   "execution_count": 17,
   "metadata": {},
   "outputs": [],
   "source": [
    "test = TextDataset(test_annotations, test_bert, emotion=False, exclude=False)\n",
    "test_dataloader = DataLoader(test, batch_size=100000, shuffle=False, drop_last=False)"
   ]
  },
  {
   "cell_type": "code",
   "execution_count": 20,
   "metadata": {},
   "outputs": [
    {
     "name": "stdout",
     "output_type": "stream",
     "text": [
      "0.6765772152510914\n",
      "[0.61509901 0.57466919 0.75962294 0.         0.         0.\n",
      " 0.        ]\n"
     ]
    }
   ],
   "source": [
    "\n",
    "\n",
    "\n",
    "device = 'cpu'\n",
    "model.to(device)\n",
    "f1s = []\n",
    "f1ss = []\n",
    "\n",
    "for idx, (features, labels) in enumerate(test_dataloader):\n",
    "    X, Y = features, labels\n",
    "    \n",
    "    X_tensor = torch.tensor(X,device=device).float()\n",
    "    Y_tensor = torch.tensor(Y, dtype=torch.long,device=device)\n",
    "    output_logits = model(X)\n",
    "    predictions = torch.argmax(output_logits,dim=1)\n",
    "   \n",
    "    f1 = f1_score(Y.cpu(), predictions.cpu(), average='weighted')\n",
    "    f1_ = f1_score(Y.cpu(), predictions.cpu(), average=None, labels=[0,1,2,3,4,5,6])\n",
    "    f1s.append(f1)\n",
    "    f1ss.append(f1_)\n",
    "\n",
    "print(f1)\n",
    "print(f1_)\n",
    "# print(np.mean(f1s, axis = 0))\n",
    "# print(np.mean(f1ss, axis = 0))\n",
    "# emotions = {'anger':0, 'disgust':1, 'fear':2, 'joy':3, 'neutral':4, 'sadness':5, 'surprise':6}\n",
    "#  emotions = {'negative':0, 'positive':1, 'neutral':2}"
   ]
  },
  {
   "cell_type": "code",
   "execution_count": null,
   "metadata": {},
   "outputs": [],
   "source": []
  },
  {
   "cell_type": "code",
   "execution_count": null,
   "metadata": {},
   "outputs": [],
   "source": [
    "device = 'cpu'\n",
    "model = LSTMnet_RnnAtten(input_dim = 768, hidden_dim=128, output_dim=3, num_layers=2, bidirectional=False).to(device)\n",
    "\n"
   ]
  },
  {
   "cell_type": "code",
   "execution_count": null,
   "metadata": {},
   "outputs": [
    {
     "data": {
      "text/plain": [
       "<All keys matched successfully>"
      ]
     },
     "execution_count": 23,
     "metadata": {},
     "output_type": "execute_result"
    }
   ],
   "source": [
    "\n",
    "model.load_state_dict(torch.load(\"best-model-params_sent_weighted.pt\"))"
   ]
  },
  {
   "cell_type": "code",
   "execution_count": null,
   "metadata": {},
   "outputs": [],
   "source": [
    "test = TextDataset(test_annotations, test_bert, emotion=False, exclude=False)\n",
    "test_dataloader = DataLoader(test, batch_size=100000, shuffle=False, drop_last=False)"
   ]
  },
  {
   "cell_type": "code",
   "execution_count": null,
   "metadata": {},
   "outputs": [
    {
     "name": "stdout",
     "output_type": "stream",
     "text": [
      "0.6538450557351121\n",
      "[0.59161976 0.55395683 0.73654843 0.         0.         0.\n",
      " 0.        ]\n"
     ]
    }
   ],
   "source": [
    "\n",
    "\n",
    "\n",
    "device = 'cpu'\n",
    "model.to(device)\n",
    "f1s = []\n",
    "f1ss = []\n",
    "\n",
    "for idx, (features, labels) in enumerate(test_dataloader):\n",
    "    X, Y = features, labels\n",
    "    \n",
    "    X_tensor = torch.tensor(X,device=device).float()\n",
    "    Y_tensor = torch.tensor(Y, dtype=torch.long,device=device)\n",
    "    output_logits = model(X)\n",
    "    predictions = torch.argmax(output_logits,dim=1)\n",
    "   \n",
    "    f1 = f1_score(Y.cpu(), predictions.cpu(), average='weighted')\n",
    "    f1_ = f1_score(Y.cpu(), predictions.cpu(), average=None, labels=[0,1,2,3,4,5,6])\n",
    "    f1s.append(f1)\n",
    "    f1ss.append(f1_)\n",
    "\n",
    "print(f1)\n",
    "print(f1_)\n",
    "# print(np.mean(f1s, axis = 0))\n",
    "# print(np.mean(f1ss, axis = 0))\n",
    "# emotions = {'anger':0, 'disgust':1, 'fear':2, 'joy':3, 'neutral':4, 'sadness':5, 'surprise':6}\n",
    "#  emotions = {'negative':0, 'positive':1, 'neutral':2}"
   ]
  },
  {
   "cell_type": "code",
   "execution_count": null,
   "metadata": {},
   "outputs": [],
   "source": []
  }
 ],
 "metadata": {
  "interpreter": {
   "hash": "d1342e48b91422693146d497b2a8030f014fedc60a9bc30ab582333e6e4c2682"
  },
  "kernelspec": {
   "display_name": "Python 3.9.1 64-bit",
   "language": "python",
   "name": "python3"
  },
  "language_info": {
   "codemirror_mode": {
    "name": "ipython",
    "version": 3
   },
   "file_extension": ".py",
   "mimetype": "text/x-python",
   "name": "python",
   "nbconvert_exporter": "python",
   "pygments_lexer": "ipython3",
   "version": "3.9.1"
  }
 },
 "nbformat": 4,
 "nbformat_minor": 2
}
