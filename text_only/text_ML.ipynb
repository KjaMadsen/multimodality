{
 "cells": [
  {
   "cell_type": "code",
   "execution_count": 1,
   "metadata": {},
   "outputs": [],
   "source": [
    "import os \n",
    "os.chdir('../')\n"
   ]
  },
  {
   "cell_type": "code",
   "execution_count": 26,
   "metadata": {},
   "outputs": [],
   "source": [
    "\n",
    "import torch\n",
    "import pandas as pd\n",
    "import numpy as np\n",
    "\n",
    "from sklearn.svm import SVC\n",
    "from sklearn.model_selection import train_test_split, cross_val_score, KFold\n",
    "from sklearn.metrics import accuracy_score, f1_score\n"
   ]
  },
  {
   "cell_type": "code",
   "execution_count": 4,
   "metadata": {},
   "outputs": [
    {
     "name": "stdout",
     "output_type": "stream",
     "text": [
      "True\n",
      "True\n"
     ]
    }
   ],
   "source": [
    "emb =[]\n",
    "f = open(\"./text_only/embeddings/bert_embeddings\", \"r\")\n",
    "s = f.readlines()\n",
    "for t in s:\n",
    "    t = t[1:-2]\n",
    "    k = t.split(\",\")\n",
    "    emb.append(k)\n",
    "print(len(emb) == 9989)\n",
    "\n",
    "emb1 = []\n",
    "for v in emb:\n",
    "    v = list(map(float, v))\n",
    "    emb1.append(v)\n",
    "    \n",
    "print(len(emb1) == 9989)    "
   ]
  },
  {
   "cell_type": "code",
   "execution_count": 5,
   "metadata": {},
   "outputs": [
    {
     "name": "stdout",
     "output_type": "stream",
     "text": [
      "768\n"
     ]
    }
   ],
   "source": [
    "sentence_emebeddings_tensor = torch.tensor(emb1)\n",
    "print(len(sentence_emebeddings_tensor[0]))"
   ]
  },
  {
   "cell_type": "code",
   "execution_count": 6,
   "metadata": {},
   "outputs": [],
   "source": [
    "df_emo = pd.read_csv('./data/MELD/train_sent_emo.csv')\n",
    "\n",
    "X = emb1\n",
    "y = df_emo['Emotion']"
   ]
  },
  {
   "cell_type": "code",
   "execution_count": 7,
   "metadata": {},
   "outputs": [
    {
     "data": {
      "text/plain": [
       "SVC()"
      ]
     },
     "execution_count": 7,
     "metadata": {},
     "output_type": "execute_result"
    }
   ],
   "source": [
    "\n",
    "\n",
    "X_train, X_test, y_train, y_test = train_test_split(X, y, test_size=0.33, random_state=42)\n",
    "\n",
    "\n",
    "svm = SVC()\n",
    "\n",
    "svm.fit(X_train,y_train)"
   ]
  },
  {
   "cell_type": "code",
   "execution_count": 16,
   "metadata": {},
   "outputs": [
    {
     "name": "stdout",
     "output_type": "stream",
     "text": [
      "0.6002426448286321\n",
      "0.5454186897915175\n"
     ]
    }
   ],
   "source": [
    "y_pred = svm.predict(X_test)\n",
    "\n",
    "score = accuracy_score(y_test, y_pred)\n",
    "f1 = f1_score(y_test, y_pred, average='weighted')\n",
    "print(score)\n",
    "print(f1)"
   ]
  },
  {
   "cell_type": "code",
   "execution_count": 11,
   "metadata": {},
   "outputs": [
    {
     "data": {
      "text/plain": [
       "RandomForestClassifier()"
      ]
     },
     "execution_count": 11,
     "metadata": {},
     "output_type": "execute_result"
    }
   ],
   "source": [
    "from sklearn.ensemble import RandomForestClassifier\n",
    "\n",
    "rfc = RandomForestClassifier(n_estimators=100)\n",
    "\n",
    "rfc.fit(X_train, y_train)\n",
    "\n",
    "\n"
   ]
  },
  {
   "cell_type": "code",
   "execution_count": 17,
   "metadata": {},
   "outputs": [
    {
     "name": "stdout",
     "output_type": "stream",
     "text": [
      "0.5735517136791022\n",
      "0.5089871736698142\n"
     ]
    }
   ],
   "source": [
    "forest_pred = rfc.predict(X_test)\n",
    "score = accuracy_score(y_test, forest_pred)\n",
    "f1 = f1_score(y_test, forest_pred, average='weighted')\n",
    "print(score)\n",
    "print(f1)"
   ]
  },
  {
   "cell_type": "code",
   "execution_count": 33,
   "metadata": {},
   "outputs": [
    {
     "name": "stdout",
     "output_type": "stream",
     "text": [
      "[(21, 0.5603707917810052), (25, 0.5645530196550878), (28, 0.5657474957053299), (30, 0.5638063047988756), (44, 0.5587240925417755), (50, 0.5609662450081432), (100, 0.5514012895165428)]\n",
      "28\n"
     ]
    }
   ],
   "source": [
    "from sklearn.neighbors import KNeighborsClassifier\n",
    "\n",
    "def elegant_cv(XTrain, YTrain):\n",
    "    '''\n",
    "    This method does the same as the method above except it uses accuracy and 'cross_val_score' from sklearn\n",
    "    It is the other function that is used\n",
    "    credit: me on assignment 2\n",
    "    '''\n",
    "    kfold = KFold(n_splits=10, shuffle=True, random_state=1)\n",
    "    classifiers = []\n",
    "    Ks = [21,25,28,30,44,50,100]\n",
    "\n",
    "    for k in Ks:\n",
    "        classifier = KNeighborsClassifier(k)\n",
    "        cv_score = cross_val_score(classifier, XTrain, YTrain, cv=kfold, scoring='accuracy')\n",
    "        classifiers.append((k,cv_score.mean()))\n",
    "    \n",
    "    print(classifiers)\n",
    "    k_best = sorted(classifiers, key =lambda x: x[1], reverse=True)[0][0] #sort the reuslts of the different Ks and pick the one with the lowest 0-1 loss\n",
    "    print(k_best)\n",
    "    return k_best\n",
    "\n",
    "k_best = elegant_cv(X_train, y_train)\n",
    "\n",
    "knc = KNeighborsClassifier(k_best)\n",
    "\n",
    "\n"
   ]
  },
  {
   "cell_type": "code",
   "execution_count": 34,
   "metadata": {},
   "outputs": [
    {
     "name": "stdout",
     "output_type": "stream",
     "text": [
      "0.5638459205338187\n",
      "0.5165775826573011\n"
     ]
    }
   ],
   "source": [
    "knc.fit(X_train, y_train)\n",
    "    \n",
    "knc_pred = knc.predict(X_test)\n",
    "score = accuracy_score(y_test, knc_pred)\n",
    "f1 = f1_score(y_test, knc_pred, average='weighted')\n",
    "print(score)\n",
    "print(f1)"
   ]
  },
  {
   "cell_type": "code",
   "execution_count": null,
   "metadata": {},
   "outputs": [],
   "source": []
  },
  {
   "cell_type": "code",
   "execution_count": null,
   "metadata": {},
   "outputs": [],
   "source": []
  }
 ],
 "metadata": {
  "interpreter": {
   "hash": "78d8e42be33b3b8a7e2d36933251c43cce3c85e969fe14de1a2b3911379b2054"
  },
  "kernelspec": {
   "display_name": "Python 3.9.1 64-bit",
   "language": "python",
   "name": "python3"
  },
  "language_info": {
   "codemirror_mode": {
    "name": "ipython",
    "version": 3
   },
   "file_extension": ".py",
   "mimetype": "text/x-python",
   "name": "python",
   "nbconvert_exporter": "python",
   "pygments_lexer": "ipython3",
   "version": "3.9.1"
  },
  "orig_nbformat": 4
 },
 "nbformat": 4,
 "nbformat_minor": 2
}
