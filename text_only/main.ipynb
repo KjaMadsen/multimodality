{
 "cells": [
  {
   "cell_type": "code",
   "execution_count": 11,
   "metadata": {},
   "outputs": [],
   "source": [
    "import warnings\n",
    "warnings.filterwarnings(\"ignore\")\n",
    "from utils.dataset import TextDataset\n",
    "from torch.utils.data import DataLoader\n",
    "import torch.optim as optim\n",
    "from torch import nn\n",
    "import torch\n",
    "from utils.model import LSTMnet_RnnAtten\n",
    "import numpy as np\n",
    "from sklearn.model_selection import train_test_split\n",
    "from sklearn.metrics import f1_score\n",
    "import pandas as pd"
   ]
  },
  {
   "cell_type": "code",
   "execution_count": 12,
   "metadata": {},
   "outputs": [
    {
     "name": "stdout",
     "output_type": "stream",
     "text": [
      "c:\\Users\\kjart\\OneDrive\\Dokumenter\\KU\\2. semester\\CogSci2\\research\\multimodal\\text_only\n"
     ]
    }
   ],
   "source": [
    "import os\n",
    "print(os.getcwd())\n",
    "\n",
    "train_annotations = '..\\\\data\\\\MELD\\\\train_sent_emo.csv'\n",
    "val_annotations = '..\\\\data\\\\\\MELD\\\\dev_sent_emo.csv'\n",
    "test_annotations = '..\\\\data\\\\MELD\\\\test_sent_emo.csv'\n",
    "\n",
    "train_bert = 'embeddings\\\\bert_embeddings'\n",
    "val_bert = 'embeddings\\\\bert_embeddings_val'\n",
    "test_bert = 'embeddings\\\\bert_embeddings_test'\n"
   ]
  },
  {
   "cell_type": "code",
   "execution_count": 13,
   "metadata": {},
   "outputs": [],
   "source": [
    "train = TextDataset(train_annotations, train_bert)\n",
    "val = TextDataset(val_annotations, val_bert)\n",
    "\n",
    "# train, val = train_test_split(train, test_size=0.2)\n",
    "\n",
    "train_dataloader = DataLoader(train, batch_size=64, shuffle = True, drop_last=False)\n",
    "val_dataloader = DataLoader(val, batch_size=64, shuffle=True, drop_last=False)\n",
    "train_features, train_labels = next(iter(train_dataloader))"
   ]
  },
  {
   "cell_type": "code",
   "execution_count": 14,
   "metadata": {},
   "outputs": [
    {
     "name": "stdout",
     "output_type": "stream",
     "text": [
      "Feature batch shape: torch.Size([64, 768])\n",
      "Labels batch shape: torch.Size([64])\n"
     ]
    },
    {
     "data": {
      "text/plain": [
       "(torch.Size([768]), tensor(4))"
      ]
     },
     "execution_count": 14,
     "metadata": {},
     "output_type": "execute_result"
    }
   ],
   "source": [
    "# Sanity check: Size should be [batch_size, num_features, feature_vector_len], [batch_size]\n",
    "# Where batch size is 32, num_features (num mfccs) is 40 \n",
    "train_features, train_labels = next(iter(train_dataloader))\n",
    "print(f\"Feature batch shape: {train_features.size()}\")\n",
    "print(f\"Labels batch shape: {train_labels.size()}\")\n",
    "features = train_features[0]\n",
    "label = train_labels[0]\n",
    "\n",
    "features.shape,label\n"
   ]
  },
  {
   "cell_type": "code",
   "execution_count": 15,
   "metadata": {},
   "outputs": [
    {
     "name": "stdout",
     "output_type": "stream",
     "text": [
      "torch.Size([64, 768]) torch.Size([64])\n"
     ]
    }
   ],
   "source": [
    "for batch in train_dataloader:\n",
    "    x, y = batch\n",
    "    print(x.shape, y.shape)\n",
    "    break"
   ]
  },
  {
   "cell_type": "code",
   "execution_count": 16,
   "metadata": {},
   "outputs": [],
   "source": [
    "def loss_fnc(predictions, targets):\n",
    "    return nn.CrossEntropyLoss()(input=predictions,target=targets)"
   ]
  },
  {
   "cell_type": "code",
   "execution_count": 17,
   "metadata": {},
   "outputs": [],
   "source": [
    "def make_train_step(model, loss_fnc, optimizer):\n",
    "    def train_step(X,Y):\n",
    "        # set model to train mode\n",
    "        model.train()\n",
    "        # forward pass\n",
    "        output_logits = model(X)\n",
    "        predictions = torch.argmax(output_logits,dim=1)\n",
    "        accuracy = torch.sum(Y==predictions)/float(len(Y))\n",
    "        f1 = f1_score(Y.cpu(), predictions.cpu(), average='weighted')\n",
    "        # compute loss\n",
    "        loss = loss_fnc(output_logits, Y)\n",
    "        # compute gradients\n",
    "        loss.backward()\n",
    "        # update parameters and zero gradients\n",
    "        optimizer.step()\n",
    "        optimizer.zero_grad()\n",
    "        return loss.item(), accuracy*100 , f1*100\n",
    "    return train_step"
   ]
  },
  {
   "cell_type": "code",
   "execution_count": 18,
   "metadata": {},
   "outputs": [],
   "source": [
    "def make_validate_fnc(model,loss_fnc):\n",
    "    def validate(X,Y):\n",
    "        with torch.no_grad():\n",
    "            model.eval()\n",
    "            output_logits = model(X)\n",
    "            predictions = torch.argmax(output_logits,dim=1)\n",
    "            accuracy = torch.sum(Y==predictions)/float(len(Y))\n",
    "            f1 = f1_score(Y.cpu(), predictions.cpu(), average='weighted')\n",
    "            loss = loss_fnc(output_logits,Y)\n",
    "        return loss.item(), accuracy*100, predictions, f1*100\n",
    "    return validate"
   ]
  },
  {
   "cell_type": "code",
   "execution_count": 19,
   "metadata": {},
   "outputs": [
    {
     "name": "stdout",
     "output_type": "stream",
     "text": [
      "Number of trainable params:  823815\n"
     ]
    }
   ],
   "source": [
    "device = 'cuda' if torch.cuda.is_available() else 'cpu'\n",
    "model = LSTMnet_RnnAtten(input_dim = 768, hidden_dim=128, output_dim=7, num_layers=3).to(device)\n",
    "print('Number of trainable params: ',sum(p.numel() for p in model.parameters()) )\n",
    "OPTIMIZER = torch.optim.Adam(model.parameters(),lr=0.0001/2, weight_decay=1e-2)\n"
   ]
  },
  {
   "cell_type": "code",
   "execution_count": 20,
   "metadata": {
    "scrolled": true
   },
   "outputs": [
    {
     "name": "stdout",
     "output_type": "stream",
     "text": [
      "\n",
      "Epoch 1 --> loss:1.8899, acc:24.37%, val_loss:1.7927, val_acc:46.88%  f1:13.33%, val_f1:29.92%\n",
      "\n",
      "Epoch 2 --> loss:1.7058, acc:44.91%, val_loss:1.6190, val_acc:42.19%  f1:26.67%, val_f1:25.03%\n",
      "\n",
      "Epoch 3 --> loss:1.6168, acc:46.70%, val_loss:1.6124, val_acc:50.00%  f1:71.11%, val_f1:33.33%\n",
      "\n",
      "Epoch 4 --> loss:1.5741, acc:47.16%, val_loss:1.6464, val_acc:37.50%  f1:6.67%, val_f1:20.45%\n",
      "\n",
      "Epoch 5 --> loss:1.5463, acc:47.16%, val_loss:1.7556, val_acc:31.25%  f1:100.00%, val_f1:16.41%\n",
      "\n",
      "Epoch 6 --> loss:1.5258, acc:47.15%, val_loss:1.6362, val_acc:40.62%  f1:6.67%, val_f1:25.54%\n",
      "\n",
      "Epoch 7 --> loss:1.5072, acc:47.40%, val_loss:1.5981, val_acc:37.50%  f1:6.67%, val_f1:23.42%\n",
      "\n",
      "Epoch 8 --> loss:1.4867, acc:47.40%, val_loss:1.5782, val_acc:40.62%  f1:0.00%, val_f1:26.53%\n",
      "\n",
      "Epoch 9 --> loss:1.4611, acc:48.67%, val_loss:1.4779, val_acc:50.00%  f1:22.86%, val_f1:35.07%\n",
      "\n",
      "Epoch 10 --> loss:1.4337, acc:49.69%, val_loss:1.5030, val_acc:45.31%  f1:0.00%, val_f1:34.40%\n",
      "\n",
      "Epoch 11 --> loss:1.4140, acc:50.90%, val_loss:1.3469, val_acc:54.69%  f1:40.00%, val_f1:43.39%\n",
      "\n",
      "Epoch 12 --> loss:1.3849, acc:52.01%, val_loss:1.4633, val_acc:39.06%  f1:60.00%, val_f1:32.15%\n",
      "\n",
      "Epoch 13 --> loss:1.3679, acc:52.61%, val_loss:1.3552, val_acc:59.38%  f1:0.00%, val_f1:52.51%\n",
      "\n",
      "Epoch 14 --> loss:1.3457, acc:53.67%, val_loss:1.3113, val_acc:53.12%  f1:53.33%, val_f1:46.40%\n",
      "\n",
      "Epoch 15 --> loss:1.3341, acc:54.39%, val_loss:1.4963, val_acc:42.19%  f1:78.10%, val_f1:34.87%\n",
      "\n",
      "Epoch 16 --> loss:1.3347, acc:54.53%, val_loss:1.3746, val_acc:50.00%  f1:32.00%, val_f1:42.14%\n",
      "\n",
      "Epoch 17 --> loss:1.3107, acc:55.38%, val_loss:1.4853, val_acc:53.12%  f1:78.10%, val_f1:44.82%\n",
      "\n",
      "Epoch 18 --> loss:1.3005, acc:55.64%, val_loss:1.4191, val_acc:46.88%  f1:51.43%, val_f1:37.99%\n",
      "\n",
      "Epoch 19 --> loss:1.2924, acc:56.17%, val_loss:1.6414, val_acc:43.75%  f1:45.33%, val_f1:36.56%\n",
      "\n",
      "Epoch 20 --> loss:1.2775, acc:56.65%, val_loss:1.4533, val_acc:45.31%  f1:71.43%, val_f1:39.31%\n",
      "\n",
      "Epoch 21 --> loss:1.2700, acc:56.45%, val_loss:1.2505, val_acc:57.81%  f1:53.33%, val_f1:50.79%\n",
      "\n",
      "Epoch 22 --> loss:1.2745, acc:56.86%, val_loss:1.1786, val_acc:57.81%  f1:40.00%, val_f1:51.55%\n",
      "\n",
      "Epoch 23 --> loss:1.2607, acc:57.63%, val_loss:1.3665, val_acc:53.12%  f1:78.10%, val_f1:46.26%\n",
      "\n",
      "Epoch 24 --> loss:1.2532, acc:57.40%, val_loss:1.4596, val_acc:43.75%  f1:20.00%, val_f1:36.78%\n",
      "\n",
      "Epoch 25 --> loss:1.2491, acc:57.51%, val_loss:1.2800, val_acc:56.25%  f1:100.00%, val_f1:49.09%\n",
      "\n",
      "Epoch 26 --> loss:1.2452, acc:57.88%, val_loss:1.2248, val_acc:56.25%  f1:26.67%, val_f1:51.34%\n",
      "\n",
      "Epoch 27 --> loss:1.2418, acc:58.06%, val_loss:1.2553, val_acc:56.25%  f1:100.00%, val_f1:49.28%\n",
      "\n",
      "Epoch 28 --> loss:1.2349, acc:58.57%, val_loss:1.4405, val_acc:46.88%  f1:50.00%, val_f1:38.06%\n",
      "\n",
      "Epoch 29 --> loss:1.2329, acc:58.39%, val_loss:1.1945, val_acc:56.25%  f1:16.00%, val_f1:48.72%\n",
      "\n",
      "Epoch 30 --> loss:1.2325, acc:58.26%, val_loss:1.2402, val_acc:53.12%  f1:100.00%, val_f1:47.58%\n",
      "\n",
      "Epoch 31 --> loss:1.2281, acc:58.37%, val_loss:1.0921, val_acc:62.50%  f1:8.00%, val_f1:56.96%\n",
      "\n",
      "Epoch 32 --> loss:1.2202, acc:59.10%, val_loss:1.1468, val_acc:57.81%  f1:52.00%, val_f1:49.70%\n",
      "\n",
      "Epoch 33 --> loss:1.2190, acc:58.76%, val_loss:1.4162, val_acc:50.00%  f1:36.67%, val_f1:41.55%\n",
      "\n",
      "Epoch 34 --> loss:1.2047, acc:59.29%, val_loss:1.2027, val_acc:54.69%  f1:88.57%, val_f1:50.41%\n",
      "\n",
      "Epoch 35 --> loss:1.2105, acc:59.45%, val_loss:1.2500, val_acc:54.69%  f1:36.67%, val_f1:47.47%\n",
      "\n",
      "Epoch 36 --> loss:1.2115, acc:58.94%, val_loss:1.1428, val_acc:60.94%  f1:78.67%, val_f1:55.32%\n",
      "\n",
      "Epoch 37 --> loss:1.2098, acc:59.01%, val_loss:1.0918, val_acc:57.81%  f1:20.00%, val_f1:51.42%\n",
      "\n",
      "Epoch 38 --> loss:1.2039, acc:59.59%, val_loss:1.2335, val_acc:59.38%  f1:60.00%, val_f1:53.08%\n",
      "\n",
      "Epoch 39 --> loss:1.2049, acc:59.50%, val_loss:1.1592, val_acc:59.38%  f1:80.00%, val_f1:52.31%\n",
      "\n",
      "Epoch 40 --> loss:1.2064, acc:58.99%, val_loss:1.1886, val_acc:57.81%  f1:30.00%, val_f1:50.55%\n",
      "\n",
      "Epoch 41 --> loss:1.1991, acc:59.79%, val_loss:1.3402, val_acc:51.56%  f1:100.00%, val_f1:44.53%\n",
      "\n",
      "Epoch 42 --> loss:1.1943, acc:59.58%, val_loss:1.1441, val_acc:64.06%  f1:8.00%, val_f1:54.60%\n",
      "\n",
      "Epoch 43 --> loss:1.1970, acc:59.73%, val_loss:1.3452, val_acc:51.56%  f1:60.00%, val_f1:43.92%\n",
      "\n",
      "Epoch 44 --> loss:1.1971, acc:59.54%, val_loss:1.2595, val_acc:57.81%  f1:26.67%, val_f1:53.27%\n",
      "\n",
      "Epoch 45 --> loss:1.1927, acc:60.14%, val_loss:1.1660, val_acc:57.81%  f1:60.00%, val_f1:50.26%\n",
      "\n",
      "Epoch 46 --> loss:1.1892, acc:60.42%, val_loss:1.2170, val_acc:51.56%  f1:20.00%, val_f1:46.53%\n",
      "\n",
      "Epoch 47 --> loss:1.1900, acc:60.04%, val_loss:1.2151, val_acc:56.25%  f1:100.00%, val_f1:50.68%\n",
      "\n",
      "Epoch 48 --> loss:1.1847, acc:60.18%, val_loss:1.3656, val_acc:50.00%  f1:80.00%, val_f1:41.29%\n",
      "\n",
      "Epoch 49 --> loss:1.1875, acc:59.94%, val_loss:1.1680, val_acc:60.94%  f1:60.00%, val_f1:53.92%\n",
      "\n",
      "Epoch 50 --> loss:1.1796, acc:60.31%, val_loss:1.1914, val_acc:62.50%  f1:60.00%, val_f1:57.96%\n",
      "\n",
      "Epoch 51 --> loss:1.1785, acc:60.49%, val_loss:1.3335, val_acc:57.81%  f1:36.00%, val_f1:51.95%\n",
      "\n",
      "Epoch 52 --> loss:1.1778, acc:60.30%, val_loss:1.4353, val_acc:50.00%  f1:46.67%, val_f1:41.87%\n",
      "\n",
      "Epoch 53 --> loss:1.1763, acc:60.29%, val_loss:0.9865, val_acc:68.75%  f1:30.00%, val_f1:64.10%\n",
      "\n",
      "Epoch 54 --> loss:1.1786, acc:60.47%, val_loss:1.3974, val_acc:48.44%  f1:20.00%, val_f1:41.50%\n",
      "\n",
      "Epoch 55 --> loss:1.1820, acc:60.20%, val_loss:1.4010, val_acc:45.31%  f1:100.00%, val_f1:38.05%\n",
      "\n",
      "Epoch 56 --> loss:1.1786, acc:60.51%, val_loss:1.3738, val_acc:54.69%  f1:46.67%, val_f1:47.37%\n",
      "\n",
      "Epoch 57 --> loss:1.1748, acc:60.77%, val_loss:1.3178, val_acc:60.94%  f1:51.43%, val_f1:55.10%\n",
      "\n",
      "Epoch 58 --> loss:1.1680, acc:60.49%, val_loss:1.5342, val_acc:48.44%  f1:46.67%, val_f1:41.03%\n",
      "\n",
      "Epoch 59 --> loss:1.1709, acc:60.50%, val_loss:1.4781, val_acc:48.44%  f1:80.00%, val_f1:42.51%\n",
      "\n",
      "Epoch 60 --> loss:1.1754, acc:60.57%, val_loss:1.0981, val_acc:62.50%  f1:51.43%, val_f1:56.86%\n",
      "\n",
      "Epoch 61 --> loss:1.1751, acc:60.45%, val_loss:1.0442, val_acc:62.50%  f1:75.00%, val_f1:59.19%\n",
      "\n",
      "Epoch 62 --> loss:1.1720, acc:60.52%, val_loss:1.2703, val_acc:56.25%  f1:51.43%, val_f1:51.34%\n",
      "\n",
      "Epoch 63 --> loss:1.1632, acc:60.87%, val_loss:1.1850, val_acc:62.50%  f1:28.00%, val_f1:54.11%\n",
      "\n",
      "Epoch 64 --> loss:1.1597, acc:61.02%, val_loss:1.2339, val_acc:53.12%  f1:13.33%, val_f1:45.54%\n",
      "\n",
      "Epoch 65 --> loss:1.1670, acc:60.85%, val_loss:1.2693, val_acc:53.12%  f1:30.00%, val_f1:46.12%\n",
      "\n",
      "Epoch 66 --> loss:1.1687, acc:60.92%, val_loss:1.2959, val_acc:57.81%  f1:52.00%, val_f1:51.85%\n",
      "\n",
      "Epoch 67 --> loss:1.1627, acc:60.84%, val_loss:1.2977, val_acc:51.56%  f1:71.43%, val_f1:46.65%\n",
      "\n",
      "Epoch 68 --> loss:1.1622, acc:61.06%, val_loss:1.2675, val_acc:54.69%  f1:51.43%, val_f1:48.03%\n",
      "\n",
      "Epoch 69 --> loss:1.1625, acc:60.87%, val_loss:1.2981, val_acc:54.69%  f1:36.00%, val_f1:46.00%\n",
      "\n",
      "Epoch 70 --> loss:1.1645, acc:61.10%, val_loss:1.2432, val_acc:57.81%  f1:20.00%, val_f1:51.93%\n",
      "\n",
      "Epoch 71 --> loss:1.1584, acc:61.12%, val_loss:1.4528, val_acc:48.44%  f1:60.00%, val_f1:41.58%\n",
      "\n",
      "Epoch 72 --> loss:1.1625, acc:61.04%, val_loss:1.2454, val_acc:57.81%  f1:68.57%, val_f1:52.15%\n",
      "\n",
      "Epoch 73 --> loss:1.1567, acc:61.08%, val_loss:1.0247, val_acc:67.19%  f1:26.67%, val_f1:58.96%\n",
      "\n",
      "Epoch 74 --> loss:1.1562, acc:61.24%, val_loss:1.2132, val_acc:62.50%  f1:88.57%, val_f1:56.28%\n",
      "\n",
      "Epoch 75 --> loss:1.1595, acc:61.01%, val_loss:1.1674, val_acc:59.38%  f1:30.00%, val_f1:55.44%\n",
      "\n",
      "Epoch 76 --> loss:1.1564, acc:61.32%, val_loss:1.3548, val_acc:53.12%  f1:52.00%, val_f1:46.17%\n",
      "\n",
      "Epoch 77 --> loss:1.1554, acc:61.27%, val_loss:1.1673, val_acc:62.50%  f1:71.43%, val_f1:56.05%\n",
      "\n",
      "Epoch 78 --> loss:1.1571, acc:60.87%, val_loss:1.0748, val_acc:67.19%  f1:8.00%, val_f1:59.16%\n",
      "\n",
      "Epoch 79 --> loss:1.1547, acc:61.06%, val_loss:1.1090, val_acc:62.50%  f1:60.00%, val_f1:55.99%\n",
      "\n",
      "Epoch 80 --> loss:1.1543, acc:61.40%, val_loss:1.3503, val_acc:56.25%  f1:34.67%, val_f1:49.90%\n",
      "\n",
      "Epoch 81 --> loss:1.1538, acc:61.35%, val_loss:1.2701, val_acc:56.25%  f1:68.57%, val_f1:52.76%\n",
      "\n",
      "Epoch 82 --> loss:1.1554, acc:61.02%, val_loss:1.3680, val_acc:45.31%  f1:38.00%, val_f1:37.94%\n",
      "\n",
      "Epoch 83 --> loss:1.1499, acc:61.33%, val_loss:1.1472, val_acc:62.50%  f1:53.33%, val_f1:55.11%\n",
      "\n",
      "Epoch 84 --> loss:1.1563, acc:61.26%, val_loss:1.3790, val_acc:59.38%  f1:52.00%, val_f1:50.96%\n",
      "\n",
      "Epoch 85 --> loss:1.1505, acc:61.45%, val_loss:1.0977, val_acc:62.50%  f1:34.29%, val_f1:56.23%\n",
      "\n",
      "Epoch 86 --> loss:1.1489, acc:61.47%, val_loss:1.2521, val_acc:54.69%  f1:60.00%, val_f1:49.41%\n",
      "\n",
      "Epoch 87 --> loss:1.1475, acc:61.22%, val_loss:1.1832, val_acc:60.94%  f1:86.67%, val_f1:55.11%\n",
      "\n",
      "Epoch 88 --> loss:1.1455, acc:61.48%, val_loss:1.2118, val_acc:56.25%  f1:71.43%, val_f1:48.54%\n",
      "\n",
      "Epoch 89 --> loss:1.1516, acc:61.17%, val_loss:1.2658, val_acc:53.12%  f1:30.00%, val_f1:47.10%\n",
      "\n",
      "Epoch 90 --> loss:1.1449, acc:61.74%, val_loss:1.3334, val_acc:51.56%  f1:56.67%, val_f1:44.70%\n",
      "\n",
      "Epoch 91 --> loss:1.1476, acc:61.55%, val_loss:1.2004, val_acc:48.44%  f1:68.57%, val_f1:42.07%\n",
      "\n",
      "Epoch 92 --> loss:1.1461, acc:61.68%, val_loss:1.2518, val_acc:60.94%  f1:50.00%, val_f1:53.99%\n",
      "\n",
      "Epoch 93 --> loss:1.1450, acc:61.42%, val_loss:1.4164, val_acc:50.00%  f1:36.00%, val_f1:45.13%\n",
      "\n",
      "Epoch 94 --> loss:1.1423, acc:61.55%, val_loss:1.2385, val_acc:53.12%  f1:71.43%, val_f1:47.39%\n",
      "\n",
      "Epoch 95 --> loss:1.1371, acc:61.82%, val_loss:1.2777, val_acc:56.25%  f1:100.00%, val_f1:50.93%\n",
      "\n",
      "Epoch 96 --> loss:1.1441, acc:61.70%, val_loss:1.0284, val_acc:65.62%  f1:72.00%, val_f1:61.16%\n",
      "\n",
      "Epoch 97 --> loss:1.1422, acc:61.74%, val_loss:1.1421, val_acc:60.94%  f1:68.57%, val_f1:56.38%\n",
      "\n",
      "Epoch 98 --> loss:1.1363, acc:61.97%, val_loss:1.3954, val_acc:51.56%  f1:32.00%, val_f1:47.64%\n",
      "\n",
      "Epoch 99 --> loss:1.1392, acc:61.31%, val_loss:1.2936, val_acc:53.12%  f1:32.00%, val_f1:48.20%\n",
      "\n",
      "Epoch 100 --> loss:1.1426, acc:61.76%, val_loss:1.2627, val_acc:57.81%  f1:60.00%, val_f1:52.54%\n",
      "\n",
      "Epoch 101 --> loss:1.1420, acc:61.62%, val_loss:1.2302, val_acc:57.81%  f1:8.00%, val_f1:51.91%\n",
      "\n",
      "Epoch 102 --> loss:1.1388, acc:61.81%, val_loss:1.2569, val_acc:56.25%  f1:29.33%, val_f1:50.28%\n",
      "\n",
      "Epoch 103 --> loss:1.1420, acc:61.72%, val_loss:1.3632, val_acc:50.00%  f1:24.00%, val_f1:43.75%\n",
      "\n",
      "Epoch 104 --> loss:1.1460, acc:61.36%, val_loss:1.0596, val_acc:70.31%  f1:58.67%, val_f1:65.02%\n",
      "\n",
      "Epoch 105 --> loss:1.1378, acc:61.92%, val_loss:1.3200, val_acc:46.88%  f1:40.00%, val_f1:40.15%\n",
      "\n",
      "Epoch 106 --> loss:1.1379, acc:61.51%, val_loss:1.1374, val_acc:64.06%  f1:80.00%, val_f1:55.16%\n",
      "\n",
      "Epoch 107 --> loss:1.1371, acc:62.04%, val_loss:1.1919, val_acc:60.94%  f1:52.00%, val_f1:55.43%\n",
      "\n",
      "Epoch 108 --> loss:1.1368, acc:61.66%, val_loss:1.2251, val_acc:62.50%  f1:30.00%, val_f1:55.93%\n",
      "\n",
      "Epoch 109 --> loss:1.1410, acc:61.92%, val_loss:1.3466, val_acc:51.56%  f1:52.00%, val_f1:42.62%\n",
      "\n",
      "Epoch 110 --> loss:1.1355, acc:61.99%, val_loss:1.2432, val_acc:60.94%  f1:60.00%, val_f1:55.21%\n",
      "\n",
      "Epoch 111 --> loss:1.1341, acc:61.88%, val_loss:1.2381, val_acc:57.81%  f1:13.33%, val_f1:50.77%\n",
      "\n",
      "Epoch 112 --> loss:1.1404, acc:61.74%, val_loss:1.2379, val_acc:59.38%  f1:100.00%, val_f1:54.00%\n",
      "\n",
      "Epoch 113 --> loss:1.1332, acc:62.01%, val_loss:1.3366, val_acc:51.56%  f1:80.00%, val_f1:44.99%\n",
      "\n",
      "Epoch 114 --> loss:1.1354, acc:61.71%, val_loss:1.2363, val_acc:56.25%  f1:46.67%, val_f1:49.13%\n",
      "\n",
      "Epoch 115 --> loss:1.1340, acc:61.87%, val_loss:1.2771, val_acc:51.56%  f1:51.43%, val_f1:45.67%\n",
      "\n",
      "Epoch 116 --> loss:1.1341, acc:62.26%, val_loss:1.1674, val_acc:59.38%  f1:36.00%, val_f1:52.51%\n",
      "\n",
      "Epoch 117 --> loss:1.1377, acc:61.97%, val_loss:1.5089, val_acc:46.88%  f1:34.67%, val_f1:38.54%\n",
      "\n",
      "Epoch 118 --> loss:1.1313, acc:61.95%, val_loss:1.0872, val_acc:60.94%  f1:45.71%, val_f1:53.83%\n",
      "\n",
      "Epoch 119 --> loss:1.1353, acc:62.11%, val_loss:1.2610, val_acc:53.12%  f1:53.33%, val_f1:47.51%\n",
      "\n",
      "Epoch 120 --> loss:1.1343, acc:62.16%, val_loss:1.2746, val_acc:59.38%  f1:56.67%, val_f1:51.29%\n"
     ]
    }
   ],
   "source": [
    "train_step = make_train_step(model, loss_fnc, optimizer=OPTIMIZER)\n",
    "validate = make_validate_fnc(model,loss_fnc)\n",
    "\n",
    "val_accs = []\n",
    "losses=[]\n",
    "val_losses = []\n",
    "f1s = []\n",
    "val_f1s= []\n",
    "epochs = 120\n",
    "best_val_f1 = 0\n",
    "\n",
    "\n",
    "for epoch in range(epochs):\n",
    "    epoch_acc = 0\n",
    "    epoch_loss = 0\n",
    "    epoch_f1 = 0\n",
    "    for idx, (features, labels) in enumerate(train_dataloader):\n",
    "        X, Y = features, labels\n",
    "        X_tensor = torch.tensor(X,device=device).float()\n",
    "        Y_tensor = torch.tensor(Y, dtype=torch.long,device=device)\n",
    "        loss, acc, f1= train_step(X_tensor,Y_tensor)\n",
    "        epoch_acc += acc*len(features)/len(train)\n",
    "        epoch_loss += loss*len(features)/len(train)\n",
    "        epoch_f1 += f1*len(features)/len(train)\n",
    "    for batch in val_dataloader:\n",
    "        X_val, Y_val = batch\n",
    "        break\n",
    "    X_val_tensor = torch.tensor(X_val,device=device).float()\n",
    "    Y_val_tensor = torch.tensor(Y_val,dtype=torch.long,device=device)\n",
    "    val_loss, val_acc, _, val_f1 = validate(X_val_tensor,Y_val_tensor)\n",
    "    val_accs.append(val_acc.cpu())\n",
    "    losses.append(epoch_loss)\n",
    "    val_losses.append(val_loss)\n",
    "    f1s.append(epoch_f1)\n",
    "    val_f1s.append(val_f1)\n",
    "    if val_f1 > best_val_f1:\n",
    "        torch.save(model.state_dict(), 'best-model-parameters.pt')\n",
    "        best_epoch = epoch\n",
    "        best_val_f1 = val_f1\n",
    "    \n",
    "    print('')\n",
    "    print(f\"Epoch {epoch+1} --> loss:{epoch_loss:.4f}, acc:{epoch_acc:.2f}%, val_loss:{val_loss:.4f}, val_acc:{val_acc:.2f}%  f1:{f1:.2f}%, val_f1:{val_f1:.2f}%\")"
   ]
  },
  {
   "cell_type": "code",
   "execution_count": 21,
   "metadata": {},
   "outputs": [
    {
     "name": "stdout",
     "output_type": "stream",
     "text": [
      "layers:  3\n",
      "model hidden dim:  128\n",
      "batch size:  64\n"
     ]
    },
    {
     "data": {
      "image/png": "[encoded data removed]",
      "text/plain": [
       "<Figure size 432x288 with 1 Axes>"
      ]
     },
     "metadata": {
      "needs_background": "light"
     },
     "output_type": "display_data"
    }
   ],
   "source": [
    "import matplotlib.pyplot as plt\n",
    "x = range(epochs)\n",
    "\n",
    "fig, ax = plt.subplots()\n",
    "ax.set_xlabel('epoch #')\n",
    "ax.set_ylabel('')\n",
    "ax.plot(x,np.divide(val_accs,100), label='val_acc')\n",
    "ax.plot(x,np.divide(val_f1s,100), label='val_f1')\n",
    "ax.plot(x, losses, label='loss')\n",
    "ax.plot(x, val_losses, label='val_loss')\n",
    "ax.scatter(best_epoch, best_val_f1/100)\n",
    "ax.plot(x, 0.7*np.ones(len(x)), '--', color=(0.1,0.1,0.1))\n",
    "ax.legend()\n",
    "print(\"layers: \", model.num_layers)\n",
    "print(\"model hidden dim: \", model.hidden_dim)\n",
    "print(\"batch size: \", train_dataloader.batch_size)\n",
    "\n"
   ]
  },
  {
   "cell_type": "code",
   "execution_count": 22,
   "metadata": {},
   "outputs": [
    {
     "data": {
      "text/plain": [
       "<All keys matched successfully>"
      ]
     },
     "execution_count": 22,
     "metadata": {},
     "output_type": "execute_result"
    }
   ],
   "source": [
    "\n",
    "model.load_state_dict(torch.load(\"best-model-parameters.pt\"))"
   ]
  },
  {
   "cell_type": "code",
   "execution_count": 23,
   "metadata": {},
   "outputs": [
    {
     "name": "stdout",
     "output_type": "stream",
     "text": [
      "0.556550646960082\n"
     ]
    }
   ],
   "source": [
    "\n",
    "test = TextDataset(test_annotations, test_bert)\n",
    "test_dataloader = DataLoader(test, batch_size=len(test), shuffle=True, drop_last=False)\n",
    "\n",
    "device = 'cpu'\n",
    "model.to(device)\n",
    "\n",
    "for idx, (features, labels) in enumerate(test_dataloader):\n",
    "    X, Y = features, labels\n",
    "    X_tensor = torch.tensor(X,device=device).float()\n",
    "    Y_tensor = torch.tensor(Y, dtype=torch.long,device=device)\n",
    "    output_logits = model(X)\n",
    "    predictions = torch.argmax(output_logits,dim=1)\n",
    "   \n",
    "    f1 = f1_score(Y.cpu(), predictions.cpu(), average='weighted')\n",
    "    \n",
    "print(f1)\n"
   ]
  },
  {
   "cell_type": "code",
   "execution_count": null,
   "metadata": {},
   "outputs": [],
   "source": []
  }
 ],
 "metadata": {
  "interpreter": {
   "hash": "d1342e48b91422693146d497b2a8030f014fedc60a9bc30ab582333e6e4c2682"
  },
  "kernelspec": {
   "display_name": "Python 3.9.1 64-bit",
   "language": "python",
   "name": "python3"
  },
  "language_info": {
   "codemirror_mode": {
    "name": "ipython",
    "version": 3
   },
   "file_extension": ".py",
   "mimetype": "text/x-python",
   "name": "python",
   "nbconvert_exporter": "python",
   "pygments_lexer": "ipython3",
   "version": "3.9.1"
  }
 },
 "nbformat": 4,
 "nbformat_minor": 2
}
