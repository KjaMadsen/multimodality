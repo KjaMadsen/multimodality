{
 "cells": [
  {
   "cell_type": "code",
   "execution_count": 1,
   "metadata": {},
   "outputs": [],
   "source": [
    "import warnings\n",
    "warnings.filterwarnings(\"ignore\")\n",
    "from dataset import TextDataset\n",
    "from torch.utils.data import DataLoader\n",
    "import torch.optim as optim\n",
    "from torch import nn\n",
    "import torch\n",
    "from model import LSTMnet_RnnAtten\n",
    "import numpy as np\n",
    "from sklearn.model_selection import train_test_split\n",
    "from sklearn.metrics import f1_score\n",
    "import pandas as pd"
   ]
  },
  {
   "cell_type": "code",
   "execution_count": 2,
   "metadata": {},
   "outputs": [
    {
     "name": "stdout",
     "output_type": "stream",
     "text": [
      "c:\\Users\\kjart\\OneDrive\\Dokumenter\\KU\\2. semester\\CogSci2\\research\\multimodal\\text_only\n"
     ]
    }
   ],
   "source": [
    "import os\n",
    "print(os.getcwd())\n",
    "\n",
    "train_annotations = '..\\\\data\\\\MELD\\\\train_sent_emo.csv'\n",
    "val_annotations = 'data\\MELD\\dev_sent_emo.csv'\n",
    "\n",
    "train_bert = 'embeddings\\\\bert_embeddings'\n",
    "#val_audio = '.\\\\data\\\\MELD\\\\audio\\\\wav_dev\\\\'\n"
   ]
  },
  {
   "cell_type": "code",
   "execution_count": 48,
   "metadata": {},
   "outputs": [],
   "source": [
    "train = TextDataset(train_annotations, train_bert)\n",
    "#val = AudioDataset(val_annotations, val_audio)\n",
    "\n",
    "train, val = train_test_split(train, test_size=0.2)\n",
    "\n",
    "train_dataloader = DataLoader(train, batch_size=64, shuffle = True, drop_last=False)\n",
    "val_dataloader = DataLoader(val, batch_size=64, shuffle=True, drop_last=False)\n",
    "train_features, train_labels = next(iter(train_dataloader))"
   ]
  },
  {
   "cell_type": "code",
   "execution_count": 49,
   "metadata": {},
   "outputs": [
    {
     "name": "stdout",
     "output_type": "stream",
     "text": [
      "Feature batch shape: torch.Size([64, 768])\n",
      "Labels batch shape: torch.Size([64])\n"
     ]
    },
    {
     "data": {
      "text/plain": [
       "(torch.Size([768]), tensor(6))"
      ]
     },
     "execution_count": 49,
     "metadata": {},
     "output_type": "execute_result"
    }
   ],
   "source": [
    "# Sanity check: Size should be [batch_size, num_features, feature_vector_len], [batch_size]\n",
    "# Where batch size is 32, num_features (num mfccs) is 40 \n",
    "train_features, train_labels = next(iter(train_dataloader))\n",
    "print(f\"Feature batch shape: {train_features.size()}\")\n",
    "print(f\"Labels batch shape: {train_labels.size()}\")\n",
    "features = train_features[0]\n",
    "label = train_labels[0]\n",
    "\n",
    "features.shape,label\n"
   ]
  },
  {
   "cell_type": "code",
   "execution_count": 50,
   "metadata": {},
   "outputs": [
    {
     "name": "stdout",
     "output_type": "stream",
     "text": [
      "torch.Size([64, 768]) torch.Size([64])\n"
     ]
    }
   ],
   "source": [
    "for batch in train_dataloader:\n",
    "    x, y = batch\n",
    "    print(x.shape, y.shape)\n",
    "    break"
   ]
  },
  {
   "cell_type": "code",
   "execution_count": 51,
   "metadata": {},
   "outputs": [],
   "source": [
    "def loss_fnc(predictions, targets):\n",
    "    return nn.CrossEntropyLoss()(input=predictions,target=targets)"
   ]
  },
  {
   "cell_type": "code",
   "execution_count": 52,
   "metadata": {},
   "outputs": [],
   "source": [
    "def make_train_step(model, loss_fnc, optimizer):\n",
    "    def train_step(X,Y):\n",
    "        # set model to train mode\n",
    "        model.train()\n",
    "        # forward pass\n",
    "        output_logits = model(X)\n",
    "        predictions = torch.argmax(output_logits,dim=1)\n",
    "        accuracy = torch.sum(Y==predictions)/float(len(Y))\n",
    "        # f1 = f1_score(Y, predictions, average='weighted')\n",
    "        # compute loss\n",
    "        loss = loss_fnc(output_logits, Y)\n",
    "        # compute gradients\n",
    "        loss.backward()\n",
    "        # update parameters and zero gradients\n",
    "        optimizer.step()\n",
    "        optimizer.zero_grad()\n",
    "        return loss.item(), accuracy*100 #, f1*100\n",
    "    return train_step"
   ]
  },
  {
   "cell_type": "code",
   "execution_count": 53,
   "metadata": {},
   "outputs": [],
   "source": [
    "def make_validate_fnc(model,loss_fnc):\n",
    "    def validate(X,Y):\n",
    "        with torch.no_grad():\n",
    "            model.eval()\n",
    "            output_logits = model(X)\n",
    "            predictions = torch.argmax(output_logits,dim=1)\n",
    "            accuracy = torch.sum(Y==predictions)/float(len(Y))\n",
    "            #f1 = f1_score(Y.cpu(), predictions.cpu(), average='weighted')\n",
    "            loss = loss_fnc(output_logits,Y)\n",
    "        return loss.item(), accuracy*100, predictions\n",
    "    return validate"
   ]
  },
  {
   "cell_type": "code",
   "execution_count": 88,
   "metadata": {},
   "outputs": [
    {
     "name": "stdout",
     "output_type": "stream",
     "text": [
      "Number of trainable params:  955911\n"
     ]
    }
   ],
   "source": [
    "device = 'cuda' if torch.cuda.is_available() else 'cpu'\n",
    "model = LSTMnet_RnnAtten(input_dim = 768, hidden_dim=128, output_dim=7, num_layers=3).to(device)\n",
    "print('Number of trainable params: ',sum(p.numel() for p in model.parameters()) )\n",
    "OPTIMIZER = torch.optim.AdamW(model.parameters(),lr=0.0001/2, weight_decay=1e-2)\n"
   ]
  },
  {
   "cell_type": "code",
   "execution_count": 89,
   "metadata": {
    "scrolled": true
   },
   "outputs": [
    {
     "name": "stdout",
     "output_type": "stream",
     "text": [
      "\n",
      "Epoch 1 --> loss:1.8631, acc:26.97%, val_loss:1.8214, val_acc:48.44%\n",
      "\n",
      "Epoch 2 --> loss:1.7149, acc:45.20%, val_loss:1.6988, val_acc:46.88%\n",
      "\n",
      "Epoch 3 --> loss:1.6315, acc:47.07%, val_loss:1.6467, val_acc:43.75%\n",
      "\n",
      "Epoch 4 --> loss:1.5910, acc:47.18%, val_loss:1.5960, val_acc:46.88%\n",
      "\n",
      "Epoch 5 --> loss:1.5747, acc:47.18%, val_loss:1.5629, val_acc:48.44%\n",
      "\n",
      "Epoch 6 --> loss:1.5637, acc:47.18%, val_loss:1.6380, val_acc:42.19%\n",
      "\n",
      "Epoch 7 --> loss:1.5587, acc:47.18%, val_loss:1.6212, val_acc:42.19%\n",
      "\n",
      "Epoch 8 --> loss:1.5571, acc:47.18%, val_loss:1.6505, val_acc:50.00%\n",
      "\n",
      "Epoch 9 --> loss:1.5521, acc:47.18%, val_loss:1.7114, val_acc:40.62%\n",
      "\n",
      "Epoch 10 --> loss:1.5465, acc:47.18%, val_loss:1.6049, val_acc:42.19%\n",
      "\n",
      "Epoch 11 --> loss:1.5466, acc:47.18%, val_loss:1.5678, val_acc:45.31%\n",
      "\n",
      "Epoch 12 --> loss:1.5356, acc:47.18%, val_loss:1.5426, val_acc:50.00%\n",
      "\n",
      "Epoch 13 --> loss:1.5368, acc:47.18%, val_loss:1.5813, val_acc:46.88%\n",
      "\n",
      "Epoch 14 --> loss:1.5261, acc:47.18%, val_loss:1.6421, val_acc:46.88%\n",
      "\n",
      "Epoch 15 --> loss:1.5153, acc:47.18%, val_loss:1.7345, val_acc:37.50%\n",
      "\n",
      "Epoch 16 --> loss:1.5007, acc:47.19%, val_loss:1.3533, val_acc:57.81%\n",
      "\n",
      "Epoch 17 --> loss:1.4950, acc:47.18%, val_loss:1.6214, val_acc:31.25%\n",
      "\n",
      "Epoch 18 --> loss:1.4756, acc:47.28%, val_loss:1.5082, val_acc:40.62%\n",
      "\n",
      "Epoch 19 --> loss:1.4577, acc:47.54%, val_loss:1.4797, val_acc:46.88%\n",
      "\n",
      "Epoch 20 --> loss:1.4516, acc:47.74%, val_loss:1.3605, val_acc:45.31%\n",
      "\n",
      "Epoch 21 --> loss:1.4312, acc:48.32%, val_loss:1.5065, val_acc:37.50%\n",
      "\n",
      "Epoch 22 --> loss:1.4117, acc:49.74%, val_loss:1.3525, val_acc:56.25%\n",
      "\n",
      "Epoch 23 --> loss:1.4028, acc:50.29%, val_loss:1.4664, val_acc:53.12%\n",
      "\n",
      "Epoch 24 --> loss:1.3936, acc:50.86%, val_loss:1.2746, val_acc:59.38%\n",
      "\n",
      "Epoch 25 --> loss:1.3845, acc:51.63%, val_loss:1.3541, val_acc:54.69%\n",
      "\n",
      "Epoch 26 --> loss:1.3645, acc:52.91%, val_loss:1.5253, val_acc:45.31%\n",
      "\n",
      "Epoch 27 --> loss:1.3613, acc:52.91%, val_loss:1.4341, val_acc:48.44%\n",
      "\n",
      "Epoch 28 --> loss:1.3434, acc:53.70%, val_loss:1.4041, val_acc:45.31%\n",
      "\n",
      "Epoch 29 --> loss:1.3339, acc:54.52%, val_loss:1.3324, val_acc:59.38%\n",
      "\n",
      "Epoch 30 --> loss:1.3306, acc:54.57%, val_loss:0.9899, val_acc:70.31%\n",
      "\n",
      "Epoch 31 --> loss:1.3268, acc:55.12%, val_loss:1.3523, val_acc:54.69%\n",
      "\n",
      "Epoch 32 --> loss:1.3174, acc:55.45%, val_loss:1.1719, val_acc:59.38%\n",
      "\n",
      "Epoch 33 --> loss:1.3104, acc:55.46%, val_loss:1.2755, val_acc:57.81%\n",
      "\n",
      "Epoch 34 --> loss:1.2977, acc:55.99%, val_loss:1.1103, val_acc:60.94%\n",
      "\n",
      "Epoch 35 --> loss:1.2924, acc:56.15%, val_loss:1.3580, val_acc:51.56%\n",
      "\n",
      "Epoch 36 --> loss:1.2905, acc:56.51%, val_loss:1.1620, val_acc:62.50%\n",
      "\n",
      "Epoch 37 --> loss:1.2821, acc:57.14%, val_loss:1.2705, val_acc:53.12%\n",
      "\n",
      "Epoch 38 --> loss:1.2777, acc:57.19%, val_loss:1.3708, val_acc:51.56%\n",
      "\n",
      "Epoch 39 --> loss:1.2759, acc:57.08%, val_loss:1.3340, val_acc:56.25%\n",
      "\n",
      "Epoch 40 --> loss:1.2700, acc:57.69%, val_loss:1.3997, val_acc:53.12%\n",
      "\n",
      "Epoch 41 --> loss:1.2668, acc:57.59%, val_loss:1.2982, val_acc:59.38%\n",
      "\n",
      "Epoch 42 --> loss:1.2563, acc:58.17%, val_loss:1.0481, val_acc:70.31%\n",
      "\n",
      "Epoch 43 --> loss:1.2512, acc:58.20%, val_loss:1.1013, val_acc:62.50%\n",
      "\n",
      "Epoch 44 --> loss:1.2476, acc:57.73%, val_loss:1.2324, val_acc:59.38%\n",
      "\n",
      "Epoch 45 --> loss:1.2443, acc:58.25%, val_loss:1.4211, val_acc:50.00%\n",
      "\n",
      "Epoch 46 --> loss:1.2419, acc:58.70%, val_loss:1.3608, val_acc:53.12%\n",
      "\n",
      "Epoch 47 --> loss:1.2321, acc:58.52%, val_loss:1.3505, val_acc:51.56%\n",
      "\n",
      "Epoch 48 --> loss:1.2336, acc:58.40%, val_loss:1.0412, val_acc:71.88%\n",
      "\n",
      "Epoch 49 --> loss:1.2277, acc:58.70%, val_loss:1.1462, val_acc:64.06%\n",
      "\n",
      "Epoch 50 --> loss:1.2228, acc:59.38%, val_loss:1.2272, val_acc:54.69%\n",
      "\n",
      "Epoch 51 --> loss:1.2059, acc:59.30%, val_loss:1.1297, val_acc:62.50%\n",
      "\n",
      "Epoch 52 --> loss:1.2168, acc:59.25%, val_loss:1.2118, val_acc:62.50%\n",
      "\n",
      "Epoch 53 --> loss:1.2175, acc:59.37%, val_loss:1.0012, val_acc:64.06%\n",
      "\n",
      "Epoch 54 --> loss:1.2066, acc:59.22%, val_loss:1.0283, val_acc:65.62%\n",
      "\n",
      "Epoch 55 --> loss:1.2024, acc:59.37%, val_loss:1.1686, val_acc:57.81%\n",
      "\n",
      "Epoch 56 --> loss:1.2075, acc:59.52%, val_loss:1.2481, val_acc:59.38%\n",
      "\n",
      "Epoch 57 --> loss:1.1929, acc:60.31%, val_loss:1.2743, val_acc:51.56%\n",
      "\n",
      "Epoch 58 --> loss:1.1930, acc:59.89%, val_loss:1.2554, val_acc:54.69%\n",
      "\n",
      "Epoch 59 --> loss:1.1966, acc:59.97%, val_loss:1.0738, val_acc:68.75%\n",
      "\n",
      "Epoch 60 --> loss:1.1886, acc:60.28%, val_loss:1.1368, val_acc:62.50%\n",
      "\n",
      "Epoch 61 --> loss:1.1907, acc:60.26%, val_loss:1.0477, val_acc:64.06%\n",
      "\n",
      "Epoch 62 --> loss:1.1746, acc:60.83%, val_loss:1.2752, val_acc:59.38%\n",
      "\n",
      "Epoch 63 --> loss:1.1767, acc:60.53%, val_loss:1.4948, val_acc:50.00%\n",
      "\n",
      "Epoch 64 --> loss:1.1790, acc:60.13%, val_loss:1.2887, val_acc:54.69%\n",
      "\n",
      "Epoch 65 --> loss:1.1726, acc:60.97%, val_loss:0.9886, val_acc:68.75%\n",
      "\n",
      "Epoch 66 --> loss:1.1715, acc:61.09%, val_loss:1.2755, val_acc:57.81%\n",
      "\n",
      "Epoch 67 --> loss:1.1719, acc:60.44%, val_loss:1.4632, val_acc:54.69%\n",
      "\n",
      "Epoch 68 --> loss:1.1607, acc:60.99%, val_loss:0.9789, val_acc:70.31%\n",
      "\n",
      "Epoch 69 --> loss:1.1616, acc:60.63%, val_loss:1.3667, val_acc:51.56%\n",
      "\n",
      "Epoch 70 --> loss:1.1581, acc:60.94%, val_loss:1.2695, val_acc:59.38%\n",
      "\n",
      "Epoch 71 --> loss:1.1622, acc:60.99%, val_loss:1.0069, val_acc:73.44%\n",
      "\n",
      "Epoch 72 --> loss:1.1514, acc:60.99%, val_loss:1.1294, val_acc:60.94%\n",
      "\n",
      "Epoch 73 --> loss:1.1511, acc:61.28%, val_loss:1.0541, val_acc:64.06%\n",
      "\n",
      "Epoch 74 --> loss:1.1471, acc:61.39%, val_loss:1.1592, val_acc:62.50%\n",
      "\n",
      "Epoch 75 --> loss:1.1396, acc:61.66%, val_loss:1.1265, val_acc:64.06%\n",
      "\n",
      "Epoch 76 --> loss:1.1357, acc:61.41%, val_loss:0.8806, val_acc:73.44%\n",
      "\n",
      "Epoch 77 --> loss:1.1437, acc:61.61%, val_loss:1.1762, val_acc:59.38%\n",
      "\n",
      "Epoch 78 --> loss:1.1393, acc:61.92%, val_loss:1.2250, val_acc:62.50%\n",
      "\n",
      "Epoch 79 --> loss:1.1393, acc:61.72%, val_loss:1.3225, val_acc:51.56%\n",
      "\n",
      "Epoch 80 --> loss:1.1294, acc:62.17%, val_loss:1.1976, val_acc:56.25%\n",
      "\n",
      "Epoch 81 --> loss:1.1296, acc:61.94%, val_loss:1.1876, val_acc:57.81%\n",
      "\n",
      "Epoch 82 --> loss:1.1283, acc:61.93%, val_loss:1.1617, val_acc:62.50%\n",
      "\n",
      "Epoch 83 --> loss:1.1199, acc:62.52%, val_loss:1.1936, val_acc:64.06%\n",
      "\n",
      "Epoch 84 --> loss:1.1198, acc:62.96%, val_loss:1.1781, val_acc:60.94%\n",
      "\n",
      "Epoch 85 --> loss:1.1127, acc:62.07%, val_loss:1.0596, val_acc:64.06%\n",
      "\n",
      "Epoch 86 --> loss:1.1123, acc:62.56%, val_loss:1.0895, val_acc:64.06%\n",
      "\n",
      "Epoch 87 --> loss:1.1105, acc:62.55%, val_loss:1.2489, val_acc:59.38%\n",
      "\n",
      "Epoch 88 --> loss:1.1142, acc:62.43%, val_loss:1.2746, val_acc:59.38%\n",
      "\n",
      "Epoch 89 --> loss:1.1001, acc:63.16%, val_loss:1.2250, val_acc:57.81%\n",
      "\n",
      "Epoch 90 --> loss:1.1072, acc:63.02%, val_loss:1.4284, val_acc:53.12%\n",
      "\n",
      "Epoch 91 --> loss:1.1009, acc:62.78%, val_loss:1.3861, val_acc:62.50%\n",
      "\n",
      "Epoch 92 --> loss:1.0870, acc:63.80%, val_loss:1.1707, val_acc:54.69%\n",
      "\n",
      "Epoch 93 --> loss:1.0972, acc:63.30%, val_loss:1.2067, val_acc:57.81%\n",
      "\n",
      "Epoch 94 --> loss:1.0922, acc:63.52%, val_loss:1.2794, val_acc:62.50%\n",
      "\n",
      "Epoch 95 --> loss:1.0887, acc:63.38%, val_loss:1.2490, val_acc:62.50%\n",
      "\n",
      "Epoch 96 --> loss:1.0850, acc:63.28%, val_loss:1.1062, val_acc:60.94%\n",
      "\n",
      "Epoch 97 --> loss:1.0869, acc:63.45%, val_loss:1.1346, val_acc:62.50%\n",
      "\n",
      "Epoch 98 --> loss:1.0752, acc:63.73%, val_loss:1.4321, val_acc:46.88%\n",
      "\n",
      "Epoch 99 --> loss:1.0787, acc:63.57%, val_loss:1.1960, val_acc:65.62%\n",
      "\n",
      "Epoch 100 --> loss:1.0699, acc:64.40%, val_loss:1.0671, val_acc:68.75%\n",
      "\n",
      "Epoch 101 --> loss:1.0691, acc:63.92%, val_loss:1.1737, val_acc:62.50%\n",
      "\n",
      "Epoch 102 --> loss:1.0613, acc:64.01%, val_loss:1.0295, val_acc:65.62%\n",
      "\n",
      "Epoch 103 --> loss:1.0663, acc:63.83%, val_loss:1.0851, val_acc:64.06%\n",
      "\n",
      "Epoch 104 --> loss:1.0620, acc:64.35%, val_loss:1.5110, val_acc:48.44%\n",
      "\n",
      "Epoch 105 --> loss:1.0640, acc:64.25%, val_loss:1.0204, val_acc:65.62%\n",
      "\n",
      "Epoch 106 --> loss:1.0560, acc:64.86%, val_loss:1.1518, val_acc:67.19%\n",
      "\n",
      "Epoch 107 --> loss:1.0375, acc:64.74%, val_loss:1.2057, val_acc:64.06%\n",
      "\n",
      "Epoch 108 --> loss:1.0555, acc:64.23%, val_loss:1.4272, val_acc:57.81%\n",
      "\n",
      "Epoch 109 --> loss:1.0414, acc:64.72%, val_loss:0.9628, val_acc:67.19%\n",
      "\n",
      "Epoch 110 --> loss:1.0426, acc:64.92%, val_loss:1.2265, val_acc:62.50%\n",
      "\n",
      "Epoch 111 --> loss:1.0381, acc:65.31%, val_loss:1.1141, val_acc:65.62%\n",
      "\n",
      "Epoch 112 --> loss:1.0397, acc:65.84%, val_loss:1.4288, val_acc:51.56%\n",
      "\n",
      "Epoch 113 --> loss:1.0303, acc:65.52%, val_loss:1.2717, val_acc:56.25%\n",
      "\n",
      "Epoch 114 --> loss:1.0254, acc:65.36%, val_loss:0.9899, val_acc:76.56%\n",
      "\n",
      "Epoch 115 --> loss:1.0222, acc:65.66%, val_loss:1.2695, val_acc:62.50%\n",
      "\n",
      "Epoch 116 --> loss:1.0255, acc:65.61%, val_loss:0.9548, val_acc:68.75%\n",
      "\n",
      "Epoch 117 --> loss:1.0179, acc:65.70%, val_loss:1.2908, val_acc:57.81%\n",
      "\n",
      "Epoch 118 --> loss:1.0191, acc:65.71%, val_loss:1.4212, val_acc:51.56%\n",
      "\n",
      "Epoch 119 --> loss:1.0119, acc:65.95%, val_loss:1.2420, val_acc:59.38%\n",
      "\n",
      "Epoch 120 --> loss:1.0174, acc:65.32%, val_loss:1.1050, val_acc:62.50%\n"
     ]
    }
   ],
   "source": [
    "train_step = make_train_step(model, loss_fnc, optimizer=OPTIMIZER)\n",
    "validate = make_validate_fnc(model,loss_fnc)\n",
    "\n",
    "val_accs = []\n",
    "losses=[]\n",
    "val_losses = []\n",
    "f1s = []\n",
    "val_f1s= []\n",
    "epochs = 120\n",
    "for epoch in range(epochs):\n",
    "    epoch_acc = 0\n",
    "    epoch_loss = 0\n",
    "    epoch_f1 = 0\n",
    "    for idx, (features, labels) in enumerate(train_dataloader):\n",
    "        X, Y = features, labels\n",
    "        X_tensor = torch.tensor(X,device=device).float()\n",
    "        Y_tensor = torch.tensor(Y, dtype=torch.long,device=device)\n",
    "        loss, acc= train_step(X_tensor,Y_tensor)\n",
    "        epoch_acc += acc*len(features)/len(train)\n",
    "        epoch_loss += loss*len(features)/len(train)\n",
    "        # epoch_f1 += f1*len(features)/len(train)\n",
    "    for batch in val_dataloader:\n",
    "        X_val, Y_val = batch\n",
    "        break\n",
    "    X_val_tensor = torch.tensor(X_val,device=device).float()\n",
    "    Y_val_tensor = torch.tensor(Y_val,dtype=torch.long,device=device)\n",
    "    val_loss, val_acc, _ = validate(X_val_tensor,Y_val_tensor)\n",
    "    val_accs.append(val_acc.cpu())\n",
    "    losses.append(epoch_loss)\n",
    "    val_losses.append(val_loss)\n",
    "    # f1s.append(epoch_f1)\n",
    "    # val_f1s.append(val_f1)\n",
    "    print('')\n",
    "    print(f\"Epoch {epoch+1} --> loss:{epoch_loss:.4f}, acc:{epoch_acc:.2f}%, val_loss:{val_loss:.4f}, val_acc:{val_acc:.2f}%\") # f1:{f1:.2f}%, val_f1:{val_f1:.2f}%"
   ]
  },
  {
   "cell_type": "code",
   "execution_count": 91,
   "metadata": {},
   "outputs": [
    {
     "name": "stdout",
     "output_type": "stream",
     "text": [
      "layers:  4\n",
      "model hidden dim:  128\n",
      "batch size:  64\n"
     ]
    },
    {
     "data": {
      "image/png": "[encoded data removed]",
      "text/plain": [
       "<Figure size 432x288 with 1 Axes>"
      ]
     },
     "metadata": {
      "needs_background": "light"
     },
     "output_type": "display_data"
    }
   ],
   "source": [
    "import matplotlib.pyplot as plt\n",
    "x = range(epochs)\n",
    "\n",
    "fig, ax = plt.subplots()\n",
    "ax.set_xlabel('epoch #')\n",
    "ax.set_ylabel('')\n",
    "ax.plot(x,np.divide(val_accs,100), label='val_acc')\n",
    "ax.plot(x, losses, label='loss')\n",
    "ax.plot(x, val_losses, label='val_loss')\n",
    "ax.plot(x, 0.7*np.ones(len(x)), '--')\n",
    "ax.legend()\n",
    "print(\"layers: \", model.num_layers)\n",
    "print(\"model hidden dim: \", model.hidden_dim)\n",
    "print(\"batch size: \", train_dataloader.batch_size)\n",
    "\n"
   ]
  },
  {
   "cell_type": "code",
   "execution_count": null,
   "metadata": {},
   "outputs": [],
   "source": []
  }
 ],
 "metadata": {
  "interpreter": {
   "hash": "d1342e48b91422693146d497b2a8030f014fedc60a9bc30ab582333e6e4c2682"
  },
  "kernelspec": {
   "display_name": "Python 3.9.1 64-bit",
   "language": "python",
   "name": "python3"
  },
  "language_info": {
   "codemirror_mode": {
    "name": "ipython",
    "version": 3
   },
   "file_extension": ".py",
   "mimetype": "text/x-python",
   "name": "python",
   "nbconvert_exporter": "python",
   "pygments_lexer": "ipython3",
   "version": "3.9.1"
  }
 },
 "nbformat": 4,
 "nbformat_minor": 2
}
