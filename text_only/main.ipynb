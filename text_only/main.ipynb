{
 "cells": [
  {
   "cell_type": "code",
   "execution_count": 1,
   "metadata": {},
   "outputs": [],
   "source": [
    "import warnings\n",
    "warnings.filterwarnings(\"ignore\")\n",
    "from dataset import TextDataset\n",
    "from torch.utils.data import DataLoader\n",
    "import torch.optim as optim\n",
    "from torch import nn\n",
    "import torch\n",
    "from model import LSTMnet_RnnAtten\n",
    "import numpy as np\n",
    "from sklearn.model_selection import train_test_split\n",
    "from sklearn.metrics import f1_score\n",
    "import pandas as pd"
   ]
  },
  {
   "cell_type": "code",
   "execution_count": 2,
   "metadata": {},
   "outputs": [
    {
     "name": "stdout",
     "output_type": "stream",
     "text": [
      "c:\\Users\\kjart\\OneDrive\\Dokumenter\\KU\\2. semester\\CogSci2\\research\\multimodal\\text_only\n"
     ]
    }
   ],
   "source": [
    "import os\n",
    "print(os.getcwd())\n",
    "\n",
    "train_annotations = '..\\\\data\\\\MELD\\\\train_sent_emo.csv'\n",
    "val_annotations = '..\\\\data\\\\\\MELD\\\\dev_sent_emo.csv'\n",
    "test_annotations = '..\\\\data\\\\MELD\\\\test_sent_emo.csv'\n",
    "\n",
    "train_bert = 'embeddings\\\\bert_embeddings'\n",
    "val_bert = 'embeddings\\\\bert_embeddings_val'\n",
    "test_bert = 'embeddings\\\\bert_embeddings_test'\n"
   ]
  },
  {
   "cell_type": "code",
   "execution_count": 3,
   "metadata": {},
   "outputs": [],
   "source": [
    "train = TextDataset(train_annotations, train_bert)\n",
    "val = TextDataset(val_annotations, val_bert)\n",
    "\n",
    "# train, val = train_test_split(train, test_size=0.2)\n",
    "\n",
    "train_dataloader = DataLoader(train, batch_size=64, shuffle = True, drop_last=False)\n",
    "val_dataloader = DataLoader(val, batch_size=64, shuffle=True, drop_last=False)\n",
    "train_features, train_labels = next(iter(train_dataloader))"
   ]
  },
  {
   "cell_type": "code",
   "execution_count": 4,
   "metadata": {},
   "outputs": [
    {
     "name": "stdout",
     "output_type": "stream",
     "text": [
      "Feature batch shape: torch.Size([64, 768])\n",
      "Labels batch shape: torch.Size([64])\n"
     ]
    },
    {
     "data": {
      "text/plain": [
       "(torch.Size([768]), tensor(4))"
      ]
     },
     "execution_count": 4,
     "metadata": {},
     "output_type": "execute_result"
    }
   ],
   "source": [
    "# Sanity check: Size should be [batch_size, num_features, feature_vector_len], [batch_size]\n",
    "# Where batch size is 32, num_features (num mfccs) is 40 \n",
    "train_features, train_labels = next(iter(train_dataloader))\n",
    "print(f\"Feature batch shape: {train_features.size()}\")\n",
    "print(f\"Labels batch shape: {train_labels.size()}\")\n",
    "features = train_features[0]\n",
    "label = train_labels[0]\n",
    "\n",
    "features.shape,label\n"
   ]
  },
  {
   "cell_type": "code",
   "execution_count": 15,
   "metadata": {},
   "outputs": [
    {
     "name": "stdout",
     "output_type": "stream",
     "text": [
      "torch.Size([64, 768]) torch.Size([64])\n"
     ]
    }
   ],
   "source": [
    "for batch in train_dataloader:\n",
    "    x, y = batch\n",
    "    print(x.shape, y.shape)\n",
    "    break"
   ]
  },
  {
   "cell_type": "code",
   "execution_count": 6,
   "metadata": {},
   "outputs": [],
   "source": [
    "def loss_fnc(predictions, targets):\n",
    "    return nn.CrossEntropyLoss()(input=predictions,target=targets)"
   ]
  },
  {
   "cell_type": "code",
   "execution_count": 7,
   "metadata": {},
   "outputs": [],
   "source": [
    "def make_train_step(model, loss_fnc, optimizer):\n",
    "    def train_step(X,Y):\n",
    "        # set model to train mode\n",
    "        model.train()\n",
    "        # forward pass\n",
    "        output_logits = model(X)\n",
    "        predictions = torch.argmax(output_logits,dim=1)\n",
    "        accuracy = torch.sum(Y==predictions)/float(len(Y))\n",
    "        f1 = f1_score(Y.cpu(), predictions.cpu(), average='weighted')\n",
    "        # compute loss\n",
    "        loss = loss_fnc(output_logits, Y)\n",
    "        # compute gradients\n",
    "        loss.backward()\n",
    "        # update parameters and zero gradients\n",
    "        optimizer.step()\n",
    "        optimizer.zero_grad()\n",
    "        return loss.item(), accuracy*100 , f1*100\n",
    "    return train_step"
   ]
  },
  {
   "cell_type": "code",
   "execution_count": 8,
   "metadata": {},
   "outputs": [],
   "source": [
    "def make_validate_fnc(model,loss_fnc):\n",
    "    def validate(X,Y):\n",
    "        with torch.no_grad():\n",
    "            model.eval()\n",
    "            output_logits = model(X)\n",
    "            predictions = torch.argmax(output_logits,dim=1)\n",
    "            accuracy = torch.sum(Y==predictions)/float(len(Y))\n",
    "            f1 = f1_score(Y.cpu(), predictions.cpu(), average='weighted')\n",
    "            loss = loss_fnc(output_logits,Y)\n",
    "        return loss.item(), accuracy*100, predictions, f1*100\n",
    "    return validate"
   ]
  },
  {
   "cell_type": "code",
   "execution_count": 9,
   "metadata": {},
   "outputs": [
    {
     "name": "stdout",
     "output_type": "stream",
     "text": [
      "Number of trainable params:  823815\n"
     ]
    }
   ],
   "source": [
    "device = 'cuda' if torch.cuda.is_available() else 'cpu'\n",
    "model = LSTMnet_RnnAtten(input_dim = 768, hidden_dim=128, output_dim=7, num_layers=3).to(device)\n",
    "print('Number of trainable params: ',sum(p.numel() for p in model.parameters()) )\n",
    "OPTIMIZER = torch.optim.Adam(model.parameters(),lr=0.0001/2, weight_decay=1e-2)\n"
   ]
  },
  {
   "cell_type": "code",
   "execution_count": 10,
   "metadata": {
    "scrolled": true
   },
   "outputs": [
    {
     "name": "stdout",
     "output_type": "stream",
     "text": [
      "\n",
      "Epoch 1 --> loss:1.8556, acc:29.61%, val_loss:1.8070, val_acc:43.75%  f1:26.67%, val_f1:27.88%\n",
      "\n",
      "Epoch 2 --> loss:1.7050, acc:45.31%, val_loss:1.7461, val_acc:35.94%  f1:22.86%, val_f1:19.00%\n",
      "\n",
      "Epoch 3 --> loss:1.6102, acc:47.12%, val_loss:1.6901, val_acc:42.19%  f1:45.00%, val_f1:25.03%\n",
      "\n",
      "Epoch 4 --> loss:1.5681, acc:47.08%, val_loss:1.7205, val_acc:39.06%  f1:71.11%, val_f1:21.95%\n",
      "\n",
      "Epoch 5 --> loss:1.5469, acc:47.27%, val_loss:1.6759, val_acc:45.31%  f1:22.86%, val_f1:28.26%\n",
      "\n",
      "Epoch 6 --> loss:1.5258, acc:47.20%, val_loss:1.5223, val_acc:45.31%  f1:51.43%, val_f1:28.26%\n",
      "\n",
      "Epoch 7 --> loss:1.5054, acc:47.26%, val_loss:1.5886, val_acc:45.31%  f1:22.86%, val_f1:31.09%\n",
      "\n",
      "Epoch 8 --> loss:1.4790, acc:47.77%, val_loss:1.6003, val_acc:40.62%  f1:56.67%, val_f1:25.58%\n",
      "\n",
      "Epoch 9 --> loss:1.4578, acc:48.34%, val_loss:1.4147, val_acc:51.56%  f1:6.67%, val_f1:39.55%\n",
      "\n",
      "Epoch 10 --> loss:1.4338, acc:49.62%, val_loss:1.6746, val_acc:34.38%  f1:10.00%, val_f1:19.28%\n",
      "\n",
      "Epoch 11 --> loss:1.4054, acc:51.10%, val_loss:1.5725, val_acc:42.19%  f1:46.67%, val_f1:28.82%\n",
      "\n",
      "Epoch 12 --> loss:1.3823, acc:51.86%, val_loss:1.4288, val_acc:51.56%  f1:71.43%, val_f1:44.57%\n",
      "\n",
      "Epoch 13 --> loss:1.3672, acc:52.52%, val_loss:1.5715, val_acc:46.88%  f1:0.00%, val_f1:37.89%\n",
      "\n",
      "Epoch 14 --> loss:1.3423, acc:54.02%, val_loss:1.4433, val_acc:43.75%  f1:6.67%, val_f1:36.02%\n",
      "\n",
      "Epoch 15 --> loss:1.3376, acc:54.56%, val_loss:1.2692, val_acc:53.12%  f1:51.43%, val_f1:46.13%\n",
      "\n",
      "Epoch 16 --> loss:1.3214, acc:55.04%, val_loss:1.4851, val_acc:43.75%  f1:60.00%, val_f1:32.75%\n",
      "\n",
      "Epoch 17 --> loss:1.3097, acc:55.62%, val_loss:1.5860, val_acc:42.19%  f1:53.33%, val_f1:32.35%\n",
      "\n",
      "Epoch 18 --> loss:1.2900, acc:56.34%, val_loss:1.2966, val_acc:56.25%  f1:52.00%, val_f1:48.16%\n",
      "\n",
      "Epoch 19 --> loss:1.2849, acc:56.37%, val_loss:1.4288, val_acc:50.00%  f1:28.00%, val_f1:40.71%\n",
      "\n",
      "Epoch 20 --> loss:1.2762, acc:56.63%, val_loss:1.3289, val_acc:48.44%  f1:88.89%, val_f1:40.40%\n",
      "\n",
      "Epoch 21 --> loss:1.2692, acc:57.35%, val_loss:1.1360, val_acc:67.19%  f1:45.33%, val_f1:62.01%\n",
      "\n",
      "Epoch 22 --> loss:1.2596, acc:57.38%, val_loss:1.1226, val_acc:62.50%  f1:51.43%, val_f1:55.24%\n",
      "\n",
      "Epoch 23 --> loss:1.2549, acc:57.23%, val_loss:1.1526, val_acc:59.38%  f1:26.67%, val_f1:54.13%\n",
      "\n",
      "Epoch 24 --> loss:1.2515, acc:58.00%, val_loss:1.4074, val_acc:50.00%  f1:13.33%, val_f1:41.92%\n",
      "\n",
      "Epoch 25 --> loss:1.2462, acc:58.06%, val_loss:1.2806, val_acc:60.94%  f1:100.00%, val_f1:54.68%\n",
      "\n",
      "Epoch 26 --> loss:1.2391, acc:58.45%, val_loss:1.2767, val_acc:60.94%  f1:6.67%, val_f1:53.85%\n",
      "\n",
      "Epoch 27 --> loss:1.2395, acc:58.22%, val_loss:1.2085, val_acc:64.06%  f1:20.00%, val_f1:57.68%\n",
      "\n",
      "Epoch 28 --> loss:1.2316, acc:58.18%, val_loss:1.3953, val_acc:54.69%  f1:52.00%, val_f1:49.45%\n",
      "\n",
      "Epoch 29 --> loss:1.2315, acc:58.21%, val_loss:1.2457, val_acc:54.69%  f1:8.00%, val_f1:47.31%\n",
      "\n",
      "Epoch 30 --> loss:1.2281, acc:58.48%, val_loss:1.3910, val_acc:46.88%  f1:45.33%, val_f1:42.47%\n",
      "\n",
      "Epoch 31 --> loss:1.2243, acc:58.57%, val_loss:1.4319, val_acc:43.75%  f1:100.00%, val_f1:34.58%\n",
      "\n",
      "Epoch 32 --> loss:1.2222, acc:59.06%, val_loss:1.2634, val_acc:51.56%  f1:28.00%, val_f1:45.56%\n",
      "\n",
      "Epoch 33 --> loss:1.2147, acc:58.95%, val_loss:1.2086, val_acc:59.38%  f1:0.00%, val_f1:52.76%\n",
      "\n",
      "Epoch 34 --> loss:1.2154, acc:58.99%, val_loss:1.1461, val_acc:60.94%  f1:44.00%, val_f1:54.04%\n",
      "\n",
      "Epoch 35 --> loss:1.2097, acc:59.37%, val_loss:1.2198, val_acc:65.62%  f1:71.43%, val_f1:60.54%\n",
      "\n",
      "Epoch 36 --> loss:1.2137, acc:59.25%, val_loss:1.3930, val_acc:54.69%  f1:51.43%, val_f1:46.96%\n",
      "\n",
      "Epoch 37 --> loss:1.2085, acc:59.31%, val_loss:1.2721, val_acc:57.81%  f1:46.67%, val_f1:51.40%\n",
      "\n",
      "Epoch 38 --> loss:1.2025, acc:59.34%, val_loss:1.3763, val_acc:54.69%  f1:16.00%, val_f1:47.96%\n",
      "\n",
      "Epoch 39 --> loss:1.1970, acc:59.81%, val_loss:1.2799, val_acc:57.81%  f1:80.00%, val_f1:50.78%\n",
      "\n",
      "Epoch 40 --> loss:1.2036, acc:59.14%, val_loss:1.0285, val_acc:67.19%  f1:50.00%, val_f1:59.15%\n",
      "\n",
      "Epoch 41 --> loss:1.1984, acc:59.60%, val_loss:1.2684, val_acc:56.25%  f1:29.33%, val_f1:48.72%\n",
      "\n",
      "Epoch 42 --> loss:1.1951, acc:59.69%, val_loss:1.1988, val_acc:56.25%  f1:20.00%, val_f1:50.38%\n",
      "\n",
      "Epoch 43 --> loss:1.1923, acc:60.08%, val_loss:1.4168, val_acc:46.88%  f1:13.33%, val_f1:38.23%\n",
      "\n",
      "Epoch 44 --> loss:1.1939, acc:60.02%, val_loss:1.2838, val_acc:51.56%  f1:52.00%, val_f1:45.59%\n",
      "\n",
      "Epoch 45 --> loss:1.1883, acc:60.29%, val_loss:1.1436, val_acc:62.50%  f1:28.00%, val_f1:56.04%\n",
      "\n",
      "Epoch 46 --> loss:1.1880, acc:60.24%, val_loss:1.2697, val_acc:57.81%  f1:88.57%, val_f1:51.39%\n",
      "\n",
      "Epoch 47 --> loss:1.1834, acc:60.50%, val_loss:1.1100, val_acc:65.62%  f1:46.67%, val_f1:64.36%\n",
      "\n",
      "Epoch 48 --> loss:1.1810, acc:60.25%, val_loss:1.2149, val_acc:51.56%  f1:45.71%, val_f1:46.39%\n",
      "\n",
      "Epoch 49 --> loss:1.1807, acc:60.24%, val_loss:1.1192, val_acc:60.94%  f1:71.43%, val_f1:53.59%\n",
      "\n",
      "Epoch 50 --> loss:1.1794, acc:60.02%, val_loss:1.1772, val_acc:62.50%  f1:46.67%, val_f1:57.47%\n",
      "\n",
      "Epoch 51 --> loss:1.1782, acc:60.17%, val_loss:1.1107, val_acc:64.06%  f1:60.00%, val_f1:59.88%\n",
      "\n",
      "Epoch 52 --> loss:1.1754, acc:60.81%, val_loss:1.1602, val_acc:60.94%  f1:88.57%, val_f1:56.32%\n",
      "\n",
      "Epoch 53 --> loss:1.1777, acc:60.23%, val_loss:1.3804, val_acc:54.69%  f1:60.00%, val_f1:50.91%\n",
      "\n",
      "Epoch 54 --> loss:1.1739, acc:60.31%, val_loss:1.3563, val_acc:56.25%  f1:60.00%, val_f1:48.03%\n",
      "\n",
      "Epoch 55 --> loss:1.1726, acc:60.85%, val_loss:1.2845, val_acc:59.38%  f1:72.00%, val_f1:52.04%\n",
      "\n",
      "Epoch 56 --> loss:1.1721, acc:60.76%, val_loss:1.0322, val_acc:60.94%  f1:51.43%, val_f1:54.92%\n",
      "\n",
      "Epoch 57 --> loss:1.1683, acc:61.04%, val_loss:1.3589, val_acc:48.44%  f1:40.00%, val_f1:42.61%\n",
      "\n",
      "Epoch 58 --> loss:1.1650, acc:60.89%, val_loss:1.2984, val_acc:51.56%  f1:100.00%, val_f1:45.00%\n",
      "\n",
      "Epoch 59 --> loss:1.1649, acc:60.82%, val_loss:1.4377, val_acc:53.12%  f1:0.00%, val_f1:47.10%\n",
      "\n",
      "Epoch 60 --> loss:1.1689, acc:60.79%, val_loss:1.1871, val_acc:56.25%  f1:20.00%, val_f1:51.81%\n",
      "\n",
      "Epoch 61 --> loss:1.1720, acc:60.39%, val_loss:1.4582, val_acc:48.44%  f1:75.00%, val_f1:38.99%\n",
      "\n",
      "Epoch 62 --> loss:1.1680, acc:60.71%, val_loss:1.4487, val_acc:48.44%  f1:45.33%, val_f1:41.81%\n",
      "\n",
      "Epoch 63 --> loss:1.1671, acc:60.63%, val_loss:1.1475, val_acc:56.25%  f1:88.57%, val_f1:52.72%\n",
      "\n",
      "Epoch 64 --> loss:1.1664, acc:60.90%, val_loss:1.1774, val_acc:64.06%  f1:60.00%, val_f1:58.28%\n",
      "\n",
      "Epoch 65 --> loss:1.1621, acc:60.82%, val_loss:1.3778, val_acc:54.69%  f1:100.00%, val_f1:44.81%\n",
      "\n",
      "Epoch 66 --> loss:1.1577, acc:60.76%, val_loss:1.2628, val_acc:56.25%  f1:26.67%, val_f1:47.23%\n",
      "\n",
      "Epoch 67 --> loss:1.1615, acc:61.06%, val_loss:1.2501, val_acc:57.81%  f1:26.67%, val_f1:52.14%\n",
      "\n",
      "Epoch 68 --> loss:1.1599, acc:60.84%, val_loss:1.4490, val_acc:54.69%  f1:8.00%, val_f1:48.97%\n",
      "\n",
      "Epoch 69 --> loss:1.1633, acc:60.90%, val_loss:1.2341, val_acc:54.69%  f1:68.00%, val_f1:48.86%\n",
      "\n",
      "Epoch 70 --> loss:1.1534, acc:61.39%, val_loss:1.3784, val_acc:54.69%  f1:100.00%, val_f1:47.31%\n",
      "\n",
      "Epoch 71 --> loss:1.1616, acc:60.81%, val_loss:1.4372, val_acc:50.00%  f1:88.57%, val_f1:40.50%\n",
      "\n",
      "Epoch 72 --> loss:1.1555, acc:61.57%, val_loss:1.1477, val_acc:65.62%  f1:100.00%, val_f1:61.31%\n",
      "\n",
      "Epoch 73 --> loss:1.1537, acc:61.18%, val_loss:1.2615, val_acc:51.56%  f1:75.00%, val_f1:45.14%\n",
      "\n",
      "Epoch 74 --> loss:1.1568, acc:61.06%, val_loss:1.5040, val_acc:40.62%  f1:51.43%, val_f1:34.55%\n",
      "\n",
      "Epoch 75 --> loss:1.1632, acc:61.23%, val_loss:1.2115, val_acc:57.81%  f1:80.00%, val_f1:53.74%\n",
      "\n",
      "Epoch 76 --> loss:1.1621, acc:60.88%, val_loss:1.1376, val_acc:59.38%  f1:0.00%, val_f1:55.40%\n",
      "\n",
      "Epoch 77 --> loss:1.1545, acc:61.18%, val_loss:1.3217, val_acc:60.94%  f1:40.00%, val_f1:54.53%\n",
      "\n",
      "Epoch 78 --> loss:1.1571, acc:61.03%, val_loss:1.2512, val_acc:56.25%  f1:58.67%, val_f1:48.91%\n",
      "\n",
      "Epoch 79 --> loss:1.1498, acc:61.53%, val_loss:0.9391, val_acc:68.75%  f1:100.00%, val_f1:64.87%\n",
      "\n",
      "Epoch 80 --> loss:1.1541, acc:60.92%, val_loss:1.0896, val_acc:62.50%  f1:62.00%, val_f1:58.40%\n",
      "\n",
      "Epoch 81 --> loss:1.1490, acc:61.32%, val_loss:1.0546, val_acc:60.94%  f1:100.00%, val_f1:55.73%\n",
      "\n",
      "Epoch 82 --> loss:1.1518, acc:61.17%, val_loss:1.3820, val_acc:53.12%  f1:71.43%, val_f1:48.72%\n",
      "\n",
      "Epoch 83 --> loss:1.1543, acc:61.52%, val_loss:1.1711, val_acc:57.81%  f1:46.67%, val_f1:53.97%\n",
      "\n",
      "Epoch 84 --> loss:1.1517, acc:60.94%, val_loss:1.2187, val_acc:57.81%  f1:80.00%, val_f1:51.20%\n",
      "\n",
      "Epoch 85 --> loss:1.1485, acc:61.69%, val_loss:1.2738, val_acc:54.69%  f1:36.67%, val_f1:47.76%\n",
      "\n",
      "Epoch 86 --> loss:1.1452, acc:61.59%, val_loss:1.3172, val_acc:59.38%  f1:26.67%, val_f1:55.35%\n",
      "\n",
      "Epoch 87 --> loss:1.1456, acc:61.70%, val_loss:1.0859, val_acc:59.38%  f1:36.67%, val_f1:52.69%\n",
      "\n",
      "Epoch 88 --> loss:1.1488, acc:61.60%, val_loss:1.2826, val_acc:54.69%  f1:88.57%, val_f1:48.61%\n",
      "\n",
      "Epoch 89 --> loss:1.1470, acc:61.55%, val_loss:1.0950, val_acc:68.75%  f1:10.00%, val_f1:64.48%\n",
      "\n",
      "Epoch 90 --> loss:1.1406, acc:61.63%, val_loss:1.2260, val_acc:51.56%  f1:80.00%, val_f1:43.87%\n",
      "\n",
      "Epoch 91 --> loss:1.1509, acc:61.33%, val_loss:1.2183, val_acc:57.81%  f1:100.00%, val_f1:52.62%\n",
      "\n",
      "Epoch 92 --> loss:1.1458, acc:61.77%, val_loss:1.2244, val_acc:56.25%  f1:46.67%, val_f1:47.74%\n",
      "\n",
      "Epoch 93 --> loss:1.1479, acc:61.36%, val_loss:1.1163, val_acc:60.94%  f1:20.00%, val_f1:53.46%\n",
      "\n",
      "Epoch 94 --> loss:1.1399, acc:62.03%, val_loss:1.0498, val_acc:62.50%  f1:23.33%, val_f1:55.57%\n",
      "\n",
      "Epoch 95 --> loss:1.1469, acc:61.47%, val_loss:1.3797, val_acc:53.12%  f1:78.10%, val_f1:45.79%\n",
      "\n",
      "Epoch 96 --> loss:1.1450, acc:62.03%, val_loss:1.3324, val_acc:54.69%  f1:40.00%, val_f1:47.35%\n",
      "\n",
      "Epoch 97 --> loss:1.1428, acc:61.51%, val_loss:1.3967, val_acc:51.56%  f1:71.43%, val_f1:46.39%\n",
      "\n",
      "Epoch 98 --> loss:1.1395, acc:61.69%, val_loss:1.2001, val_acc:56.25%  f1:71.43%, val_f1:51.43%\n",
      "\n",
      "Epoch 99 --> loss:1.1402, acc:61.66%, val_loss:1.3547, val_acc:56.25%  f1:34.29%, val_f1:48.98%\n",
      "\n",
      "Epoch 100 --> loss:1.1418, acc:61.37%, val_loss:1.3521, val_acc:54.69%  f1:88.57%, val_f1:50.66%\n",
      "\n",
      "Epoch 101 --> loss:1.1432, acc:61.73%, val_loss:1.3322, val_acc:46.88%  f1:34.29%, val_f1:39.95%\n",
      "\n",
      "Epoch 102 --> loss:1.1409, acc:61.72%, val_loss:1.0968, val_acc:57.81%  f1:58.67%, val_f1:51.19%\n",
      "\n",
      "Epoch 103 --> loss:1.1432, acc:61.58%, val_loss:1.0073, val_acc:68.75%  f1:40.00%, val_f1:65.46%\n",
      "\n",
      "Epoch 104 --> loss:1.1301, acc:61.96%, val_loss:1.2206, val_acc:53.12%  f1:88.57%, val_f1:48.59%\n",
      "\n",
      "Epoch 105 --> loss:1.1362, acc:62.05%, val_loss:1.2371, val_acc:56.25%  f1:36.67%, val_f1:50.38%\n",
      "\n",
      "Epoch 106 --> loss:1.1395, acc:62.00%, val_loss:1.5858, val_acc:45.31%  f1:52.00%, val_f1:38.38%\n",
      "\n",
      "Epoch 107 --> loss:1.1409, acc:61.93%, val_loss:1.3936, val_acc:54.69%  f1:58.67%, val_f1:49.05%\n",
      "\n",
      "Epoch 108 --> loss:1.1364, acc:61.62%, val_loss:1.5493, val_acc:50.00%  f1:42.67%, val_f1:43.65%\n",
      "\n",
      "Epoch 109 --> loss:1.1379, acc:62.03%, val_loss:1.0803, val_acc:59.38%  f1:100.00%, val_f1:54.23%\n",
      "\n",
      "Epoch 110 --> loss:1.1342, acc:61.65%, val_loss:1.2525, val_acc:56.25%  f1:40.00%, val_f1:50.23%\n",
      "\n",
      "Epoch 111 --> loss:1.1359, acc:61.92%, val_loss:1.2739, val_acc:54.69%  f1:28.00%, val_f1:47.82%\n",
      "\n",
      "Epoch 112 --> loss:1.1364, acc:61.68%, val_loss:1.4600, val_acc:43.75%  f1:13.33%, val_f1:36.24%\n",
      "\n",
      "Epoch 113 --> loss:1.1364, acc:61.99%, val_loss:1.4078, val_acc:50.00%  f1:66.67%, val_f1:43.45%\n",
      "\n",
      "Epoch 114 --> loss:1.1371, acc:61.73%, val_loss:1.5090, val_acc:51.56%  f1:56.67%, val_f1:44.06%\n",
      "\n",
      "Epoch 115 --> loss:1.1338, acc:62.18%, val_loss:1.2089, val_acc:60.94%  f1:100.00%, val_f1:54.11%\n",
      "\n",
      "Epoch 116 --> loss:1.1349, acc:61.51%, val_loss:1.0780, val_acc:64.06%  f1:8.00%, val_f1:59.22%\n",
      "\n",
      "Epoch 117 --> loss:1.1340, acc:62.11%, val_loss:1.2455, val_acc:53.12%  f1:75.00%, val_f1:48.81%\n",
      "\n",
      "Epoch 118 --> loss:1.1342, acc:61.45%, val_loss:1.1245, val_acc:64.06%  f1:26.67%, val_f1:59.26%\n",
      "\n",
      "Epoch 119 --> loss:1.1334, acc:62.29%, val_loss:1.2836, val_acc:51.56%  f1:13.33%, val_f1:43.90%\n",
      "\n",
      "Epoch 120 --> loss:1.1370, acc:61.64%, val_loss:1.1998, val_acc:56.25%  f1:60.00%, val_f1:49.05%\n"
     ]
    }
   ],
   "source": [
    "train_step = make_train_step(model, loss_fnc, optimizer=OPTIMIZER)\n",
    "validate = make_validate_fnc(model,loss_fnc)\n",
    "\n",
    "val_accs = []\n",
    "losses=[]\n",
    "val_losses = []\n",
    "f1s = []\n",
    "val_f1s= []\n",
    "epochs = 120\n",
    "best_val_f1 = 0\n",
    "\n",
    "\n",
    "for epoch in range(epochs):\n",
    "    epoch_acc = 0\n",
    "    epoch_loss = 0\n",
    "    epoch_f1 = 0\n",
    "    for idx, (features, labels) in enumerate(train_dataloader):\n",
    "        X, Y = features, labels\n",
    "        X_tensor = torch.tensor(X,device=device).float()\n",
    "        Y_tensor = torch.tensor(Y, dtype=torch.long,device=device)\n",
    "        loss, acc, f1= train_step(X_tensor,Y_tensor)\n",
    "        epoch_acc += acc*len(features)/len(train)\n",
    "        epoch_loss += loss*len(features)/len(train)\n",
    "        epoch_f1 += f1*len(features)/len(train)\n",
    "    for batch in val_dataloader:\n",
    "        X_val, Y_val = batch\n",
    "        break\n",
    "    X_val_tensor = torch.tensor(X_val,device=device).float()\n",
    "    Y_val_tensor = torch.tensor(Y_val,dtype=torch.long,device=device)\n",
    "    val_loss, val_acc, _, val_f1 = validate(X_val_tensor,Y_val_tensor)\n",
    "    val_accs.append(val_acc.cpu())\n",
    "    losses.append(epoch_loss)\n",
    "    val_losses.append(val_loss)\n",
    "    f1s.append(epoch_f1)\n",
    "    val_f1s.append(val_f1)\n",
    "    if val_f1 > best_val_f1:\n",
    "        torch.save(model.state_dict(), 'best-model-parameters.pt')\n",
    "        best_epoch = epoch\n",
    "        best_val_f1 = val_f1\n",
    "    \n",
    "    print('')\n",
    "    print(f\"Epoch {epoch+1} --> loss:{epoch_loss:.4f}, acc:{epoch_acc:.2f}%, val_loss:{val_loss:.4f}, val_acc:{val_acc:.2f}%  f1:{f1:.2f}%, val_f1:{val_f1:.2f}%\")"
   ]
  },
  {
   "cell_type": "code",
   "execution_count": 11,
   "metadata": {},
   "outputs": [
    {
     "name": "stdout",
     "output_type": "stream",
     "text": [
      "layers:  3\n",
      "model hidden dim:  128\n",
      "batch size:  64\n"
     ]
    },
    {
     "data": {
      "image/png": "[encoded data removed]",
      "text/plain": [
       "<Figure size 432x288 with 1 Axes>"
      ]
     },
     "metadata": {
      "needs_background": "light"
     },
     "output_type": "display_data"
    }
   ],
   "source": [
    "import matplotlib.pyplot as plt\n",
    "x = range(epochs)\n",
    "\n",
    "fig, ax = plt.subplots()\n",
    "ax.set_xlabel('epoch #')\n",
    "ax.set_ylabel('')\n",
    "ax.plot(x,np.divide(val_accs,100), label='val_acc')\n",
    "ax.plot(x,np.divide(val_f1s,100), label='val_f1')\n",
    "ax.plot(x, losses, label='loss')\n",
    "ax.plot(x, val_losses, label='val_loss')\n",
    "ax.scatter(best_epoch, best_val_f1/100)\n",
    "ax.plot(x, 0.7*np.ones(len(x)), '--', color=(0.1,0.1,0.1))\n",
    "ax.legend()\n",
    "print(\"layers: \", model.num_layers)\n",
    "print(\"model hidden dim: \", model.hidden_dim)\n",
    "print(\"batch size: \", train_dataloader.batch_size)\n",
    "\n"
   ]
  },
  {
   "cell_type": "code",
   "execution_count": 12,
   "metadata": {},
   "outputs": [
    {
     "data": {
      "text/plain": [
       "<All keys matched successfully>"
      ]
     },
     "execution_count": 12,
     "metadata": {},
     "output_type": "execute_result"
    }
   ],
   "source": [
    "\n",
    "model.load_state_dict(torch.load(\"best-model-parameters.pt\"))"
   ]
  },
  {
   "cell_type": "code",
   "execution_count": 13,
   "metadata": {},
   "outputs": [
    {
     "name": "stdout",
     "output_type": "stream",
     "text": [
      "0.5505792137615075\n"
     ]
    }
   ],
   "source": [
    "\n",
    "test = TextDataset(test_annotations, test_bert)\n",
    "test_dataloader = DataLoader(test, batch_size=len(test), shuffle=True, drop_last=False)\n",
    "\n",
    "device = 'cpu'\n",
    "model.to(device)\n",
    "\n",
    "for idx, (features, labels) in enumerate(test_dataloader):\n",
    "    X, Y = features, labels\n",
    "    X_tensor = torch.tensor(X,device=device).float()\n",
    "    Y_tensor = torch.tensor(Y, dtype=torch.long,device=device)\n",
    "    output_logits = model(X)\n",
    "    predictions = torch.argmax(output_logits,dim=1)\n",
    "   \n",
    "    f1 = f1_score(Y.cpu(), predictions.cpu(), average='weighted')\n",
    "    \n",
    "print(f1)\n"
   ]
  },
  {
   "cell_type": "code",
   "execution_count": null,
   "metadata": {},
   "outputs": [],
   "source": []
  }
 ],
 "metadata": {
  "interpreter": {
   "hash": "d1342e48b91422693146d497b2a8030f014fedc60a9bc30ab582333e6e4c2682"
  },
  "kernelspec": {
   "display_name": "Python 3.9.1 64-bit",
   "language": "python",
   "name": "python3"
  },
  "language_info": {
   "codemirror_mode": {
    "name": "ipython",
    "version": 3
   },
   "file_extension": ".py",
   "mimetype": "text/x-python",
   "name": "python",
   "nbconvert_exporter": "python",
   "pygments_lexer": "ipython3",
   "version": "3.9.1"
  }
 },
 "nbformat": 4,
 "nbformat_minor": 2
}
