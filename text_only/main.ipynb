{
 "cells": [
  {
   "cell_type": "code",
   "execution_count": 1,
   "metadata": {},
   "outputs": [],
   "source": [
    "import warnings\n",
    "warnings.filterwarnings(\"ignore\")\n",
    "from utils.dataset import TextDataset\n",
    "from torch.utils.data import DataLoader\n",
    "import torch.optim as optim\n",
    "from torch import nn\n",
    "import torch\n",
    "from utils.model import LSTMnet_RnnAtten\n",
    "import numpy as np\n",
    "from sklearn.model_selection import train_test_split\n",
    "from sklearn.metrics import f1_score\n",
    "import pandas as pd"
   ]
  },
  {
   "cell_type": "code",
   "execution_count": 2,
   "metadata": {},
   "outputs": [
    {
     "name": "stdout",
     "output_type": "stream",
     "text": [
      "c:\\Users\\kjart\\OneDrive\\Dokumenter\\KU\\2. semester\\CogSci2\\research\\multimodal\\text_only\n"
     ]
    }
   ],
   "source": [
    "import os\n",
    "print(os.getcwd())\n",
    "\n",
    "train_annotations = '..\\\\data\\\\MELD\\\\train_sent_emo.csv'\n",
    "val_annotations = '..\\\\data\\\\\\MELD\\\\dev_sent_emo.csv'\n",
    "test_annotations = '..\\\\data\\\\MELD\\\\test_sent_emo.csv'\n",
    "\n",
    "train_bert = 'embeddings\\\\bert_embeddings'\n",
    "val_bert = 'embeddings\\\\bert_embeddings_val'\n",
    "test_bert = 'embeddings\\\\bert_embeddings_test'\n"
   ]
  },
  {
   "cell_type": "code",
   "execution_count": 3,
   "metadata": {},
   "outputs": [],
   "source": [
    "train = TextDataset(train_annotations, train_bert)\n",
    "val = TextDataset(val_annotations, val_bert)\n",
    "\n",
    "# train, val = train_test_split(train, test_size=0.2)\n",
    "\n",
    "train_dataloader = DataLoader(train, batch_size=64, shuffle = True, drop_last=False)\n",
    "val_dataloader = DataLoader(val, batch_size=64, shuffle=True, drop_last=False)\n",
    "train_features, train_labels = next(iter(train_dataloader))"
   ]
  },
  {
   "cell_type": "code",
   "execution_count": 4,
   "metadata": {},
   "outputs": [
    {
     "name": "stdout",
     "output_type": "stream",
     "text": [
      "Feature batch shape: torch.Size([64, 768])\n",
      "Labels batch shape: torch.Size([64])\n"
     ]
    },
    {
     "data": {
      "text/plain": [
       "(torch.Size([768]), tensor(3))"
      ]
     },
     "execution_count": 4,
     "metadata": {},
     "output_type": "execute_result"
    }
   ],
   "source": [
    "# Sanity check: Size should be [batch_size, num_features, feature_vector_len], [batch_size]\n",
    "# Where batch size is 32, num_features (num mfccs) is 40 \n",
    "train_features, train_labels = next(iter(train_dataloader))\n",
    "print(f\"Feature batch shape: {train_features.size()}\")\n",
    "print(f\"Labels batch shape: {train_labels.size()}\")\n",
    "features = train_features[0]\n",
    "label = train_labels[0]\n",
    "\n",
    "features.shape,label\n"
   ]
  },
  {
   "cell_type": "code",
   "execution_count": 5,
   "metadata": {},
   "outputs": [
    {
     "name": "stdout",
     "output_type": "stream",
     "text": [
      "torch.Size([64, 768]) torch.Size([64])\n"
     ]
    }
   ],
   "source": [
    "for batch in train_dataloader:\n",
    "    x, y = batch\n",
    "    print(x.shape, y.shape)\n",
    "    break"
   ]
  },
  {
   "cell_type": "code",
   "execution_count": 6,
   "metadata": {},
   "outputs": [],
   "source": [
    "def loss_fnc(predictions, targets):\n",
    "    return nn.CrossEntropyLoss()(input=predictions,target=targets)"
   ]
  },
  {
   "cell_type": "code",
   "execution_count": 7,
   "metadata": {},
   "outputs": [],
   "source": [
    "def make_train_step(model, loss_fnc, optimizer):\n",
    "    def train_step(X,Y):\n",
    "        # set model to train mode\n",
    "        model.train()\n",
    "        # forward pass\n",
    "        output_logits = model(X)\n",
    "        predictions = torch.argmax(output_logits,dim=1)\n",
    "        accuracy = torch.sum(Y==predictions)/float(len(Y))\n",
    "        f1 = f1_score(Y.cpu(), predictions.cpu(), average='weighted')\n",
    "        # compute loss\n",
    "        loss = loss_fnc(output_logits, Y)\n",
    "        # compute gradients\n",
    "        loss.backward()\n",
    "        # update parameters and zero gradients\n",
    "        optimizer.step()\n",
    "        optimizer.zero_grad()\n",
    "        return loss.item(), accuracy*100 , f1*100\n",
    "    return train_step"
   ]
  },
  {
   "cell_type": "code",
   "execution_count": 8,
   "metadata": {},
   "outputs": [],
   "source": [
    "def make_validate_fnc(model,loss_fnc):\n",
    "    def validate(X,Y):\n",
    "        with torch.no_grad():\n",
    "            model.eval()\n",
    "            output_logits = model(X)\n",
    "            predictions = torch.argmax(output_logits,dim=1)\n",
    "            accuracy = torch.sum(Y==predictions)/float(len(Y))\n",
    "            f1 = f1_score(Y.cpu(), predictions.cpu(), average='weighted')\n",
    "            loss = loss_fnc(output_logits,Y)\n",
    "        return loss.item(), accuracy*100, predictions, f1*100\n",
    "    return validate"
   ]
  },
  {
   "cell_type": "code",
   "execution_count": 9,
   "metadata": {},
   "outputs": [
    {
     "name": "stdout",
     "output_type": "stream",
     "text": [
      "Number of trainable params:  823815\n"
     ]
    }
   ],
   "source": [
    "device = 'cuda' if torch.cuda.is_available() else 'cpu'\n",
    "model = LSTMnet_RnnAtten(input_dim = 768, hidden_dim=128, output_dim=7, num_layers=3).to(device)\n",
    "print('Number of trainable params: ',sum(p.numel() for p in model.parameters()) )\n",
    "OPTIMIZER = torch.optim.Adam(model.parameters(),lr=0.0001, weight_decay=1e-3)\n"
   ]
  },
  {
   "cell_type": "code",
   "execution_count": 10,
   "metadata": {
    "scrolled": true
   },
   "outputs": [
    {
     "name": "stdout",
     "output_type": "stream",
     "text": [
      "\n",
      "Epoch 1 --> loss:1.8157, acc:29.55%, val_loss:1.6809, val_acc:43.75%  f1:26.67%, val_f1:26.63%\n",
      "\n",
      "Epoch 2 --> loss:1.5833, acc:46.67%, val_loss:1.7595, val_acc:29.69%  f1:45.00%, val_f1:13.59%\n",
      "\n",
      "Epoch 3 --> loss:1.5136, acc:47.25%, val_loss:1.5911, val_acc:37.50%  f1:22.86%, val_f1:23.75%\n",
      "\n",
      "Epoch 4 --> loss:1.4534, acc:48.23%, val_loss:1.2867, val_acc:60.94%  f1:28.00%, val_f1:53.38%\n",
      "\n",
      "Epoch 5 --> loss:1.3965, acc:51.03%, val_loss:1.3207, val_acc:51.56%  f1:100.00%, val_f1:43.73%\n",
      "\n",
      "Epoch 6 --> loss:1.3458, acc:53.62%, val_loss:1.4624, val_acc:45.31%  f1:34.29%, val_f1:36.56%\n",
      "\n",
      "Epoch 7 --> loss:1.3111, acc:54.78%, val_loss:1.2307, val_acc:54.69%  f1:36.67%, val_f1:48.31%\n",
      "\n",
      "Epoch 8 --> loss:1.2873, acc:55.98%, val_loss:1.2637, val_acc:62.50%  f1:88.57%, val_f1:58.03%\n",
      "\n",
      "Epoch 9 --> loss:1.2671, acc:56.80%, val_loss:1.2695, val_acc:48.44%  f1:88.57%, val_f1:38.56%\n",
      "\n",
      "Epoch 10 --> loss:1.2598, acc:57.11%, val_loss:1.2127, val_acc:57.81%  f1:86.67%, val_f1:54.25%\n",
      "\n",
      "Epoch 11 --> loss:1.2459, acc:58.00%, val_loss:1.2505, val_acc:59.38%  f1:56.67%, val_f1:52.35%\n",
      "\n",
      "Epoch 12 --> loss:1.2430, acc:57.99%, val_loss:1.2708, val_acc:51.56%  f1:40.00%, val_f1:43.19%\n",
      "\n",
      "Epoch 13 --> loss:1.2334, acc:58.22%, val_loss:1.0951, val_acc:68.75%  f1:24.00%, val_f1:63.03%\n",
      "\n",
      "Epoch 14 --> loss:1.2151, acc:58.68%, val_loss:1.2153, val_acc:56.25%  f1:56.67%, val_f1:49.13%\n",
      "\n",
      "Epoch 15 --> loss:1.2138, acc:58.63%, val_loss:1.2523, val_acc:54.69%  f1:80.00%, val_f1:48.08%\n",
      "\n",
      "Epoch 16 --> loss:1.1989, acc:59.49%, val_loss:1.1881, val_acc:59.38%  f1:72.00%, val_f1:53.55%\n",
      "\n",
      "Epoch 17 --> loss:1.1901, acc:59.91%, val_loss:1.2909, val_acc:56.25%  f1:32.00%, val_f1:50.92%\n",
      "\n",
      "Epoch 18 --> loss:1.1829, acc:60.37%, val_loss:1.4263, val_acc:50.00%  f1:58.67%, val_f1:44.59%\n",
      "\n",
      "Epoch 19 --> loss:1.1821, acc:60.02%, val_loss:1.6258, val_acc:42.19%  f1:68.57%, val_f1:34.67%\n",
      "\n",
      "Epoch 20 --> loss:1.1719, acc:60.36%, val_loss:1.4988, val_acc:46.88%  f1:8.00%, val_f1:39.43%\n",
      "\n",
      "Epoch 21 --> loss:1.1669, acc:60.56%, val_loss:1.3511, val_acc:48.44%  f1:26.67%, val_f1:42.87%\n",
      "\n",
      "Epoch 22 --> loss:1.1649, acc:60.46%, val_loss:1.2291, val_acc:62.50%  f1:72.00%, val_f1:57.61%\n",
      "\n",
      "Epoch 23 --> loss:1.1486, acc:61.20%, val_loss:1.4468, val_acc:50.00%  f1:45.00%, val_f1:42.43%\n",
      "\n",
      "Epoch 24 --> loss:1.1484, acc:61.48%, val_loss:1.0582, val_acc:67.19%  f1:80.00%, val_f1:62.10%\n",
      "\n",
      "Epoch 25 --> loss:1.1421, acc:61.60%, val_loss:1.2906, val_acc:54.69%  f1:78.10%, val_f1:50.81%\n",
      "\n",
      "Epoch 26 --> loss:1.1413, acc:62.01%, val_loss:1.3558, val_acc:62.50%  f1:60.00%, val_f1:57.21%\n",
      "\n",
      "Epoch 27 --> loss:1.1332, acc:61.55%, val_loss:1.6791, val_acc:45.31%  f1:26.67%, val_f1:40.50%\n",
      "\n",
      "Epoch 28 --> loss:1.1286, acc:61.98%, val_loss:1.3565, val_acc:54.69%  f1:100.00%, val_f1:48.14%\n",
      "\n",
      "Epoch 29 --> loss:1.1179, acc:62.04%, val_loss:1.3028, val_acc:62.50%  f1:32.00%, val_f1:55.05%\n",
      "\n",
      "Epoch 30 --> loss:1.1189, acc:62.37%, val_loss:1.2191, val_acc:50.00%  f1:53.33%, val_f1:45.98%\n",
      "\n",
      "Epoch 31 --> loss:1.1093, acc:62.30%, val_loss:1.3869, val_acc:53.12%  f1:60.00%, val_f1:48.30%\n",
      "\n",
      "Epoch 32 --> loss:1.1025, acc:62.91%, val_loss:0.9260, val_acc:70.31%  f1:56.67%, val_f1:68.19%\n",
      "\n",
      "Epoch 33 --> loss:1.0971, acc:63.22%, val_loss:1.2694, val_acc:59.38%  f1:46.67%, val_f1:54.89%\n",
      "\n",
      "Epoch 34 --> loss:1.0946, acc:62.88%, val_loss:1.1822, val_acc:64.06%  f1:80.00%, val_f1:60.60%\n",
      "\n",
      "Epoch 35 --> loss:1.0895, acc:63.32%, val_loss:1.1534, val_acc:59.38%  f1:100.00%, val_f1:55.62%\n",
      "\n",
      "Epoch 36 --> loss:1.0853, acc:63.41%, val_loss:1.0596, val_acc:70.31%  f1:100.00%, val_f1:67.09%\n",
      "\n",
      "Epoch 37 --> loss:1.0851, acc:63.34%, val_loss:1.0529, val_acc:62.50%  f1:73.33%, val_f1:57.50%\n",
      "\n",
      "Epoch 38 --> loss:1.0718, acc:64.16%, val_loss:1.3089, val_acc:56.25%  f1:80.00%, val_f1:51.11%\n",
      "\n",
      "Epoch 39 --> loss:1.0743, acc:63.93%, val_loss:1.2039, val_acc:57.81%  f1:34.67%, val_f1:51.92%\n",
      "\n",
      "Epoch 40 --> loss:1.0700, acc:63.88%, val_loss:1.5247, val_acc:48.44%  f1:26.67%, val_f1:42.71%\n",
      "\n",
      "Epoch 41 --> loss:1.0598, acc:64.31%, val_loss:1.2049, val_acc:57.81%  f1:52.00%, val_f1:53.24%\n",
      "\n",
      "Epoch 42 --> loss:1.0529, acc:64.44%, val_loss:1.0152, val_acc:65.62%  f1:50.00%, val_f1:63.26%\n",
      "\n",
      "Epoch 43 --> loss:1.0456, acc:64.78%, val_loss:1.3294, val_acc:59.38%  f1:60.00%, val_f1:53.32%\n",
      "\n",
      "Epoch 44 --> loss:1.0451, acc:64.93%, val_loss:1.2859, val_acc:57.81%  f1:30.00%, val_f1:52.27%\n",
      "\n",
      "Epoch 45 --> loss:1.0443, acc:65.13%, val_loss:1.1248, val_acc:60.94%  f1:51.43%, val_f1:55.72%\n",
      "\n",
      "Epoch 46 --> loss:1.0323, acc:65.29%, val_loss:1.2708, val_acc:56.25%  f1:60.00%, val_f1:51.35%\n",
      "\n",
      "Epoch 47 --> loss:1.0290, acc:65.35%, val_loss:1.1343, val_acc:65.62%  f1:8.00%, val_f1:62.33%\n",
      "\n",
      "Epoch 48 --> loss:1.0229, acc:65.87%, val_loss:1.1141, val_acc:68.75%  f1:80.00%, val_f1:64.76%\n",
      "\n",
      "Epoch 49 --> loss:1.0279, acc:65.31%, val_loss:1.4196, val_acc:57.81%  f1:56.67%, val_f1:55.04%\n",
      "\n",
      "Epoch 50 --> loss:1.0149, acc:65.53%, val_loss:1.2827, val_acc:57.81%  f1:40.00%, val_f1:53.94%\n",
      "\n",
      "Epoch 51 --> loss:1.0037, acc:65.86%, val_loss:1.1993, val_acc:57.81%  f1:53.33%, val_f1:53.36%\n",
      "\n",
      "Epoch 52 --> loss:1.0095, acc:65.73%, val_loss:1.2544, val_acc:62.50%  f1:51.43%, val_f1:59.32%\n",
      "\n",
      "Epoch 53 --> loss:0.9999, acc:65.69%, val_loss:1.0167, val_acc:67.19%  f1:26.67%, val_f1:62.73%\n",
      "\n",
      "Epoch 54 --> loss:0.9899, acc:66.50%, val_loss:1.2123, val_acc:67.19%  f1:46.67%, val_f1:63.06%\n",
      "\n",
      "Epoch 55 --> loss:0.9925, acc:66.05%, val_loss:1.2218, val_acc:56.25%  f1:62.00%, val_f1:51.91%\n",
      "\n",
      "Epoch 56 --> loss:0.9873, acc:66.35%, val_loss:1.3378, val_acc:51.56%  f1:58.67%, val_f1:43.07%\n",
      "\n",
      "Epoch 57 --> loss:0.9788, acc:66.37%, val_loss:1.2065, val_acc:57.81%  f1:32.00%, val_f1:53.38%\n",
      "\n",
      "Epoch 58 --> loss:0.9802, acc:66.93%, val_loss:1.3041, val_acc:60.94%  f1:100.00%, val_f1:55.73%\n",
      "\n",
      "Epoch 59 --> loss:0.9708, acc:66.97%, val_loss:1.3866, val_acc:54.69%  f1:56.67%, val_f1:47.08%\n",
      "\n",
      "Epoch 60 --> loss:0.9605, acc:67.24%, val_loss:1.2270, val_acc:62.50%  f1:78.67%, val_f1:57.46%\n",
      "\n",
      "Epoch 61 --> loss:0.9653, acc:67.37%, val_loss:1.1206, val_acc:60.94%  f1:72.00%, val_f1:59.18%\n",
      "\n",
      "Epoch 62 --> loss:0.9496, acc:67.70%, val_loss:1.1537, val_acc:57.81%  f1:86.67%, val_f1:52.43%\n",
      "\n",
      "Epoch 63 --> loss:0.9520, acc:67.65%, val_loss:1.3090, val_acc:60.94%  f1:36.67%, val_f1:56.69%\n",
      "\n",
      "Epoch 64 --> loss:0.9424, acc:68.20%, val_loss:1.6975, val_acc:46.88%  f1:52.00%, val_f1:41.73%\n",
      "\n",
      "Epoch 65 --> loss:0.9382, acc:68.58%, val_loss:1.4235, val_acc:50.00%  f1:73.33%, val_f1:45.79%\n",
      "\n",
      "Epoch 66 --> loss:0.9324, acc:68.24%, val_loss:1.4905, val_acc:62.50%  f1:23.33%, val_f1:59.62%\n",
      "\n",
      "Epoch 67 --> loss:0.9259, acc:68.47%, val_loss:1.2560, val_acc:56.25%  f1:0.00%, val_f1:51.13%\n",
      "\n",
      "Epoch 68 --> loss:0.9318, acc:68.43%, val_loss:1.3432, val_acc:62.50%  f1:52.00%, val_f1:59.60%\n",
      "\n",
      "Epoch 69 --> loss:0.9177, acc:68.84%, val_loss:1.2858, val_acc:56.25%  f1:43.33%, val_f1:52.54%\n",
      "\n",
      "Epoch 70 --> loss:0.9119, acc:68.97%, val_loss:1.3098, val_acc:60.94%  f1:30.00%, val_f1:55.75%\n",
      "\n",
      "Epoch 71 --> loss:0.9143, acc:68.55%, val_loss:1.0854, val_acc:67.19%  f1:88.89%, val_f1:65.75%\n",
      "\n",
      "Epoch 72 --> loss:0.9044, acc:69.01%, val_loss:1.3802, val_acc:62.50%  f1:72.00%, val_f1:61.72%\n",
      "\n",
      "Epoch 73 --> loss:0.8925, acc:69.66%, val_loss:1.1188, val_acc:67.19%  f1:10.00%, val_f1:64.14%\n",
      "\n",
      "Epoch 74 --> loss:0.8887, acc:69.59%, val_loss:1.1712, val_acc:65.62%  f1:57.14%, val_f1:64.59%\n",
      "\n",
      "Epoch 75 --> loss:0.8879, acc:69.23%, val_loss:1.2745, val_acc:59.38%  f1:13.33%, val_f1:56.84%\n",
      "\n",
      "Epoch 76 --> loss:0.8855, acc:69.96%, val_loss:1.6995, val_acc:43.75%  f1:26.67%, val_f1:36.91%\n",
      "\n",
      "Epoch 77 --> loss:0.8887, acc:69.54%, val_loss:1.4814, val_acc:53.12%  f1:46.67%, val_f1:48.60%\n",
      "\n",
      "Epoch 78 --> loss:0.8778, acc:70.36%, val_loss:1.4758, val_acc:57.81%  f1:46.67%, val_f1:54.21%\n",
      "\n",
      "Epoch 79 --> loss:0.8770, acc:70.29%, val_loss:1.2712, val_acc:53.12%  f1:80.00%, val_f1:48.99%\n",
      "\n",
      "Epoch 80 --> loss:0.8699, acc:70.38%, val_loss:1.4468, val_acc:54.69%  f1:100.00%, val_f1:51.89%\n",
      "\n",
      "Epoch 81 --> loss:0.8752, acc:70.37%, val_loss:1.1280, val_acc:64.06%  f1:78.10%, val_f1:59.91%\n",
      "\n",
      "Epoch 82 --> loss:0.8529, acc:71.04%, val_loss:1.3515, val_acc:56.25%  f1:100.00%, val_f1:51.17%\n",
      "\n",
      "Epoch 83 --> loss:0.8680, acc:70.48%, val_loss:1.2468, val_acc:54.69%  f1:100.00%, val_f1:51.52%\n",
      "\n",
      "Epoch 84 --> loss:0.8523, acc:71.15%, val_loss:1.2028, val_acc:56.25%  f1:60.00%, val_f1:52.94%\n",
      "\n",
      "Epoch 85 --> loss:0.8509, acc:71.11%, val_loss:1.6119, val_acc:56.25%  f1:66.67%, val_f1:50.73%\n",
      "\n",
      "Epoch 86 --> loss:0.8415, acc:71.21%, val_loss:1.4140, val_acc:50.00%  f1:75.00%, val_f1:46.51%\n",
      "\n",
      "Epoch 87 --> loss:0.8333, acc:71.12%, val_loss:1.3879, val_acc:56.25%  f1:50.00%, val_f1:55.04%\n",
      "\n",
      "Epoch 88 --> loss:0.8294, acc:72.10%, val_loss:1.5271, val_acc:54.69%  f1:88.57%, val_f1:53.02%\n",
      "\n",
      "Epoch 89 --> loss:0.8231, acc:71.91%, val_loss:1.3059, val_acc:67.19%  f1:73.33%, val_f1:63.78%\n",
      "\n",
      "Epoch 90 --> loss:0.8226, acc:72.12%, val_loss:1.2071, val_acc:56.25%  f1:100.00%, val_f1:51.63%\n",
      "\n",
      "Epoch 91 --> loss:0.8256, acc:71.61%, val_loss:1.5270, val_acc:60.94%  f1:88.57%, val_f1:59.89%\n",
      "\n",
      "Epoch 92 --> loss:0.8162, acc:71.90%, val_loss:1.6713, val_acc:50.00%  f1:78.10%, val_f1:42.42%\n",
      "\n",
      "Epoch 93 --> loss:0.8150, acc:71.73%, val_loss:0.9073, val_acc:67.19%  f1:100.00%, val_f1:66.34%\n",
      "\n",
      "Epoch 94 --> loss:0.8138, acc:71.96%, val_loss:1.4160, val_acc:54.69%  f1:30.00%, val_f1:50.23%\n",
      "\n",
      "Epoch 95 --> loss:0.8037, acc:72.28%, val_loss:1.3353, val_acc:65.62%  f1:45.71%, val_f1:60.06%\n",
      "\n",
      "Epoch 96 --> loss:0.8020, acc:72.94%, val_loss:1.0423, val_acc:70.31%  f1:13.33%, val_f1:68.43%\n",
      "\n",
      "Epoch 97 --> loss:0.8005, acc:72.66%, val_loss:1.2946, val_acc:67.19%  f1:86.67%, val_f1:65.55%\n",
      "\n",
      "Epoch 98 --> loss:0.7884, acc:73.02%, val_loss:1.1902, val_acc:60.94%  f1:100.00%, val_f1:60.55%\n",
      "\n",
      "Epoch 99 --> loss:0.7867, acc:72.98%, val_loss:1.3145, val_acc:64.06%  f1:68.57%, val_f1:60.86%\n",
      "\n",
      "Epoch 100 --> loss:0.7819, acc:73.31%, val_loss:1.1918, val_acc:54.69%  f1:100.00%, val_f1:54.82%\n",
      "\n",
      "Epoch 101 --> loss:0.7722, acc:73.50%, val_loss:1.1948, val_acc:62.50%  f1:40.00%, val_f1:59.31%\n",
      "\n",
      "Epoch 102 --> loss:0.7802, acc:73.31%, val_loss:1.6074, val_acc:62.50%  f1:86.67%, val_f1:61.12%\n",
      "\n",
      "Epoch 103 --> loss:0.7714, acc:73.45%, val_loss:1.8153, val_acc:50.00%  f1:28.00%, val_f1:45.97%\n",
      "\n",
      "Epoch 104 --> loss:0.7760, acc:73.40%, val_loss:1.3289, val_acc:60.94%  f1:71.43%, val_f1:57.19%\n",
      "\n",
      "Epoch 105 --> loss:0.7592, acc:73.95%, val_loss:1.4590, val_acc:57.81%  f1:68.00%, val_f1:55.53%\n",
      "\n",
      "Epoch 106 --> loss:0.7639, acc:74.22%, val_loss:1.3974, val_acc:62.50%  f1:66.67%, val_f1:58.12%\n",
      "\n",
      "Epoch 107 --> loss:0.7535, acc:74.05%, val_loss:1.3552, val_acc:53.12%  f1:80.00%, val_f1:49.35%\n",
      "\n",
      "Epoch 108 --> loss:0.7551, acc:74.31%, val_loss:1.2946, val_acc:59.38%  f1:88.57%, val_f1:54.92%\n",
      "\n",
      "Epoch 109 --> loss:0.7417, acc:74.42%, val_loss:1.3551, val_acc:57.81%  f1:86.67%, val_f1:54.08%\n",
      "\n",
      "Epoch 110 --> loss:0.7401, acc:74.81%, val_loss:1.5588, val_acc:57.81%  f1:36.67%, val_f1:53.41%\n",
      "\n",
      "Epoch 111 --> loss:0.7417, acc:74.65%, val_loss:1.8930, val_acc:53.12%  f1:52.00%, val_f1:50.10%\n",
      "\n",
      "Epoch 112 --> loss:0.7349, acc:74.76%, val_loss:1.4356, val_acc:56.25%  f1:60.00%, val_f1:55.14%\n",
      "\n",
      "Epoch 113 --> loss:0.7447, acc:74.37%, val_loss:1.5348, val_acc:56.25%  f1:68.00%, val_f1:53.01%\n",
      "\n",
      "Epoch 114 --> loss:0.7291, acc:75.32%, val_loss:1.6356, val_acc:54.69%  f1:44.00%, val_f1:50.22%\n",
      "\n",
      "Epoch 115 --> loss:0.7307, acc:74.54%, val_loss:1.3510, val_acc:57.81%  f1:0.00%, val_f1:52.86%\n",
      "\n",
      "Epoch 116 --> loss:0.7267, acc:75.22%, val_loss:1.5211, val_acc:56.25%  f1:100.00%, val_f1:53.62%\n",
      "\n",
      "Epoch 117 --> loss:0.7308, acc:75.17%, val_loss:1.6301, val_acc:53.12%  f1:56.67%, val_f1:48.28%\n",
      "\n",
      "Epoch 118 --> loss:0.7294, acc:75.23%, val_loss:1.1973, val_acc:60.94%  f1:72.00%, val_f1:57.96%\n",
      "\n",
      "Epoch 119 --> loss:0.7223, acc:74.77%, val_loss:1.3343, val_acc:59.38%  f1:13.33%, val_f1:54.18%\n",
      "\n",
      "Epoch 120 --> loss:0.7131, acc:75.65%, val_loss:1.8523, val_acc:46.88%  f1:52.00%, val_f1:41.64%\n"
     ]
    }
   ],
   "source": [
    "train_step = make_train_step(model, loss_fnc, optimizer=OPTIMIZER)\n",
    "validate = make_validate_fnc(model,loss_fnc)\n",
    "\n",
    "val_accs = []\n",
    "losses=[]\n",
    "val_losses = []\n",
    "f1s = []\n",
    "val_f1s= []\n",
    "epochs = 120\n",
    "best_val_f1 = 0\n",
    "\n",
    "\n",
    "for epoch in range(epochs):\n",
    "    epoch_acc = 0\n",
    "    epoch_loss = 0\n",
    "    epoch_f1 = 0\n",
    "    for idx, (features, labels) in enumerate(train_dataloader):\n",
    "        X, Y = features, labels\n",
    "        X_tensor = torch.tensor(X,device=device).float()\n",
    "        Y_tensor = torch.tensor(Y, dtype=torch.long,device=device)\n",
    "        loss, acc, f1= train_step(X_tensor,Y_tensor)\n",
    "        epoch_acc += acc*len(features)/len(train)\n",
    "        epoch_loss += loss*len(features)/len(train)\n",
    "        epoch_f1 += f1*len(features)/len(train)\n",
    "    for batch in val_dataloader:\n",
    "        X_val, Y_val = batch\n",
    "        break\n",
    "    X_val_tensor = torch.tensor(X_val,device=device).float()\n",
    "    Y_val_tensor = torch.tensor(Y_val,dtype=torch.long,device=device)\n",
    "    val_loss, val_acc, _, val_f1 = validate(X_val_tensor,Y_val_tensor)\n",
    "    val_accs.append(val_acc.cpu())\n",
    "    losses.append(epoch_loss)\n",
    "    val_losses.append(val_loss)\n",
    "    f1s.append(epoch_f1)\n",
    "    val_f1s.append(val_f1)\n",
    "    if val_f1 > best_val_f1:\n",
    "        torch.save(model.state_dict(), 'best-model-parameters.pt')\n",
    "        best_epoch = epoch\n",
    "        best_val_f1 = val_f1\n",
    "    \n",
    "    print('')\n",
    "    print(f\"Epoch {epoch+1} --> loss:{epoch_loss:.4f}, acc:{epoch_acc:.2f}%, val_loss:{val_loss:.4f}, val_acc:{val_acc:.2f}%  f1:{f1:.2f}%, val_f1:{val_f1:.2f}%\")"
   ]
  },
  {
   "cell_type": "code",
   "execution_count": 14,
   "metadata": {},
   "outputs": [
    {
     "name": "stdout",
     "output_type": "stream",
     "text": [
      "layers:  3\n",
      "model hidden dim:  128\n",
      "batch size:  64\n"
     ]
    },
    {
     "data": {
      "image/png": "[encoded data removed]",
      "text/plain": [
       "<Figure size 432x288 with 1 Axes>"
      ]
     },
     "metadata": {
      "needs_background": "light"
     },
     "output_type": "display_data"
    }
   ],
   "source": [
    "import matplotlib.pyplot as plt\n",
    "x = range(epochs)\n",
    "\n",
    "fig, ax = plt.subplots()\n",
    "ax.set_xlabel('epoch #')\n",
    "ax.set_ylabel('')\n",
    "ax.plot(x,np.divide(val_accs,100), label='val_acc')\n",
    "ax.plot(x,np.divide(val_f1s,100), label='val_f1')\n",
    "ax.plot(x, losses, label='loss')\n",
    "ax.plot(x, val_losses, label='val_loss')\n",
    "ax.scatter(best_epoch, best_val_f1/100)\n",
    "ax.plot(x, 0.7*np.ones(len(x)), '--', color=(0.1,0.1,0.1))\n",
    "ax.legend()\n",
    "print(\"layers: \", model.num_layers)\n",
    "print(\"model hidden dim: \", model.hidden_dim)\n",
    "print(\"batch size: \", train_dataloader.batch_size)\n",
    "\n"
   ]
  },
  {
   "cell_type": "code",
   "execution_count": 15,
   "metadata": {},
   "outputs": [
    {
     "data": {
      "text/plain": [
       "<All keys matched successfully>"
      ]
     },
     "execution_count": 15,
     "metadata": {},
     "output_type": "execute_result"
    }
   ],
   "source": [
    "\n",
    "model.load_state_dict(torch.load(\"best-model-parameters.pt\"))"
   ]
  },
  {
   "cell_type": "code",
   "execution_count": 17,
   "metadata": {},
   "outputs": [
    {
     "name": "stdout",
     "output_type": "stream",
     "text": [
      "0.5842217682217616\n"
     ]
    }
   ],
   "source": [
    "\n",
    "test = TextDataset(test_annotations, test_bert)\n",
    "test_dataloader = DataLoader(test, batch_size=len(test), shuffle=True, drop_last=False)\n",
    "\n",
    "device = 'cpu'\n",
    "model.to(device)\n",
    "model.eval()\n",
    "for idx, (features, labels) in enumerate(test_dataloader):\n",
    "    X, Y = features, labels\n",
    "    X_tensor = torch.tensor(X,device=device).float()\n",
    "    Y_tensor = torch.tensor(Y, dtype=torch.long,device=device)\n",
    "    output_logits = model(X)\n",
    "    predictions = torch.argmax(output_logits,dim=1)\n",
    "    \n",
    "    f1 = f1_score(Y.cpu(), predictions.cpu(), average='weighted')\n",
    "    \n",
    "print(f1)\n"
   ]
  },
  {
   "cell_type": "code",
   "execution_count": null,
   "metadata": {},
   "outputs": [],
   "source": []
  }
 ],
 "metadata": {
  "interpreter": {
   "hash": "d1342e48b91422693146d497b2a8030f014fedc60a9bc30ab582333e6e4c2682"
  },
  "kernelspec": {
   "display_name": "Python 3.9.1 64-bit",
   "language": "python",
   "name": "python3"
  },
  "language_info": {
   "codemirror_mode": {
    "name": "ipython",
    "version": 3
   },
   "file_extension": ".py",
   "mimetype": "text/x-python",
   "name": "python",
   "nbconvert_exporter": "python",
   "pygments_lexer": "ipython3",
   "version": "3.9.1"
  }
 },
 "nbformat": 4,
 "nbformat_minor": 2
}
