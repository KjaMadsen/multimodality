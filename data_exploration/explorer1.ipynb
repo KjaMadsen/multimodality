{
 "cells": [
  {
   "cell_type": "code",
   "execution_count": 1,
   "metadata": {},
   "outputs": [],
   "source": [
    "import os\n",
    "os.chdir('../')\n",
    "\n",
    "from baseline.data_helpers import Dataloader\n",
    "import torch\n",
    "import pandas\n",
    "import numpy as np\n"
   ]
  },
  {
   "cell_type": "code",
   "execution_count": 2,
   "metadata": {},
   "outputs": [
    {
     "name": "stdout",
     "output_type": "stream",
     "text": [
      "Labels used for this classification:  {'neutral': 0, 'surprise': 1, 'fear': 2, 'sadness': 3, 'joy': 4, 'disgust': 5, 'anger': 6}\n",
      "Labels used for this classification:  {'neutral': 0, 'positive': 1, 'negative': 2}\n",
      "Help on class Dataloader in module baseline.data_helpers:\n",
      "\n",
      "class Dataloader(builtins.object)\n",
      " |  Dataloader(mode=None)\n",
      " |  \n",
      " |  Methods defined here:\n",
      " |  \n",
      " |  __init__(self, mode=None)\n",
      " |      Initialize self.  See help(type(self)) for accurate signature.\n",
      " |  \n",
      " |  get_dialogue_audio_embs(self)\n",
      " |  \n",
      " |  get_dialogue_ids(self, keys)\n",
      " |  \n",
      " |  get_dialogue_labels(self)\n",
      " |  \n",
      " |  get_dialogue_lengths(self)\n",
      " |  \n",
      " |  get_dialogue_text_embs(self)\n",
      " |  \n",
      " |  get_masks(self)\n",
      " |  \n",
      " |  get_max_utts(self, train_ids, val_ids, test_ids)\n",
      " |  \n",
      " |  get_one_hot(self, label)\n",
      " |  \n",
      " |  get_word_indices(self, data_x)\n",
      " |  \n",
      " |  load_audio_data(self)\n",
      " |  \n",
      " |  load_bimodal_data(self)\n",
      " |  \n",
      " |  load_text_data(self)\n",
      " |  \n",
      " |  ----------------------------------------------------------------------\n",
      " |  Data descriptors defined here:\n",
      " |  \n",
      " |  __dict__\n",
      " |      dictionary for instance variables (if defined)\n",
      " |  \n",
      " |  __weakref__\n",
      " |      list of weak references to the object (if defined)\n",
      "\n"
     ]
    }
   ],
   "source": [
    "\n",
    "emotion_loader = Dataloader(mode='Emotion')\n",
    "sentiment_loader = Dataloader(mode='Sentiment')\n",
    "help(Dataloader)\n"
   ]
  },
  {
   "cell_type": "code",
   "execution_count": 4,
   "metadata": {},
   "outputs": [
    {
     "name": "stdout",
     "output_type": "stream",
     "text": [
      "9989\n"
     ]
    }
   ],
   "source": [
    "#Check out the audio data and embeddings\n",
    "emotion_loader.load_audio_data()\n",
    "emotion_loader.get_dialogue_audio_embs()\n",
    "audio = emotion_loader.train_audio_emb\n",
    "print(len(audio))"
   ]
  },
  {
   "cell_type": "code",
   "execution_count": 5,
   "metadata": {},
   "outputs": [
    {
     "name": "stdout",
     "output_type": "stream",
     "text": [
      "(1611,)\n",
      "[0.57997844 0.97480089 0.15641021 0.22986758 0.17726164 0.23050224\n",
      " 0.31836174 0.36989179 0.35077218 0.36207488 0.6174978  0.35337305] .....\n",
      "0.9992166292389526   0.0\n"
     ]
    }
   ],
   "source": [
    "print(audio['0_0'].shape)\n",
    "print(audio['0_0'][:12], \".....\")\n",
    "print(np.max(audio['0_0']), ' ', np.min(audio['0_0']))"
   ]
  },
  {
   "cell_type": "code",
   "execution_count": 3,
   "metadata": {},
   "outputs": [
    {
     "name": "stdout",
     "output_type": "stream",
     "text": [
      "1038\n"
     ]
    }
   ],
   "source": [
    "#Check out text data and embeddings\n",
    "emotion_loader.load_text_data()\n",
    "\n",
    "text = emotion_loader.revs\n",
    "print(len(text))"
   ]
  },
  {
   "cell_type": "code",
   "execution_count": 6,
   "metadata": {},
   "outputs": [
    {
     "name": "stdout",
     "output_type": "stream",
     "text": [
      "(1038, 33, 50)\n",
      "[[  72   87   24    2  258  287   12   37  232  205]\n",
      " [  13  201 2694   64   27  767  240    0    0    0]\n",
      " [  11   87  103   11   87  103    0    0    0    0]\n",
      " [  49  289  205  560    6  164  342   44   27 2456]\n",
      " [  37 2456   30   36  134    0    0    0    0    0]\n",
      " [  94   13 2506   20 2100    6  397 1915    1   49]\n",
      " [  87   95    0    0    0    0    0    0    0    0]\n",
      " [  35   66 2506   20  952  235   78  188   13   49]\n",
      " [  90    4   91    0    0    0    0    0    0    0]\n",
      " [  40   34  130   80 1352    0    0    0    0    0]]\n"
     ]
    }
   ],
   "source": [
    "print(text.shape)\n",
    "print(text[0,:10,:10])\n"
   ]
  },
  {
   "cell_type": "code",
   "execution_count": 17,
   "metadata": {},
   "outputs": [],
   "source": [
    "\n",
    "vocab = emotion_loader.vocab.keys()\n",
    "# vocab_file = open(\"./data/vocab.txt\", 'w')\n",
    "# for w in vocab:\n",
    "#     vocab_file.write(str(w) + '\\n')\n",
    "    \n",
    "# vocab_file.close()\n",
    "    "
   ]
  },
  {
   "cell_type": "code",
   "execution_count": 15,
   "metadata": {},
   "outputs": [
    {
     "data": {
      "text/plain": [
       "6335"
      ]
     },
     "execution_count": 15,
     "metadata": {},
     "output_type": "execute_result"
    }
   ],
   "source": [
    "len(vocab)"
   ]
  },
  {
   "cell_type": "code",
   "execution_count": null,
   "metadata": {},
   "outputs": [],
   "source": []
  }
 ],
 "metadata": {
  "interpreter": {
   "hash": "78d8e42be33b3b8a7e2d36933251c43cce3c85e969fe14de1a2b3911379b2054"
  },
  "kernelspec": {
   "display_name": "Python 3.9.1 64-bit",
   "language": "python",
   "name": "python3"
  },
  "language_info": {
   "codemirror_mode": {
    "name": "ipython",
    "version": 3
   },
   "file_extension": ".py",
   "mimetype": "text/x-python",
   "name": "python",
   "nbconvert_exporter": "python",
   "pygments_lexer": "ipython3",
   "version": "3.9.1"
  },
  "orig_nbformat": 4
 },
 "nbformat": 4,
 "nbformat_minor": 2
}
