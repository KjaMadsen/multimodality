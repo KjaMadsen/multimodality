{
 "cells": [
  {
   "cell_type": "code",
   "execution_count": 1,
   "metadata": {},
   "outputs": [],
   "source": [
    "from dataloader import compose_dataset"
   ]
  },
  {
   "cell_type": "code",
   "execution_count": 2,
   "metadata": {},
   "outputs": [],
   "source": [
    "train_annotations = '/Users/zuzia/Downloads/MELD.Raw/train/train_sent_emo.csv'\n",
    "val_annotations = '/Users/zuzia/Downloads/MELD.Raw/dev_sent_emo.csv'\n",
    "test_annotations = '/Users/zuzia/Downloads/MELD.Raw/test_sent_emo.csv' \n",
    "\n",
    "corrupted_file = 'dia125_utt3.wav'\n"
   ]
  },
  {
   "cell_type": "code",
   "execution_count": 3,
   "metadata": {},
   "outputs": [
    {
     "name": "stderr",
     "output_type": "stream",
     "text": [
      "/Users/zuzia/Desktop/uni/KU/multimodality/audio/preprocessing.py:24: FutureWarning: Pass y=[-2.9602051e-03 -2.8503418e-02 -3.3264160e-03 ...  3.0517578e-05\n",
      " -1.2207031e-04 -6.1035156e-05] as keyword args. From version 0.10 passing these as positional arguments will result in an error\n",
      "  S = librosa.feature.melspectrogram(y, sr=16000, n_mels=128)\n",
      "/Users/zuzia/Desktop/uni/KU/multimodality/audio/preprocessing.py:24: FutureWarning: Pass y=[ 0.00097656 -0.00274658 -0.00418091 ... -0.00015259  0.00024414\n",
      "  0.00018311] as keyword args. From version 0.10 passing these as positional arguments will result in an error\n",
      "  S = librosa.feature.melspectrogram(y, sr=16000, n_mels=128)\n",
      "/Users/zuzia/Desktop/uni/KU/multimodality/audio/preprocessing.py:24: FutureWarning: Pass y=[-0.00109863 -0.0015564  -0.00128174 ...  0.          0.\n",
      "  0.        ] as keyword args. From version 0.10 passing these as positional arguments will result in an error\n",
      "  S = librosa.feature.melspectrogram(y, sr=16000, n_mels=128)\n"
     ]
    }
   ],
   "source": [
    "data = compose_dataset(train_annotations)"
   ]
  },
  {
   "cell_type": "code",
   "execution_count": 5,
   "metadata": {},
   "outputs": [],
   "source": [
    "X, y = data[['MFCC']], data['Emotion']"
   ]
  }
 ],
 "metadata": {
  "interpreter": {
   "hash": "40a9768d250eb22e51b6c5a3b41fdf4e51420751aaeb4dd105d54b23da568f3d"
  },
  "kernelspec": {
   "display_name": "Python 3.7.1 ('venv': venv)",
   "language": "python",
   "name": "python3"
  },
  "language_info": {
   "codemirror_mode": {
    "name": "ipython",
    "version": 3
   },
   "file_extension": ".py",
   "mimetype": "text/x-python",
   "name": "python",
   "nbconvert_exporter": "python",
   "pygments_lexer": "ipython3",
   "version": "3.7.1"
  },
  "orig_nbformat": 4
 },
 "nbformat": 4,
 "nbformat_minor": 2
}
