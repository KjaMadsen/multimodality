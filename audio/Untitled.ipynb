{
 "cells": [
  {
   "cell_type": "code",
   "execution_count": 13,
   "metadata": {},
   "outputs": [],
   "source": [
    "import pickle\n",
    "import numpy as np"
   ]
  },
  {
   "cell_type": "code",
   "execution_count": 4,
   "metadata": {},
   "outputs": [
    {
     "name": "stdout",
     "output_type": "stream",
     "text": [
      "\u001b[31maudio_embeddings_feature_selection_emotion.pkl\u001b[m\u001b[m\r\n",
      "\u001b[31maudio_embeddings_feature_selection_sentiment.pkl\u001b[m\u001b[m\r\n",
      "\u001b[31maudio_emotion.pkl\u001b[m\u001b[m\r\n",
      "\u001b[31maudio_sentiment.pkl\u001b[m\u001b[m\r\n",
      "\u001b[31mbimodal_sentiment.pkl\u001b[m\u001b[m\r\n",
      "\u001b[31mdata_emotion.p\u001b[m\u001b[m\r\n",
      "\u001b[31mdata_sentiment.p\u001b[m\u001b[m\r\n",
      "\u001b[31mtext_emotion.pkl\u001b[m\u001b[m\r\n",
      "\u001b[31mtext_glove_CNN_emotion.pkl\u001b[m\u001b[m\r\n",
      "\u001b[31mtext_glove_CNN_sentiment.pkl\u001b[m\u001b[m\r\n",
      "\u001b[31mtext_glove_average_emotion.pkl\u001b[m\u001b[m\r\n",
      "\u001b[31mtext_glove_average_sentiment.pkl\u001b[m\u001b[m\r\n",
      "\u001b[31mtext_sentiment.pkl\u001b[m\u001b[m\r\n"
     ]
    }
   ],
   "source": [
    "!ls ../data/pickles"
   ]
  },
  {
   "cell_type": "code",
   "execution_count": 21,
   "metadata": {},
   "outputs": [],
   "source": [
    "with open('../data/pickles/audio_emotion.pkl', 'rb') as f:\n",
    "    audio_embeddings = pickle.load(f)"
   ]
  },
  {
   "cell_type": "code",
   "execution_count": 26,
   "metadata": {},
   "outputs": [
    {
     "data": {
      "text/plain": [
       "array([[ 0.58706427,  0.99953073, -0.7859874 , ...,  0.99954855,\n",
       "         0.        , -0.9999976 ],\n",
       "       [ 0.82484484,  0.9988347 , -0.9607702 , ...,  0.9994962 ,\n",
       "         0.        , -0.99999595],\n",
       "       [ 0.9369599 ,  0.998948  , -0.99152374, ...,  0.9991133 ,\n",
       "         0.        , -0.9999962 ],\n",
       "       ...,\n",
       "       [ 0.99998415,  0.9995427 , -0.99767447, ...,  0.        ,\n",
       "         0.        ,  0.        ],\n",
       "       [ 0.99998415,  0.9995427 , -0.99767447, ...,  0.        ,\n",
       "         0.        ,  0.        ],\n",
       "       [ 0.99998415,  0.9995427 , -0.99767447, ...,  0.        ,\n",
       "         0.        ,  0.        ]], dtype=float32)"
      ]
     },
     "execution_count": 26,
     "metadata": {},
     "output_type": "execute_result"
    }
   ],
   "source": [
    "audio_embeddings[0]['0']"
   ]
  },
  {
   "cell_type": "code",
   "execution_count": 20,
   "metadata": {},
   "outputs": [
    {
     "data": {
      "text/plain": [
       "(9989, 1611)"
      ]
     },
     "execution_count": 20,
     "metadata": {},
     "output_type": "execute_result"
    }
   ],
   "source": [
    "np.array([audio_embeddings[0][k] for k in list(audio_embeddings[0].keys())]).shape"
   ]
  },
  {
   "cell_type": "code",
   "execution_count": null,
   "metadata": {},
   "outputs": [],
   "source": [
    "audio_emotion.pkl audio_embeddings_feature_selection_emotion.pkl"
   ]
  }
 ],
 "metadata": {
  "kernelspec": {
   "display_name": "Python 3",
   "language": "python",
   "name": "python3"
  },
  "language_info": {
   "codemirror_mode": {
    "name": "ipython",
    "version": 3
   },
   "file_extension": ".py",
   "mimetype": "text/x-python",
   "name": "python",
   "nbconvert_exporter": "python",
   "pygments_lexer": "ipython3",
   "version": "3.7.1"
  }
 },
 "nbformat": 4,
 "nbformat_minor": 4
}
