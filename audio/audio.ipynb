{
 "cells": [
  {
   "cell_type": "code",
   "execution_count": 1,
   "metadata": {},
   "outputs": [],
   "source": [
    "import warnings\n",
    "warnings.filterwarnings(\"ignore\")\n",
    "from utils.dataset import AudioDataset, AugmentedDataset\n",
    "from torch.utils.data import DataLoader\n",
    "import torch.optim as optim\n",
    "from torch import nn\n",
    "import torch\n",
    "from utils.model import LSTMnet_RnnAtten\n",
    "import numpy as np\n",
    "from sklearn.model_selection import train_test_split\n",
    "from sklearn.metrics import f1_score"
   ]
  },
  {
   "cell_type": "code",
   "execution_count": 2,
   "metadata": {},
   "outputs": [],
   "source": [
    "def return_all_items(dataset):\n",
    "    all_items = []\n",
    "    print(len(dataset))\n",
    "    for i in range(len(dataset)):\n",
    "        all_items.append(dataset[i])\n",
    "        print(dataset[i])\n",
    "        break\n",
    "    return all_items"
   ]
  },
  {
   "cell_type": "code",
   "execution_count": 3,
   "metadata": {},
   "outputs": [],
   "source": [
    "train_annotations = '..\\\\data\\\\MELD\\\\train_sent_emo.csv'\n",
    "val_annotations = '..\\\\data\\\\\\MELD\\\\dev_sent_emo.csv'\n",
    "test_annotations = '..\\\\data\\\\MELD\\\\test_sent_emo.csv'\n",
    "\n",
    "train_audio = '..\\\\data\\\\MELD\\\\audio\\\\wav\\\\'\n",
    "val_audio = '..\\\\data\\\\MELD\\\\audio\\\\wav_dev\\\\'\n",
    "test_audio = '..\\\\data\\\\MELD\\\\audio\\\\wav_test\\\\'"
   ]
  },
  {
   "cell_type": "code",
   "execution_count": 4,
   "metadata": {},
   "outputs": [],
   "source": [
    "em = True\n",
    "train = AudioDataset(train_annotations, train_audio, emotion=em)\n",
    "\n"
   ]
  },
  {
   "cell_type": "code",
   "execution_count": 9,
   "metadata": {},
   "outputs": [],
   "source": [
    "\n",
    "val = AudioDataset(val_annotations, val_audio, emotion=em)\n",
    "\n",
    "train_dataloader = DataLoader(train, batch_size=64, shuffle = True, drop_last=False)\n",
    "val_dataloader = DataLoader(val, batch_size=len(val), shuffle=False, drop_last=False)\n",
    "train_features, train_labels = next(iter(train_dataloader))"
   ]
  },
  {
   "cell_type": "code",
   "execution_count": 10,
   "metadata": {},
   "outputs": [
    {
     "name": "stdout",
     "output_type": "stream",
     "text": [
      "Feature batch shape: torch.Size([64, 104])\n",
      "Labels batch shape: torch.Size([64])\n",
      "Length of the train data: 9988\n"
     ]
    }
   ],
   "source": [
    "# Sanity check: Size should be [batch_size, num_features, feature_vector_len], [batch_size]\n",
    "# Where batch size is 32, num_features (num mfccs, num mel) is 104\n",
    "train_features, train_labels = next(iter(train_dataloader))\n",
    "print(f\"Feature batch shape: {train_features.size()}\")\n",
    "print(f\"Labels batch shape: {train_labels.size()}\")\n",
    "# Length should be 9988*2\n",
    "print(f\"Length of the train data: {len(train)}\")"
   ]
  },
  {
   "cell_type": "code",
   "execution_count": 11,
   "metadata": {},
   "outputs": [
    {
     "name": "stdout",
     "output_type": "stream",
     "text": [
      "torch.Size([64, 104]) torch.Size([64])\n"
     ]
    }
   ],
   "source": [
    "for batch in train_dataloader:\n",
    "    x, y = batch\n",
    "    print(x.shape, y.shape)\n",
    "    break\n"
   ]
  },
  {
   "cell_type": "code",
   "execution_count": 12,
   "metadata": {},
   "outputs": [],
   "source": [
    "device = 'cuda' if torch.cuda.is_available() else 'cpu'\n",
    "if em:\n",
    "    weight=torch.tensor([1-1109/9989, 1-271/9989, 1-268/9989, 1-1743/9989, 1-4710/9989, 1-683/9989, 1-1205/9989]).to(device=device)\n",
    "else:\n",
    "    weight=torch.tensor([1-2945/9989, 1-2334/9989, 1-4710/9989]).to(device=device)\n",
    "\n"
   ]
  },
  {
   "cell_type": "code",
   "execution_count": 13,
   "metadata": {},
   "outputs": [],
   "source": [
    "def loss_fnc(predictions, targets):\n",
    "    return nn.CrossEntropyLoss(weight=weight, label_smoothing=0.0)(input=predictions,target=targets)"
   ]
  },
  {
   "cell_type": "code",
   "execution_count": 14,
   "metadata": {},
   "outputs": [],
   "source": [
    "def make_train_step(model, loss_fnc, optimizer):\n",
    "    def train_step(X,Y):\n",
    "        # set model to train mode\n",
    "        model.train()\n",
    "        # forward pass\n",
    "        output_logits = model(X)\n",
    "        predictions = torch.argmax(output_logits,dim=1)\n",
    "        accuracy = torch.sum(Y==predictions)/float(len(Y))\n",
    "        f1 = f1_score(Y.cpu(), predictions.cpu(), average='weighted')\n",
    "        # compute loss\n",
    "        loss = loss_fnc(output_logits, Y)\n",
    "        # compute gradients\n",
    "        loss.backward()\n",
    "        # update parameters and zero gradients\n",
    "        optimizer.step()\n",
    "        optimizer.zero_grad()\n",
    "        return loss.item(), accuracy*100, f1\n",
    "    return train_step"
   ]
  },
  {
   "cell_type": "code",
   "execution_count": 15,
   "metadata": {},
   "outputs": [],
   "source": [
    "def make_validate_fnc(model,loss_fnc):\n",
    "    def validate(X,Y):\n",
    "        with torch.no_grad():\n",
    "            model.eval()\n",
    "            output_logits = model(X)\n",
    "            predictions = torch.argmax(output_logits,dim=1)\n",
    "            accuracy = torch.sum(Y==predictions)/float(len(Y))\n",
    "            f1 = f1_score(Y.cpu(), predictions.cpu(), average='weighted')\n",
    "            loss = loss_fnc(output_logits,Y)\n",
    "        return loss.item(), accuracy*100, f1, predictions\n",
    "    return validate"
   ]
  },
  {
   "cell_type": "code",
   "execution_count": 5,
   "metadata": {},
   "outputs": [
    {
     "name": "stdout",
     "output_type": "stream",
     "text": [
      "Number of trainable params:  483847\n"
     ]
    }
   ],
   "source": [
    "device = 'cuda' if torch.cuda.is_available() else 'cpu'\n",
    "model = LSTMnet_RnnAtten(input_dim = 104, hidden_dim=128, output_dim=7, num_layers=3, bidirectional=False).to(device)\n",
    "print('Number of trainable params: ',sum(p.numel() for p in model.parameters()) )\n",
    "OPTIMIZER = torch.optim.SGD(model.parameters(),lr=0.01, weight_decay=1e-2)\n"
   ]
  },
  {
   "cell_type": "code",
   "execution_count": 36,
   "metadata": {
    "scrolled": true
   },
   "outputs": [
    {
     "name": "stdout",
     "output_type": "stream",
     "text": [
      "\n",
      "Epoch 1 --> loss:1.1037, acc:39.06%, f1:0.86, val_loss:1.0981, val_acc:42.78%, val_f1:0.34\n",
      "\n",
      "Epoch 2 --> loss:1.0961, acc:44.28%, f1:0.00, val_loss:1.0962, val_acc:41.43%, val_f1:0.32\n",
      "\n",
      "Epoch 3 --> loss:1.0942, acc:44.13%, f1:0.10, val_loss:1.0939, val_acc:42.69%, val_f1:0.34\n",
      "\n",
      "Epoch 4 --> loss:1.0943, acc:43.90%, f1:0.00, val_loss:1.0903, val_acc:43.77%, val_f1:0.33\n",
      "\n",
      "Epoch 5 --> loss:1.0941, acc:44.35%, f1:0.64, val_loss:1.0980, val_acc:43.50%, val_f1:0.30\n",
      "\n",
      "Epoch 6 --> loss:1.0942, acc:45.67%, f1:0.10, val_loss:1.0913, val_acc:42.24%, val_f1:0.32\n",
      "\n",
      "Epoch 7 --> loss:1.0930, acc:45.36%, f1:0.25, val_loss:1.0906, val_acc:44.04%, val_f1:0.35\n",
      "\n",
      "Epoch 8 --> loss:1.0934, acc:45.55%, f1:0.33, val_loss:1.0896, val_acc:44.95%, val_f1:0.34\n",
      "\n",
      "Epoch 9 --> loss:1.0918, acc:46.31%, f1:0.20, val_loss:1.0939, val_acc:43.32%, val_f1:0.29\n",
      "\n",
      "Epoch 10 --> loss:1.0927, acc:46.02%, f1:0.64, val_loss:1.0914, val_acc:44.31%, val_f1:0.32\n",
      "\n",
      "Epoch 11 --> loss:1.0923, acc:46.35%, f1:0.64, val_loss:1.0904, val_acc:43.77%, val_f1:0.29\n",
      "\n",
      "Epoch 12 --> loss:1.0918, acc:46.60%, f1:0.46, val_loss:1.0908, val_acc:44.49%, val_f1:0.33\n",
      "\n",
      "Epoch 13 --> loss:1.0912, acc:46.59%, f1:0.86, val_loss:1.0920, val_acc:42.96%, val_f1:0.29\n",
      "\n",
      "Epoch 14 --> loss:1.0902, acc:46.68%, f1:0.10, val_loss:1.0870, val_acc:45.58%, val_f1:0.38\n",
      "\n",
      "Epoch 15 --> loss:1.0919, acc:46.08%, f1:0.64, val_loss:1.0911, val_acc:43.86%, val_f1:0.33\n",
      "\n",
      "Epoch 16 --> loss:1.0921, acc:46.63%, f1:0.10, val_loss:1.0915, val_acc:43.32%, val_f1:0.32\n",
      "\n",
      "Epoch 17 --> loss:1.0914, acc:46.65%, f1:0.33, val_loss:1.0909, val_acc:44.04%, val_f1:0.32\n",
      "\n",
      "Epoch 18 --> loss:1.0899, acc:46.63%, f1:0.33, val_loss:1.0919, val_acc:42.33%, val_f1:0.25\n",
      "\n",
      "Epoch 19 --> loss:1.0904, acc:46.81%, f1:0.33, val_loss:1.0896, val_acc:45.58%, val_f1:0.35\n",
      "\n",
      "Epoch 20 --> loss:1.0912, acc:46.87%, f1:0.10, val_loss:1.0892, val_acc:44.40%, val_f1:0.34\n",
      "\n",
      "Epoch 21 --> loss:1.0909, acc:46.97%, f1:0.64, val_loss:1.0895, val_acc:43.41%, val_f1:0.29\n",
      "\n",
      "Epoch 22 --> loss:1.0902, acc:46.76%, f1:0.10, val_loss:1.0902, val_acc:43.68%, val_f1:0.31\n",
      "\n",
      "Epoch 23 --> loss:1.0911, acc:46.69%, f1:0.10, val_loss:1.0893, val_acc:44.22%, val_f1:0.34\n",
      "\n",
      "Epoch 24 --> loss:1.0906, acc:46.92%, f1:0.33, val_loss:1.0900, val_acc:43.59%, val_f1:0.30\n",
      "\n",
      "Epoch 25 --> loss:1.0902, acc:46.90%, f1:0.00, val_loss:1.0895, val_acc:44.13%, val_f1:0.32\n",
      "\n",
      "Epoch 26 --> loss:1.0904, acc:46.66%, f1:0.33, val_loss:1.0891, val_acc:44.77%, val_f1:0.33\n",
      "\n",
      "Epoch 27 --> loss:1.0901, acc:46.86%, f1:0.10, val_loss:1.0893, val_acc:44.95%, val_f1:0.36\n",
      "\n",
      "Epoch 28 --> loss:1.0905, acc:46.68%, f1:0.33, val_loss:1.0897, val_acc:44.68%, val_f1:0.34\n",
      "\n",
      "Epoch 29 --> loss:1.0898, acc:47.15%, f1:1.00, val_loss:1.0890, val_acc:44.95%, val_f1:0.33\n",
      "\n",
      "Epoch 30 --> loss:1.0891, acc:46.91%, f1:0.10, val_loss:1.0873, val_acc:45.04%, val_f1:0.37\n",
      "\n",
      "Epoch 31 --> loss:1.0898, acc:47.09%, f1:0.64, val_loss:1.0887, val_acc:44.95%, val_f1:0.34\n",
      "\n",
      "Epoch 32 --> loss:1.0891, acc:46.98%, f1:0.64, val_loss:1.0888, val_acc:45.49%, val_f1:0.35\n",
      "\n",
      "Epoch 33 --> loss:1.0910, acc:47.19%, f1:0.00, val_loss:1.0898, val_acc:44.95%, val_f1:0.34\n",
      "\n",
      "Epoch 34 --> loss:1.0897, acc:46.55%, f1:0.64, val_loss:1.0891, val_acc:45.31%, val_f1:0.35\n",
      "\n",
      "Epoch 35 --> loss:1.0895, acc:46.92%, f1:0.10, val_loss:1.0878, val_acc:46.39%, val_f1:0.38\n",
      "\n",
      "Epoch 36 --> loss:1.0897, acc:46.74%, f1:0.33, val_loss:1.0875, val_acc:46.39%, val_f1:0.38\n",
      "\n",
      "Epoch 37 --> loss:1.0889, acc:47.08%, f1:1.00, val_loss:1.0878, val_acc:46.66%, val_f1:0.38\n",
      "\n",
      "Epoch 38 --> loss:1.0898, acc:46.77%, f1:0.33, val_loss:1.0887, val_acc:45.13%, val_f1:0.36\n",
      "\n",
      "Epoch 39 --> loss:1.0891, acc:46.88%, f1:0.33, val_loss:1.0887, val_acc:45.85%, val_f1:0.36\n",
      "\n",
      "Epoch 40 --> loss:1.0891, acc:46.97%, f1:0.33, val_loss:1.0879, val_acc:45.67%, val_f1:0.37\n",
      "\n",
      "Epoch 41 --> loss:1.0883, acc:47.24%, f1:0.50, val_loss:1.0886, val_acc:45.40%, val_f1:0.35\n",
      "\n",
      "Epoch 42 --> loss:1.0898, acc:46.34%, f1:0.10, val_loss:1.0880, val_acc:45.31%, val_f1:0.36\n",
      "\n",
      "Epoch 43 --> loss:1.0883, acc:46.97%, f1:0.10, val_loss:1.0876, val_acc:45.76%, val_f1:0.37\n",
      "\n",
      "Epoch 44 --> loss:1.0884, acc:46.90%, f1:0.33, val_loss:1.0877, val_acc:45.85%, val_f1:0.37\n",
      "\n",
      "Epoch 45 --> loss:1.0888, acc:46.61%, f1:0.00, val_loss:1.0869, val_acc:47.11%, val_f1:0.39\n",
      "\n",
      "Epoch 46 --> loss:1.0890, acc:46.78%, f1:0.20, val_loss:1.0860, val_acc:45.22%, val_f1:0.36\n",
      "\n",
      "Epoch 47 --> loss:1.0886, acc:46.79%, f1:0.00, val_loss:1.0855, val_acc:46.21%, val_f1:0.38\n",
      "\n",
      "Epoch 48 --> loss:1.0895, acc:46.50%, f1:0.64, val_loss:1.0854, val_acc:47.11%, val_f1:0.39\n",
      "\n",
      "Epoch 49 --> loss:1.0886, acc:46.45%, f1:0.10, val_loss:1.0832, val_acc:47.83%, val_f1:0.41\n",
      "\n",
      "Epoch 50 --> loss:1.0880, acc:46.77%, f1:0.33, val_loss:1.0840, val_acc:46.39%, val_f1:0.38\n",
      "\n",
      "Epoch 51 --> loss:1.0890, acc:46.78%, f1:0.10, val_loss:1.0836, val_acc:47.20%, val_f1:0.40\n",
      "\n",
      "Epoch 52 --> loss:1.0874, acc:46.98%, f1:0.64, val_loss:1.0837, val_acc:47.56%, val_f1:0.40\n",
      "\n",
      "Epoch 53 --> loss:1.0880, acc:46.93%, f1:0.64, val_loss:1.0854, val_acc:46.93%, val_f1:0.39\n",
      "\n",
      "Epoch 54 --> loss:1.0876, acc:46.94%, f1:0.33, val_loss:1.0860, val_acc:46.93%, val_f1:0.40\n",
      "\n",
      "Epoch 55 --> loss:1.0871, acc:47.10%, f1:0.10, val_loss:1.0847, val_acc:47.20%, val_f1:0.40\n",
      "\n",
      "Epoch 56 --> loss:1.0887, acc:46.25%, f1:0.46, val_loss:1.0851, val_acc:47.38%, val_f1:0.40\n",
      "\n",
      "Epoch 57 --> loss:1.0866, acc:47.05%, f1:1.00, val_loss:1.0838, val_acc:47.20%, val_f1:0.40\n",
      "\n",
      "Epoch 58 --> loss:1.0880, acc:46.38%, f1:0.10, val_loss:1.0827, val_acc:47.02%, val_f1:0.40\n",
      "\n",
      "Epoch 59 --> loss:1.0873, acc:46.25%, f1:0.64, val_loss:1.0832, val_acc:47.29%, val_f1:0.40\n",
      "\n",
      "Epoch 60 --> loss:1.0873, acc:46.68%, f1:0.20, val_loss:1.0825, val_acc:46.93%, val_f1:0.40\n",
      "\n",
      "Epoch 61 --> loss:1.0873, acc:46.37%, f1:0.10, val_loss:1.0849, val_acc:46.12%, val_f1:0.39\n",
      "\n",
      "Epoch 62 --> loss:1.0878, acc:46.46%, f1:0.33, val_loss:1.0828, val_acc:47.02%, val_f1:0.40\n",
      "\n",
      "Epoch 63 --> loss:1.0880, acc:46.55%, f1:0.40, val_loss:1.0827, val_acc:46.84%, val_f1:0.40\n",
      "\n",
      "Epoch 64 --> loss:1.0884, acc:46.94%, f1:0.64, val_loss:1.0839, val_acc:46.57%, val_f1:0.38\n",
      "\n",
      "Epoch 65 --> loss:1.0887, acc:46.28%, f1:0.64, val_loss:1.0832, val_acc:46.12%, val_f1:0.39\n",
      "\n",
      "Epoch 66 --> loss:1.0863, acc:47.34%, f1:0.50, val_loss:1.0866, val_acc:46.21%, val_f1:0.37\n",
      "\n",
      "Epoch 67 --> loss:1.0881, acc:46.54%, f1:0.65, val_loss:1.0816, val_acc:46.75%, val_f1:0.40\n",
      "\n",
      "Epoch 68 --> loss:1.0880, acc:46.50%, f1:0.10, val_loss:1.0824, val_acc:47.20%, val_f1:0.41\n",
      "\n",
      "Epoch 69 --> loss:1.0882, acc:46.27%, f1:0.33, val_loss:1.0811, val_acc:47.29%, val_f1:0.41\n",
      "\n",
      "Epoch 70 --> loss:1.0884, acc:46.14%, f1:0.64, val_loss:1.0824, val_acc:47.02%, val_f1:0.40\n",
      "\n",
      "Epoch 71 --> loss:1.0872, acc:46.83%, f1:0.64, val_loss:1.0810, val_acc:47.47%, val_f1:0.41\n",
      "\n",
      "Epoch 72 --> loss:1.0866, acc:47.19%, f1:0.10, val_loss:1.0814, val_acc:47.11%, val_f1:0.40\n",
      "\n",
      "Epoch 73 --> loss:1.0872, acc:46.54%, f1:0.64, val_loss:1.0818, val_acc:47.47%, val_f1:0.40\n",
      "\n",
      "Epoch 74 --> loss:1.0858, acc:46.88%, f1:0.12, val_loss:1.0823, val_acc:46.75%, val_f1:0.40\n",
      "\n",
      "Epoch 75 --> loss:1.0880, acc:46.40%, f1:0.73, val_loss:1.0875, val_acc:46.39%, val_f1:0.37\n",
      "\n",
      "Epoch 76 --> loss:1.0878, acc:46.17%, f1:0.33, val_loss:1.0804, val_acc:47.38%, val_f1:0.41\n",
      "\n",
      "Epoch 77 --> loss:1.0876, acc:46.70%, f1:0.10, val_loss:1.0820, val_acc:47.20%, val_f1:0.40\n",
      "\n",
      "Epoch 78 --> loss:1.0873, acc:46.61%, f1:0.46, val_loss:1.0817, val_acc:46.21%, val_f1:0.39\n",
      "\n",
      "Epoch 79 --> loss:1.0875, acc:46.30%, f1:0.40, val_loss:1.0802, val_acc:47.38%, val_f1:0.41\n",
      "\n",
      "Epoch 80 --> loss:1.0865, acc:47.18%, f1:0.10, val_loss:1.0808, val_acc:46.57%, val_f1:0.40\n",
      "\n",
      "Epoch 81 --> loss:1.0879, acc:46.00%, f1:0.10, val_loss:1.0804, val_acc:47.02%, val_f1:0.41\n",
      "\n",
      "Epoch 82 --> loss:1.0865, acc:46.82%, f1:0.10, val_loss:1.0832, val_acc:47.29%, val_f1:0.40\n",
      "\n",
      "Epoch 83 --> loss:1.0872, acc:46.65%, f1:0.64, val_loss:1.0833, val_acc:46.93%, val_f1:0.39\n",
      "\n",
      "Epoch 84 --> loss:1.0870, acc:46.94%, f1:0.00, val_loss:1.0814, val_acc:47.56%, val_f1:0.41\n",
      "\n",
      "Epoch 85 --> loss:1.0868, acc:46.74%, f1:0.33, val_loss:1.0838, val_acc:46.57%, val_f1:0.38\n",
      "\n",
      "Epoch 86 --> loss:1.0880, acc:46.11%, f1:0.33, val_loss:1.0807, val_acc:47.02%, val_f1:0.40\n",
      "\n",
      "Epoch 87 --> loss:1.0868, acc:46.43%, f1:0.64, val_loss:1.0812, val_acc:46.21%, val_f1:0.40\n",
      "\n",
      "Epoch 88 --> loss:1.0862, acc:46.66%, f1:0.50, val_loss:1.0852, val_acc:46.57%, val_f1:0.38\n",
      "\n",
      "Epoch 89 --> loss:1.0866, acc:46.66%, f1:0.10, val_loss:1.0824, val_acc:46.39%, val_f1:0.39\n",
      "\n",
      "Epoch 90 --> loss:1.0872, acc:46.61%, f1:0.10, val_loss:1.0852, val_acc:45.58%, val_f1:0.37\n",
      "\n",
      "Epoch 91 --> loss:1.0872, acc:46.19%, f1:0.10, val_loss:1.0829, val_acc:46.03%, val_f1:0.38\n",
      "\n",
      "Epoch 92 --> loss:1.0876, acc:46.68%, f1:0.00, val_loss:1.0824, val_acc:45.67%, val_f1:0.39\n",
      "\n",
      "Epoch 93 --> loss:1.0870, acc:46.81%, f1:0.00, val_loss:1.0801, val_acc:45.85%, val_f1:0.39\n",
      "\n",
      "Epoch 94 --> loss:1.0874, acc:46.24%, f1:0.10, val_loss:1.0819, val_acc:47.11%, val_f1:0.40\n",
      "\n",
      "Epoch 95 --> loss:1.0865, acc:46.75%, f1:0.33, val_loss:1.0838, val_acc:46.30%, val_f1:0.38\n",
      "\n",
      "Epoch 96 --> loss:1.0865, acc:46.99%, f1:0.50, val_loss:1.0791, val_acc:47.74%, val_f1:0.41\n",
      "\n",
      "Epoch 97 --> loss:1.0861, acc:47.22%, f1:0.40, val_loss:1.0812, val_acc:46.84%, val_f1:0.40\n",
      "\n",
      "Epoch 98 --> loss:1.0863, acc:46.75%, f1:0.10, val_loss:1.0767, val_acc:48.19%, val_f1:0.42\n",
      "\n",
      "Epoch 99 --> loss:1.0861, acc:46.64%, f1:0.40, val_loss:1.0845, val_acc:46.39%, val_f1:0.38\n",
      "\n",
      "Epoch 100 --> loss:1.0882, acc:45.84%, f1:0.64, val_loss:1.0797, val_acc:46.66%, val_f1:0.40\n"
     ]
    }
   ],
   "source": [
    "train_step = make_train_step(model, loss_fnc, optimizer=OPTIMIZER)\n",
    "validate = make_validate_fnc(model,loss_fnc)\n",
    "\n",
    "val_accs = []\n",
    "losses=[]\n",
    "val_losses = []\n",
    "f1s = []\n",
    "val_f1s= []\n",
    "epochs = 100\n",
    "best_val_f1 = 0.3\n",
    "\n",
    "for epoch in range(epochs):\n",
    "    epoch_acc = 0\n",
    "    epoch_loss = 0\n",
    "    epoch_f1 = 0\n",
    "    for idx, (features, labels) in enumerate(train_dataloader):\n",
    "        X, Y = features, labels\n",
    "        X_tensor = torch.tensor(X,device=device).float()\n",
    "        Y_tensor = torch.tensor(Y, dtype=torch.long,device=device)\n",
    "        loss, acc, f1= train_step(X_tensor,Y_tensor)\n",
    "        epoch_acc += acc*len(features)/len(train)\n",
    "        epoch_loss += loss*len(features)/len(train)\n",
    "        epoch_f1 += f1*len(features)/len(train)\n",
    "    for batch in val_dataloader:\n",
    "        X_val, Y_val = batch\n",
    "        break\n",
    "    X_val_tensor = torch.tensor(X_val,device=device).float()\n",
    "    Y_val_tensor = torch.tensor(Y_val,dtype=torch.long,device=device)\n",
    "    val_loss, val_acc, val_f1, _ = validate(X_val_tensor,Y_val_tensor)\n",
    "    val_accs.append(val_acc.cpu())\n",
    "    losses.append(epoch_loss)\n",
    "    val_losses.append(val_loss)\n",
    "    f1s.append(epoch_f1)\n",
    "    val_f1s.append(val_f1)\n",
    "    \n",
    "    if val_f1 > best_val_f1:\n",
    "        torch.save(model.state_dict(), f'best-model-parameters-audio-sent1.pt')\n",
    "        best_epoch = epoch\n",
    "        best_val_f1 = val_f1\n",
    "        \n",
    "    print('')\n",
    "    print(f\"Epoch {epoch+1} --> loss:{epoch_loss:.4f}, acc:{epoch_acc:.2f}%, f1:{f1:.2f}, val_loss:{val_loss:.4f}, val_acc:{val_acc:.2f}%, val_f1:{val_f1:.2f}\")"
   ]
  },
  {
   "cell_type": "code",
   "execution_count": 37,
   "metadata": {},
   "outputs": [
    {
     "name": "stdout",
     "output_type": "stream",
     "text": [
      "0.42259791393340973\n"
     ]
    },
    {
     "data": {
      "image/png": "[encoded data removed]",
      "text/plain": [
       "<Figure size 432x288 with 1 Axes>"
      ]
     },
     "metadata": {
      "needs_background": "light"
     },
     "output_type": "display_data"
    }
   ],
   "source": [
    "import matplotlib.pyplot as plt\n",
    "x = range(epochs)\n",
    "\n",
    "fig, ax = plt.subplots()\n",
    "ax.set_xlabel('epoch #')\n",
    "ax.set_ylabel('')\n",
    "ax.plot(x,np.divide(val_accs,100), label='val_acc')\n",
    "ax.plot(x,np.divide(val_f1s,1), label='val_f1')\n",
    "ax.plot(x, losses, label='loss')\n",
    "ax.plot(x, val_losses, label='val_loss')\n",
    "\n",
    "ax.plot(x, 0.7*np.ones(len(x)), '--', color=(0.1,0.1,0.1))\n",
    "ax.legend()\n",
    "print(best_val_f1)\n",
    "\n"
   ]
  },
  {
   "cell_type": "code",
   "execution_count": 7,
   "metadata": {},
   "outputs": [],
   "source": [
    "\n",
    "test = AudioDataset(test_annotations, test_audio, emotion=em)\n",
    "\n",
    "\n"
   ]
  },
  {
   "cell_type": "code",
   "execution_count": 12,
   "metadata": {},
   "outputs": [],
   "source": [
    "test_dataloader = DataLoader(test, batch_size=len(test), shuffle = False, drop_last=False)\n"
   ]
  },
  {
   "cell_type": "code",
   "execution_count": 39,
   "metadata": {},
   "outputs": [],
   "source": [
    "torch.save(model.state_dict(), 'best-model-parameters-audio-sent2.pt')"
   ]
  },
  {
   "cell_type": "code",
   "execution_count": 14,
   "metadata": {},
   "outputs": [
    {
     "data": {
      "text/plain": [
       "<All keys matched successfully>"
      ]
     },
     "execution_count": 14,
     "metadata": {},
     "output_type": "execute_result"
    }
   ],
   "source": [
    "model.load_state_dict(torch.load(\"best-model-parameters-audio-emo.pt\"))"
   ]
  },
  {
   "cell_type": "code",
   "execution_count": 13,
   "metadata": {},
   "outputs": [
    {
     "name": "stdout",
     "output_type": "stream",
     "text": [
      "0.31656121205055987\n",
      "[0.02724796 0.         0.         0.         0.65035147 0.\n",
      " 0.        ]\n"
     ]
    }
   ],
   "source": [
    "\n",
    "\n",
    "\n",
    "device = 'cpu'\n",
    "model.to(device)\n",
    "f1s = []\n",
    "f1ss = []\n",
    "\n",
    "for idx, (features, labels) in enumerate(test_dataloader):\n",
    "    X, Y = features, labels\n",
    "    \n",
    "    X_tensor = torch.tensor(X,device=device).float()\n",
    "    Y_tensor = torch.tensor(Y, dtype=torch.long,device=device)\n",
    "    with torch.no_grad():\n",
    "        output_logits = model(X)\n",
    "    predictions = torch.argmax(output_logits,dim=1)\n",
    "   \n",
    "    f1 = f1_score(Y.cpu(), predictions.cpu(), average='weighted')\n",
    "    f1_ = f1_score(Y.cpu(), predictions.cpu(), average=None, labels=[0,1,2,3,4,5,6])\n",
    "    f1s.append(f1)\n",
    "    f1ss.append(f1_)\n",
    "\n",
    "print(f1)\n",
    "print(f1_)\n",
    "# print(np.mean(f1s, axis = 0))\n",
    "# print(np.mean(f1ss, axis = 0))\n",
    "# emotions = {'anger':0, 'disgust':1, 'fear':2, 'joy':3, 'neutral':4, 'sadness':5, 'surprise':6}\n",
    "#  emotions = {'negative':0, 'positive':1, 'neutral':2}"
   ]
  },
  {
   "cell_type": "code",
   "execution_count": null,
   "metadata": {},
   "outputs": [
    {
     "data": {
      "text/plain": [
       "array([0.18863446, 0.11452991, 0.12432012, 0.10622711, 0.12609649,\n",
       "       0.13588691, 0.08615137, 0.16396316, 0.10855263, 0.15289855,\n",
       "       0.11363636, 0.22304491])"
      ]
     },
     "execution_count": 29,
     "metadata": {},
     "output_type": "execute_result"
    }
   ],
   "source": [
    "els = []\n",
    "for el in f1s:\n",
    "    if el.shape[0] == 6:\n",
    "        els.append(el)\n",
    "np.mean(els,axis=1)"
   ]
  },
  {
   "cell_type": "code",
   "execution_count": null,
   "metadata": {},
   "outputs": [
    {
     "name": "stdout",
     "output_type": "stream",
     "text": [
      "0.1280856717489986\n"
     ]
    },
    {
     "data": {
      "image/png": "[encoded data removed]",
      "text/plain": [
       "<Figure size 432x288 with 1 Axes>"
      ]
     },
     "metadata": {
      "needs_background": "light"
     },
     "output_type": "display_data"
    }
   ],
   "source": []
  },
  {
   "cell_type": "code",
   "execution_count": null,
   "metadata": {},
   "outputs": [],
   "source": []
  }
 ],
 "metadata": {
  "interpreter": {
   "hash": "d1342e48b91422693146d497b2a8030f014fedc60a9bc30ab582333e6e4c2682"
  },
  "kernelspec": {
   "display_name": "Python 3.9.1 64-bit",
   "language": "python",
   "name": "python3"
  },
  "language_info": {
   "codemirror_mode": {
    "name": "ipython",
    "version": 3
   },
   "file_extension": ".py",
   "mimetype": "text/x-python",
   "name": "python",
   "nbconvert_exporter": "python",
   "pygments_lexer": "ipython3",
   "version": "3.9.1"
  }
 },
 "nbformat": 4,
 "nbformat_minor": 2
}
