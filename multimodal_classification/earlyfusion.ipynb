{
 "cells": [
  {
   "cell_type": "code",
   "execution_count": 1,
   "metadata": {},
   "outputs": [],
   "source": [
    "#Notebook for doing the actual classification"
   ]
  },
  {
   "cell_type": "code",
   "execution_count": 1,
   "metadata": {},
   "outputs": [],
   "source": [
    "import warnings\n",
    "warnings.filterwarnings(\"ignore\")\n",
    "from utils.dataset import AudioDataset, TextDataset, AudioNText\n",
    "from torch.utils.data import DataLoader\n",
    "import torch.optim as optim\n",
    "from torch import nn\n",
    "import torch\n",
    "from utils.model import LSTMnet_RnnAtten\n",
    "import numpy as np\n",
    "from sklearn.model_selection import train_test_split\n",
    "from sklearn.metrics import f1_score\n",
    "import pandas as pd"
   ]
  },
  {
   "cell_type": "code",
   "execution_count": 2,
   "metadata": {},
   "outputs": [],
   "source": [
    "train_annotations = '..\\\\data\\\\MELD\\\\train_sent_emo.csv'\n",
    "val_annotations = '..\\\\data\\\\\\MELD\\\\dev_sent_emo.csv'\n",
    "test_annotations = '..\\\\data\\\\MELD\\\\test_sent_emo.csv'\n",
    "\n",
    "\n",
    "\n",
    "\n",
    "train_bert = '..\\\\text_only\\\\embeddings\\\\bert_embeddings'\n",
    "val_bert = '..\\\\text_only\\\\embeddings\\\\bert_embeddings_val'\n",
    "test_bert = '..\\\\text_only\\\\embeddings\\\\bert_embeddings_test'\n",
    "\n",
    "train_audio = '..\\\\data\\\\MELD\\\\audio\\\\wav\\\\'\n",
    "val_audio = '..\\\\data\\\\MELD\\\\audio\\\\wav_dev\\\\'\n",
    "test_audio = '..\\\\data\\\\MELD\\\\audio\\\\wav_test\\\\'"
   ]
  },
  {
   "cell_type": "code",
   "execution_count": 5,
   "metadata": {},
   "outputs": [],
   "source": [
    "em = True\n",
    "# audio_train = AudioDataset(train_annotations, train_audio, emotion=em)\n",
    "# audio_val = AudioDataset(val_annotations, val_audio, emotion=em)\n",
    "audio_test = AudioDataset(test_annotations, test_audio, emotion=em)\n",
    "\n",
    "# text_train = TextDataset(train_annotations, train_bert, emotion=em)\n",
    "text_val = TextDataset(val_annotations, val_bert, emotion=em)\n",
    "text_test = TextDataset(test_annotations, test_bert, emotion=em)\n",
    "\n",
    "\n"
   ]
  },
  {
   "cell_type": "code",
   "execution_count": 5,
   "metadata": {},
   "outputs": [
    {
     "data": {
      "text/plain": [
       "(9989, 9988)"
      ]
     },
     "execution_count": 5,
     "metadata": {},
     "output_type": "execute_result"
    }
   ],
   "source": [
    "len(text_train), len(audio_train)"
   ]
  },
  {
   "cell_type": "code",
   "execution_count": 6,
   "metadata": {},
   "outputs": [],
   "source": [
    "\n",
    "train = AudioNText(audio_train, text_train)\n",
    "val = AudioNText(audio_val, text_val)\n",
    "\n",
    "\n",
    "batch_size = 64\n",
    "\n",
    "train_dataloader = DataLoader(train, batch_size=batch_size, shuffle = True, drop_last=False)\n",
    "\n",
    "\n",
    "train_features, train_labels = next(iter(train_dataloader))\n"
   ]
  },
  {
   "cell_type": "code",
   "execution_count": 7,
   "metadata": {},
   "outputs": [],
   "source": [
    "val_dataloader =  DataLoader(val, batch_size=len(val), shuffle = True, drop_last=False)"
   ]
  },
  {
   "cell_type": "code",
   "execution_count": 8,
   "metadata": {},
   "outputs": [
    {
     "data": {
      "text/plain": [
       "(9988, 1108)"
      ]
     },
     "execution_count": 8,
     "metadata": {},
     "output_type": "execute_result"
    }
   ],
   "source": [
    "len(train), len(val)"
   ]
  },
  {
   "cell_type": "code",
   "execution_count": 9,
   "metadata": {},
   "outputs": [
    {
     "name": "stdout",
     "output_type": "stream",
     "text": [
      "audio Feature batch shape: torch.Size([64, 872])\n",
      "Labels batch shape: torch.Size([64])\n"
     ]
    },
    {
     "data": {
      "text/plain": [
       "(torch.Size([872]),\n",
       " tensor([2, 1, 2, 2, 2, 2, 0, 2, 1, 0, 2, 2, 0, 0, 2, 0, 1, 1, 2, 0, 0, 1, 1, 2,\n",
       "         2, 1, 1, 2, 2, 0, 0, 0, 2, 2, 0, 2, 2, 1, 0, 2, 0, 0, 0, 1, 1, 1, 0, 2,\n",
       "         2, 1, 1, 2, 0, 2, 2, 2, 2, 1, 1, 0, 2, 1, 2, 2]))"
      ]
     },
     "execution_count": 9,
     "metadata": {},
     "output_type": "execute_result"
    }
   ],
   "source": [
    "\n",
    "\n",
    "print(f\"audio Feature batch shape: {train_features.size()}\")\n",
    "print(f\"Labels batch shape: {train_labels.size()}\")\n",
    "features = train_features[0]\n",
    "label = train_labels\n",
    "\n",
    "features.shape,label"
   ]
  },
  {
   "cell_type": "code",
   "execution_count": 10,
   "metadata": {},
   "outputs": [],
   "source": [
    "device = 'cuda' if torch.cuda.is_available() else 'cpu'\n",
    "if em:\n",
    "    weight=torch.tensor([1-1109/9989, 1-271/9989, 1-268/9989, 1-1743/9989, 1-4710/9989, 1-683/9989, 1-1205/9989]).to(device=device)\n",
    "else:\n",
    "    weight=torch.tensor([1-2945/9989, 1-2334/9989, 1-4710/9989]).to(device=device)\n",
    "\n"
   ]
  },
  {
   "cell_type": "code",
   "execution_count": 20,
   "metadata": {},
   "outputs": [],
   "source": [
    "def loss_fnc(predictions, targets):\n",
    "    return nn.CrossEntropyLoss(weight=weight, label_smoothing=0.01)(input=predictions,target=targets)"
   ]
  },
  {
   "cell_type": "code",
   "execution_count": 21,
   "metadata": {},
   "outputs": [],
   "source": [
    "def make_train_step(model, loss_fnc, optimizer):\n",
    "    def train_step(X,Y):\n",
    "        # set model to train mode\n",
    "        model.train()\n",
    "        # forward pass\n",
    "        output_logits = model(X)\n",
    "        predictions = torch.argmax(output_logits,dim=1)\n",
    "        accuracy = torch.sum(Y==predictions)/float(len(Y))\n",
    "        f1 = f1_score(Y.cpu(), predictions.cpu(), average='weighted')\n",
    "        # compute loss\n",
    "        loss = loss_fnc(output_logits, Y)\n",
    "        # compute gradients\n",
    "        loss.backward()\n",
    "        # update parameters and zero gradients\n",
    "        optimizer.step()\n",
    "        optimizer.zero_grad()\n",
    "        return loss.item(), accuracy*100 , f1*100\n",
    "    return train_step"
   ]
  },
  {
   "cell_type": "code",
   "execution_count": 22,
   "metadata": {},
   "outputs": [],
   "source": [
    "def make_validate_fnc(model,loss_fnc):\n",
    "    def validate(X,Y):\n",
    "        with torch.no_grad():\n",
    "            model.eval()\n",
    "           \n",
    "            output_logits = model(X)\n",
    "            \n",
    "            predictions = torch.argmax(output_logits,dim=1)\n",
    "            accuracy = torch.sum(Y==predictions)/float(len(Y))\n",
    "            f1 = f1_score(Y.cpu(), predictions.cpu(), average='weighted')\n",
    "            loss = loss_fnc(output_logits,Y)\n",
    "        return loss.item(), accuracy*100, predictions, f1*100\n",
    "    return validate"
   ]
  },
  {
   "cell_type": "code",
   "execution_count": 3,
   "metadata": {},
   "outputs": [
    {
     "name": "stdout",
     "output_type": "stream",
     "text": [
      "Number of trainable params:  2606087\n"
     ]
    }
   ],
   "source": [
    "device = 'cuda' if torch.cuda.is_available() else 'cpu'\n",
    "model = LSTMnet_RnnAtten(input_dim = 104+768, hidden_dim=256, output_dim=7, num_layers=3, bidirectional=False).to(device)\n",
    "print('Number of trainable params: ',sum(p.numel() for p in model.parameters()) )\n",
    "OPTIMIZER = torch.optim.Adam(model.parameters(),lr=0.0001, weight_decay=1e-3)"
   ]
  },
  {
   "cell_type": "code",
   "execution_count": 24,
   "metadata": {},
   "outputs": [
    {
     "name": "stdout",
     "output_type": "stream",
     "text": [
      "\n",
      "Epoch 1 --> loss:1.1024, acc:39.57%, val_loss:1.0933, val_acc:43.95%  f1:37.50%, val_f1:37.34\n",
      "\n",
      "Epoch 2 --> loss:1.0965, acc:42.42%, val_loss:1.0958, val_acc:41.88%  f1:73.33%, val_f1:32.23\n",
      "\n",
      "Epoch 3 --> loss:1.0932, acc:43.35%, val_loss:1.0950, val_acc:43.41%  f1:10.00%, val_f1:33.23\n",
      "\n",
      "Epoch 4 --> loss:1.0932, acc:43.43%, val_loss:1.0886, val_acc:42.24%  f1:33.33%, val_f1:33.21\n",
      "\n",
      "Epoch 5 --> loss:1.0916, acc:43.87%, val_loss:1.0927, val_acc:42.69%  f1:37.50%, val_f1:34.41\n",
      "\n",
      "Epoch 6 --> loss:1.0906, acc:44.50%, val_loss:1.0893, val_acc:44.31%  f1:65.00%, val_f1:34.52\n",
      "\n",
      "Epoch 7 --> loss:1.0882, acc:44.91%, val_loss:1.0939, val_acc:43.95%  f1:0.00%, val_f1:36.00\n",
      "\n",
      "Epoch 8 --> loss:1.0883, acc:44.22%, val_loss:1.0861, val_acc:45.85%  f1:75.00%, val_f1:37.74\n",
      "\n",
      "Epoch 9 --> loss:1.0882, acc:45.39%, val_loss:1.0828, val_acc:44.68%  f1:100.00%, val_f1:38.81\n",
      "\n",
      "Epoch 10 --> loss:1.0866, acc:45.32%, val_loss:1.0842, val_acc:43.50%  f1:50.00%, val_f1:38.21\n",
      "\n",
      "Epoch 11 --> loss:1.0871, acc:45.14%, val_loss:1.0816, val_acc:44.22%  f1:30.00%, val_f1:38.97\n",
      "\n",
      "Epoch 12 --> loss:1.0870, acc:44.65%, val_loss:1.0882, val_acc:43.86%  f1:0.00%, val_f1:38.90\n",
      "\n",
      "Epoch 13 --> loss:1.0869, acc:44.50%, val_loss:1.0861, val_acc:45.13%  f1:100.00%, val_f1:37.92\n",
      "\n",
      "Epoch 14 --> loss:1.0839, acc:46.15%, val_loss:1.0851, val_acc:44.58%  f1:12.50%, val_f1:38.24\n",
      "\n",
      "Epoch 15 --> loss:1.0800, acc:45.96%, val_loss:1.0901, val_acc:45.49%  f1:0.00%, val_f1:39.70\n",
      "\n",
      "Epoch 16 --> loss:1.0843, acc:45.55%, val_loss:1.0827, val_acc:45.49%  f1:50.00%, val_f1:39.63\n",
      "\n",
      "Epoch 17 --> loss:1.0825, acc:45.97%, val_loss:1.0862, val_acc:46.93%  f1:73.33%, val_f1:40.39\n",
      "\n",
      "Epoch 18 --> loss:1.0816, acc:46.04%, val_loss:1.0860, val_acc:45.58%  f1:65.00%, val_f1:38.09\n",
      "\n",
      "Epoch 19 --> loss:1.0800, acc:45.82%, val_loss:1.0840, val_acc:46.48%  f1:30.00%, val_f1:38.87\n",
      "\n",
      "Epoch 20 --> loss:1.0774, acc:46.94%, val_loss:1.0887, val_acc:44.86%  f1:0.00%, val_f1:38.25\n",
      "\n",
      "Epoch 21 --> loss:1.0766, acc:47.01%, val_loss:1.0839, val_acc:46.57%  f1:25.00%, val_f1:40.81\n",
      "\n",
      "Epoch 22 --> loss:1.0775, acc:46.64%, val_loss:1.0819, val_acc:46.57%  f1:0.00%, val_f1:40.39\n",
      "\n",
      "Epoch 23 --> loss:1.0742, acc:47.09%, val_loss:1.0786, val_acc:45.31%  f1:20.00%, val_f1:39.15\n",
      "\n",
      "Epoch 24 --> loss:1.0738, acc:47.30%, val_loss:1.0782, val_acc:47.11%  f1:73.33%, val_f1:40.30\n",
      "\n",
      "Epoch 25 --> loss:1.0744, acc:46.45%, val_loss:1.0777, val_acc:46.75%  f1:0.00%, val_f1:40.70\n",
      "\n",
      "Epoch 26 --> loss:1.0740, acc:47.06%, val_loss:1.0806, val_acc:47.38%  f1:50.00%, val_f1:40.46\n",
      "\n",
      "Epoch 27 --> loss:1.0712, acc:48.05%, val_loss:1.0758, val_acc:47.02%  f1:41.67%, val_f1:41.16\n",
      "\n",
      "Epoch 28 --> loss:1.0686, acc:47.86%, val_loss:1.0835, val_acc:46.93%  f1:85.71%, val_f1:41.06\n",
      "\n",
      "Epoch 29 --> loss:1.0672, acc:48.32%, val_loss:1.0819, val_acc:45.85%  f1:25.00%, val_f1:40.18\n",
      "\n",
      "Epoch 30 --> loss:1.0659, acc:48.20%, val_loss:1.0748, val_acc:46.93%  f1:65.00%, val_f1:41.44\n",
      "\n",
      "Epoch 31 --> loss:1.0644, acc:47.91%, val_loss:1.0742, val_acc:45.76%  f1:45.83%, val_f1:41.12\n",
      "\n",
      "Epoch 32 --> loss:1.0629, acc:48.10%, val_loss:1.0812, val_acc:46.57%  f1:40.00%, val_f1:40.79\n",
      "\n",
      "Epoch 33 --> loss:1.0634, acc:47.88%, val_loss:1.0740, val_acc:47.11%  f1:41.67%, val_f1:41.74\n",
      "\n",
      "Epoch 34 --> loss:1.0614, acc:48.81%, val_loss:1.0732, val_acc:47.29%  f1:12.50%, val_f1:41.79\n",
      "\n",
      "Epoch 35 --> loss:1.0613, acc:48.26%, val_loss:1.0716, val_acc:47.56%  f1:0.00%, val_f1:41.75\n",
      "\n",
      "Epoch 36 --> loss:1.0619, acc:48.27%, val_loss:1.0837, val_acc:45.94%  f1:60.00%, val_f1:40.41\n",
      "\n",
      "Epoch 37 --> loss:1.0603, acc:48.56%, val_loss:1.0780, val_acc:45.58%  f1:30.00%, val_f1:41.14\n",
      "\n",
      "Epoch 38 --> loss:1.0552, acc:49.39%, val_loss:1.0795, val_acc:44.86%  f1:40.00%, val_f1:39.93\n",
      "\n",
      "Epoch 39 --> loss:1.0542, acc:48.46%, val_loss:1.0826, val_acc:46.30%  f1:100.00%, val_f1:41.82\n",
      "\n",
      "Epoch 40 --> loss:1.0507, acc:48.69%, val_loss:1.0769, val_acc:46.66%  f1:75.00%, val_f1:41.79\n",
      "\n",
      "Epoch 41 --> loss:1.0537, acc:48.72%, val_loss:1.0864, val_acc:45.49%  f1:45.83%, val_f1:41.86\n",
      "\n",
      "Epoch 42 --> loss:1.0490, acc:49.38%, val_loss:1.0783, val_acc:46.93%  f1:20.00%, val_f1:42.51\n",
      "\n",
      "Epoch 43 --> loss:1.0477, acc:49.87%, val_loss:1.0792, val_acc:45.40%  f1:50.00%, val_f1:40.43\n",
      "\n",
      "Epoch 44 --> loss:1.0452, acc:49.23%, val_loss:1.0869, val_acc:45.40%  f1:37.50%, val_f1:41.08\n",
      "\n",
      "Epoch 45 --> loss:1.0440, acc:49.43%, val_loss:1.0839, val_acc:44.77%  f1:54.17%, val_f1:40.81\n",
      "\n",
      "Epoch 46 --> loss:1.0419, acc:50.09%, val_loss:1.0891, val_acc:46.03%  f1:50.00%, val_f1:41.45\n",
      "\n",
      "Epoch 47 --> loss:1.0412, acc:49.86%, val_loss:1.0756, val_acc:46.30%  f1:66.67%, val_f1:42.37\n",
      "\n",
      "Epoch 48 --> loss:1.0386, acc:50.28%, val_loss:1.0759, val_acc:46.12%  f1:66.67%, val_f1:42.17\n",
      "\n",
      "Epoch 49 --> loss:1.0354, acc:50.54%, val_loss:1.0838, val_acc:46.30%  f1:33.33%, val_f1:42.76\n",
      "\n",
      "Epoch 50 --> loss:1.0373, acc:50.13%, val_loss:1.0808, val_acc:46.21%  f1:50.00%, val_f1:42.06\n",
      "\n",
      "Epoch 51 --> loss:1.0329, acc:50.29%, val_loss:1.0871, val_acc:46.12%  f1:76.67%, val_f1:42.46\n",
      "\n",
      "Epoch 52 --> loss:1.0280, acc:50.83%, val_loss:1.0860, val_acc:45.94%  f1:60.00%, val_f1:43.91\n",
      "\n",
      "Epoch 53 --> loss:1.0251, acc:50.57%, val_loss:1.0859, val_acc:45.85%  f1:37.50%, val_f1:42.27\n",
      "\n",
      "Epoch 54 --> loss:1.0269, acc:51.26%, val_loss:1.0838, val_acc:45.40%  f1:60.00%, val_f1:43.22\n",
      "\n",
      "Epoch 55 --> loss:1.0224, acc:52.26%, val_loss:1.0942, val_acc:45.49%  f1:65.00%, val_f1:42.16\n",
      "\n",
      "Epoch 56 --> loss:1.0198, acc:51.49%, val_loss:1.0800, val_acc:47.92%  f1:0.00%, val_f1:44.14\n",
      "\n",
      "Epoch 57 --> loss:1.0190, acc:51.73%, val_loss:1.0844, val_acc:45.04%  f1:30.00%, val_f1:43.04\n",
      "\n",
      "Epoch 58 --> loss:1.0162, acc:52.49%, val_loss:1.0855, val_acc:45.58%  f1:50.00%, val_f1:42.58\n",
      "\n",
      "Epoch 59 --> loss:1.0108, acc:51.48%, val_loss:1.0814, val_acc:46.93%  f1:50.00%, val_f1:44.78\n",
      "\n",
      "Epoch 60 --> loss:1.0110, acc:52.30%, val_loss:1.0826, val_acc:47.56%  f1:0.00%, val_f1:44.97\n",
      "\n",
      "Epoch 61 --> loss:1.0106, acc:52.07%, val_loss:1.0957, val_acc:44.68%  f1:50.00%, val_f1:41.83\n",
      "\n",
      "Epoch 62 --> loss:1.0041, acc:52.94%, val_loss:1.0802, val_acc:45.67%  f1:40.00%, val_f1:43.07\n",
      "\n",
      "Epoch 63 --> loss:0.9980, acc:52.68%, val_loss:1.0872, val_acc:46.39%  f1:100.00%, val_f1:44.55\n",
      "\n",
      "Epoch 64 --> loss:0.9936, acc:53.82%, val_loss:1.0850, val_acc:45.94%  f1:100.00%, val_f1:43.29\n",
      "\n",
      "Epoch 65 --> loss:0.9964, acc:52.79%, val_loss:1.0753, val_acc:45.31%  f1:62.50%, val_f1:43.31\n",
      "\n",
      "Epoch 66 --> loss:0.9949, acc:52.60%, val_loss:1.0978, val_acc:45.04%  f1:85.00%, val_f1:43.52\n",
      "\n",
      "Epoch 67 --> loss:0.9979, acc:53.38%, val_loss:1.0844, val_acc:46.03%  f1:66.67%, val_f1:44.42\n",
      "\n",
      "Epoch 68 --> loss:0.9998, acc:53.08%, val_loss:1.0844, val_acc:46.57%  f1:75.00%, val_f1:44.34\n",
      "\n",
      "Epoch 69 --> loss:0.9916, acc:53.38%, val_loss:1.0831, val_acc:45.49%  f1:40.00%, val_f1:43.69\n",
      "\n",
      "Epoch 70 --> loss:0.9821, acc:54.58%, val_loss:1.0933, val_acc:45.40%  f1:66.67%, val_f1:42.85\n",
      "\n",
      "Epoch 71 --> loss:0.9766, acc:54.40%, val_loss:1.1021, val_acc:44.68%  f1:58.33%, val_f1:42.44\n",
      "\n",
      "Epoch 72 --> loss:0.9849, acc:54.50%, val_loss:1.0995, val_acc:44.04%  f1:85.71%, val_f1:42.59\n",
      "\n",
      "Epoch 73 --> loss:0.9853, acc:53.96%, val_loss:1.0974, val_acc:44.49%  f1:33.33%, val_f1:42.57\n",
      "\n",
      "Epoch 74 --> loss:0.9861, acc:53.39%, val_loss:1.1065, val_acc:45.31%  f1:40.00%, val_f1:42.87\n",
      "\n",
      "Epoch 75 --> loss:0.9798, acc:53.55%, val_loss:1.1051, val_acc:44.77%  f1:75.00%, val_f1:42.71\n",
      "\n",
      "Epoch 76 --> loss:0.9789, acc:54.52%, val_loss:1.0974, val_acc:45.49%  f1:50.00%, val_f1:43.63\n",
      "\n",
      "Epoch 77 --> loss:0.9666, acc:54.70%, val_loss:1.1132, val_acc:43.95%  f1:75.00%, val_f1:42.57\n",
      "\n",
      "Epoch 78 --> loss:0.9762, acc:54.51%, val_loss:1.1040, val_acc:44.77%  f1:100.00%, val_f1:43.12\n",
      "\n",
      "Epoch 79 --> loss:0.9674, acc:55.15%, val_loss:1.1010, val_acc:45.04%  f1:25.00%, val_f1:43.17\n",
      "\n",
      "Epoch 80 --> loss:0.9587, acc:55.35%, val_loss:1.1106, val_acc:44.95%  f1:0.00%, val_f1:43.06\n",
      "\n",
      "Epoch 81 --> loss:0.9603, acc:56.01%, val_loss:1.1060, val_acc:45.13%  f1:33.33%, val_f1:43.34\n",
      "\n",
      "Epoch 82 --> loss:0.9568, acc:55.38%, val_loss:1.1048, val_acc:45.76%  f1:37.50%, val_f1:43.93\n",
      "\n",
      "Epoch 83 --> loss:0.9575, acc:55.83%, val_loss:1.1146, val_acc:44.13%  f1:100.00%, val_f1:42.58\n",
      "\n",
      "Epoch 84 --> loss:0.9588, acc:55.17%, val_loss:1.0999, val_acc:45.76%  f1:62.50%, val_f1:43.75\n",
      "\n",
      "Epoch 85 --> loss:0.9547, acc:56.36%, val_loss:1.1176, val_acc:44.49%  f1:37.50%, val_f1:42.35\n",
      "\n",
      "Epoch 86 --> loss:0.9474, acc:56.88%, val_loss:1.1145, val_acc:44.49%  f1:25.00%, val_f1:43.07\n",
      "\n",
      "Epoch 87 --> loss:0.9522, acc:56.37%, val_loss:1.1295, val_acc:44.13%  f1:45.83%, val_f1:42.50\n",
      "\n",
      "Epoch 88 --> loss:0.9573, acc:55.85%, val_loss:1.1126, val_acc:43.68%  f1:50.00%, val_f1:42.97\n",
      "\n",
      "Epoch 89 --> loss:0.9482, acc:56.56%, val_loss:1.0971, val_acc:45.67%  f1:60.00%, val_f1:43.34\n",
      "\n",
      "Epoch 90 --> loss:0.9466, acc:56.03%, val_loss:1.1087, val_acc:43.95%  f1:83.33%, val_f1:42.31\n",
      "\n",
      "Epoch 91 --> loss:0.9427, acc:57.01%, val_loss:1.1128, val_acc:44.86%  f1:100.00%, val_f1:43.66\n",
      "\n",
      "Epoch 92 --> loss:0.9454, acc:56.44%, val_loss:1.0995, val_acc:46.75%  f1:85.00%, val_f1:45.19\n",
      "\n",
      "Epoch 93 --> loss:0.9397, acc:55.96%, val_loss:1.1136, val_acc:46.12%  f1:37.50%, val_f1:43.89\n",
      "\n",
      "Epoch 94 --> loss:0.9426, acc:56.48%, val_loss:1.1141, val_acc:45.76%  f1:0.00%, val_f1:43.47\n",
      "\n",
      "Epoch 95 --> loss:0.9423, acc:56.48%, val_loss:1.1112, val_acc:45.49%  f1:50.00%, val_f1:44.06\n",
      "\n",
      "Epoch 96 --> loss:0.9363, acc:56.96%, val_loss:1.1193, val_acc:43.95%  f1:50.00%, val_f1:43.55\n",
      "\n",
      "Epoch 97 --> loss:0.9368, acc:57.33%, val_loss:1.1170, val_acc:44.40%  f1:50.00%, val_f1:42.29\n",
      "\n",
      "Epoch 98 --> loss:0.9306, acc:57.63%, val_loss:1.1141, val_acc:43.41%  f1:75.00%, val_f1:42.06\n",
      "\n",
      "Epoch 99 --> loss:0.9288, acc:57.20%, val_loss:1.1477, val_acc:44.68%  f1:25.00%, val_f1:42.50\n",
      "\n",
      "Epoch 100 --> loss:0.9353, acc:56.97%, val_loss:1.1256, val_acc:45.31%  f1:41.67%, val_f1:43.91\n",
      "saved\n"
     ]
    }
   ],
   "source": [
    "train_step = make_train_step(model, loss_fnc, optimizer=OPTIMIZER)\n",
    "validate = make_validate_fnc(model,loss_fnc)\n",
    "\n",
    "val_accs = []\n",
    "losses=[]\n",
    "val_losses = []\n",
    "f1s = []\n",
    "val_f1s= []\n",
    "epochs = 100\n",
    "best_val_f1 = 2\n",
    "j = False\n",
    "\n",
    "for epoch in range(epochs):\n",
    "    epoch_acc = 0\n",
    "    epoch_loss = 0\n",
    "    epoch_f1 = 0\n",
    "    for idx, (features, labels) in enumerate(train_dataloader):\n",
    "        X, Y = features, labels\n",
    "        X_tensor = torch.tensor(X,device=device).float()\n",
    "        Y_tensor = torch.tensor(Y, dtype=torch.long,device=device)\n",
    "        loss, acc, f1= train_step(X_tensor,Y_tensor)\n",
    "        epoch_acc += acc*len(features)/len(train)\n",
    "        epoch_loss += loss*len(features)/len(train)\n",
    "        epoch_f1 += f1*len(features)/len(train)\n",
    "    for batch in val_dataloader:\n",
    "        X_val, Y_val = batch\n",
    "        break\n",
    "    X_val_tensor = torch.tensor(X_val,device=device).float()\n",
    "    Y_val_tensor = torch.tensor(Y_val,dtype=torch.long,device=device)\n",
    "    val_loss, val_acc, _, val_f1 = validate(X_val_tensor,Y_val_tensor)\n",
    "    val_accs.append(val_acc.cpu())\n",
    "    losses.append(epoch_loss)\n",
    "    val_losses.append(val_loss)\n",
    "    f1s.append(epoch_f1)\n",
    "    val_f1s.append(val_f1)\n",
    "    if val_f1 > best_val_f1:\n",
    "        torch.save(model.state_dict(), 'model_parameters/earlyfusion/best-model-parameters_earlyfusion_sent1.pt')\n",
    "        best_epoch = epoch\n",
    "        best_val_f1 = val_f1\n",
    "        j = True\n",
    "       \n",
    "    \n",
    "    print('')\n",
    "    print(f\"Epoch {epoch+1} --> loss:{epoch_loss:.4f}, acc:{epoch_acc:.2f}%, val_loss:{val_loss:.4f}, val_acc:{val_acc:.2f}%  f1:{f1:.2f}%, val_f1:{val_f1:.2f}\")\n",
    "if j:    \n",
    "    print('saved')"
   ]
  },
  {
   "cell_type": "code",
   "execution_count": 28,
   "metadata": {},
   "outputs": [
    {
     "name": "stdout",
     "output_type": "stream",
     "text": [
      "layers:  3\n",
      "model hidden dim:  256\n",
      "batch size:  64\n",
      "Max f1_val:  45.18525425358174\n"
     ]
    },
    {
     "data": {
      "image/png": "[encoded data removed]",
      "text/plain": [
       "<Figure size 432x288 with 1 Axes>"
      ]
     },
     "metadata": {
      "needs_background": "light"
     },
     "output_type": "display_data"
    }
   ],
   "source": [
    "\n",
    "import matplotlib.pyplot as plt\n",
    "x = range(epochs)\n",
    "\n",
    "fig, ax = plt.subplots()\n",
    "ax.set_xlabel('epoch #')\n",
    "ax.set_ylabel('')\n",
    "ax.plot(x,np.divide(val_accs,100), label='val_acc')\n",
    "ax.plot(x,np.divide(val_f1s,100), label='val_f1')\n",
    "ax.plot(x, losses, label='loss')\n",
    "ax.plot(x, val_losses, label='val_loss')\n",
    "ax.scatter(best_epoch, best_val_f1/100, label='best val_f1')\n",
    "ax.plot(x, 0.7*np.ones(len(x)), '--', color=(0.1,0.1,0.1))\n",
    "ax.legend()\n",
    "print(\"layers: \", model.num_layers)\n",
    "print(\"model hidden dim: \", model.hidden_dim)\n",
    "print(\"batch size: \", train_dataloader.batch_size)\n",
    "print(\"Max f1_val: \", best_val_f1)\n",
    "\n"
   ]
  },
  {
   "cell_type": "code",
   "execution_count": 8,
   "metadata": {},
   "outputs": [
    {
     "data": {
      "text/plain": [
       "<All keys matched successfully>"
      ]
     },
     "execution_count": 8,
     "metadata": {},
     "output_type": "execute_result"
    }
   ],
   "source": [
    "\n",
    "model.load_state_dict(torch.load(\"model_parameters/earlyfusion/best-model-parameters_earlyfusion_emo1.pt\"))"
   ]
  },
  {
   "cell_type": "code",
   "execution_count": 6,
   "metadata": {},
   "outputs": [],
   "source": [
    "test = AudioNText(audio_test, text_test)\n",
    "test_dataloader = DataLoader(test, batch_size=len(test), shuffle=False, drop_last=False)"
   ]
  },
  {
   "cell_type": "code",
   "execution_count": 9,
   "metadata": {},
   "outputs": [
    {
     "name": "stdout",
     "output_type": "stream",
     "text": [
      "0.35446762583454694\n",
      "[0.23622047 0.         0.         0.10204082 0.60957179 0.00913242\n",
      " 0.125     ]\n"
     ]
    }
   ],
   "source": [
    "\n",
    "\n",
    "\n",
    "device = 'cpu'\n",
    "model.to(device)\n",
    "f1s = []\n",
    "f1ss = []\n",
    "\n",
    "for idx, (features, labels) in enumerate(test_dataloader):\n",
    "    X, Y = features, labels\n",
    "    \n",
    "    X_tensor = torch.tensor(X,device=device).float()\n",
    "    Y_tensor = torch.tensor(Y, dtype=torch.long,device=device)\n",
    "    output_logits = model(X)\n",
    "    predictions = torch.argmax(output_logits,dim=1)\n",
    "   \n",
    "    f1 = f1_score(Y.cpu(), predictions.cpu(), average='weighted')\n",
    "    f1_ = f1_score(Y.cpu(), predictions.cpu(), average=None, labels=[0,1,2,3,4,5,6])\n",
    "    f1s.append(f1)\n",
    "    f1ss.append(f1_)\n",
    "\n",
    "print(f1)\n",
    "print(f1_)\n",
    "# emotions = {'anger':0, 'disgust':1, 'fear':2, 'joy':3, 'neutral':4, 'sadness':5, 'surprise':6}\n",
    "#  emotions = {'negative':0, 'positive':1, 'neutral':2}"
   ]
  },
  {
   "cell_type": "code",
   "execution_count": null,
   "metadata": {},
   "outputs": [],
   "source": []
  }
 ],
 "metadata": {
  "interpreter": {
   "hash": "d1342e48b91422693146d497b2a8030f014fedc60a9bc30ab582333e6e4c2682"
  },
  "kernelspec": {
   "display_name": "Python 3.9.1 64-bit",
   "language": "python",
   "name": "python3"
  },
  "language_info": {
   "codemirror_mode": {
    "name": "ipython",
    "version": 3
   },
   "file_extension": ".py",
   "mimetype": "text/x-python",
   "name": "python",
   "nbconvert_exporter": "python",
   "pygments_lexer": "ipython3",
   "version": "3.9.1"
  },
  "orig_nbformat": 4
 },
 "nbformat": 4,
 "nbformat_minor": 2
}
