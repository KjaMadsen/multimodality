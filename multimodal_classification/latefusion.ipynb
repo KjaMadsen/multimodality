{
 "cells": [
  {
   "cell_type": "code",
   "execution_count": 1,
   "metadata": {},
   "outputs": [],
   "source": [
    "#Notebook for doing the actual classification\n"
   ]
  },
  {
   "cell_type": "code",
   "execution_count": 2,
   "metadata": {},
   "outputs": [],
   "source": [
    "import warnings\n",
    "warnings.filterwarnings(\"ignore\")\n",
    "from utils.dataset import AudioDataset, TextDataset, AudioNText\n",
    "from torch.utils.data import DataLoader\n",
    "import torch.optim as optim\n",
    "from torch import nn\n",
    "import torch\n",
    "from utils.model import LSTMnet_RnnAtten, LSTMnet_RnnAtten_late, LateFusion\n",
    "import numpy as np\n",
    "from sklearn.metrics import f1_score\n"
   ]
  },
  {
   "cell_type": "code",
   "execution_count": 3,
   "metadata": {},
   "outputs": [],
   "source": [
    "train_annotations = '..\\\\data\\\\MELD\\\\train_sent_emo.csv'\n",
    "val_annotations = '..\\\\data\\\\\\MELD\\\\dev_sent_emo.csv'\n",
    "test_annotations = '..\\\\data\\\\MELD\\\\test_sent_emo.csv'\n",
    "\n",
    "train_bert = '..\\\\text_only\\\\embeddings\\\\bert_embeddings'\n",
    "val_bert = '..\\\\text_only\\\\embeddings\\\\bert_embeddings_val'\n",
    "test_bert = '..\\\\text_only\\\\embeddings\\\\bert_embeddings_test'\n",
    "\n",
    "train_audio = '..\\\\data\\\\MELD\\\\audio\\\\wav\\\\'\n",
    "val_audio = '..\\\\data\\\\MELD\\\\audio\\\\wav_dev\\\\'\n",
    "test_audio = '..\\\\data\\\\MELD\\\\audio\\\\wav_test\\\\'"
   ]
  },
  {
   "cell_type": "code",
   "execution_count": 4,
   "metadata": {},
   "outputs": [],
   "source": [
    "em = False\n",
    "audio_train = AudioDataset(train_annotations, train_audio, emotion=em)\n",
    "audio_val = AudioDataset(val_annotations, val_audio, emotion=em)\n",
    "\n",
    "\n",
    "text_train = TextDataset(train_annotations, train_bert, emotion=em)\n",
    "text_val = TextDataset(val_annotations, val_bert, emotion=em)\n"
   ]
  },
  {
   "cell_type": "code",
   "execution_count": 5,
   "metadata": {},
   "outputs": [],
   "source": [
    "\n",
    "train = AudioNText(audio_train, text_train)\n",
    "val = AudioNText(audio_val, text_val)\n",
    "\n",
    "\n",
    "batch_size = 64\n",
    "\n",
    "train_dataloader = DataLoader(train, batch_size=batch_size, shuffle = True, drop_last=False)\n",
    "\n",
    "\n",
    "train_features, train_labels = next(iter(train_dataloader))"
   ]
  },
  {
   "cell_type": "code",
   "execution_count": 6,
   "metadata": {},
   "outputs": [],
   "source": [
    "val_dataloader = DataLoader(val, batch_size=len(val), shuffle=False, drop_last=False)"
   ]
  },
  {
   "cell_type": "code",
   "execution_count": 7,
   "metadata": {},
   "outputs": [],
   "source": [
    "device = 'cuda' if torch.cuda.is_available() else 'cpu'\n",
    "if em:\n",
    "    weight=torch.tensor([1-1109/9989, 1-271/9989, 1-268/9989, 1-1743/9989, 1-4710/9989, 1-683/9989, 1-1205/9989]).to(device=device)\n",
    "else:\n",
    "    weight=torch.tensor([1-2945/9989, 1-2334/9989, 1-4710/9989]).to(device=device)\n",
    "\n"
   ]
  },
  {
   "cell_type": "code",
   "execution_count": 8,
   "metadata": {},
   "outputs": [],
   "source": [
    "def loss_fnc(predictions, targets):\n",
    "    return nn.CrossEntropyLoss(weight=weight, label_smoothing=0.0)(input=predictions,target=targets)"
   ]
  },
  {
   "cell_type": "code",
   "execution_count": 9,
   "metadata": {},
   "outputs": [],
   "source": [
    "def make_train_step(model, loss_fnc, optimizer):\n",
    "    def train_step(X, Y):\n",
    "        # set model to train mode\n",
    "        model.train()\n",
    "        # forward pass\n",
    "        output_logits = model(X)\n",
    "        predictions = torch.argmax(output_logits,dim=1)\n",
    "        accuracy = torch.sum(Y==predictions)/float(len(Y))\n",
    "        f1 = f1_score(Y.cpu(), predictions.cpu(), average='weighted')\n",
    "        # compute loss\n",
    "        loss = loss_fnc(output_logits, Y)\n",
    "        # compute gradients\n",
    "        loss.backward()\n",
    "        # update parameters and zero gradients\n",
    "        optimizer.step()\n",
    "        optimizer.zero_grad()\n",
    "        return loss.item(), accuracy*100 , f1*100\n",
    "    return train_step"
   ]
  },
  {
   "cell_type": "code",
   "execution_count": 10,
   "metadata": {},
   "outputs": [],
   "source": [
    "def make_validate_fnc(model,loss_fnc):\n",
    "    def validate(X ,Y):\n",
    "        with torch.no_grad():\n",
    "            model.eval()\n",
    "            output_logits = model(X)\n",
    "            predictions = torch.argmax(output_logits,dim=1)\n",
    "            \n",
    "            accuracy = torch.sum(Y==predictions)/float(len(Y))\n",
    "            f1 = f1_score(Y.cpu(), predictions.cpu(), average='weighted')\n",
    "            loss = loss_fnc(output_logits,Y)\n",
    "        return loss.item(), accuracy*100, predictions, f1*100\n",
    "    return validate"
   ]
  },
  {
   "cell_type": "code",
   "execution_count": 11,
   "metadata": {},
   "outputs": [
    {
     "name": "stdout",
     "output_type": "stream",
     "text": [
      "Number of trainable params:  483331\n"
     ]
    }
   ],
   "source": [
    "device = 'cuda' if torch.cuda.is_available() else 'cpu'\n",
    "model_audio = LSTMnet_RnnAtten_late(input_dim = 104, hidden_dim=128, output_dim=3, num_layers=3).to(device)\n",
    "print('Number of trainable params: ',sum(p.numel() for p in model_audio.parameters()) )\n"
   ]
  },
  {
   "cell_type": "code",
   "execution_count": 12,
   "metadata": {},
   "outputs": [
    {
     "name": "stdout",
     "output_type": "stream",
     "text": [
      "Number of trainable params:  691203\n"
     ]
    }
   ],
   "source": [
    "model_text = LSTMnet_RnnAtten_late(input_dim = 768, hidden_dim=128, output_dim=3, num_layers=2).to(device)\n",
    "print('Number of trainable params: ',sum(p.numel() for p in model_text.parameters()) )"
   ]
  },
  {
   "cell_type": "code",
   "execution_count": 13,
   "metadata": {},
   "outputs": [
    {
     "data": {
      "text/plain": [
       "<All keys matched successfully>"
      ]
     },
     "execution_count": 13,
     "metadata": {},
     "output_type": "execute_result"
    }
   ],
   "source": [
    "model_audio.load_state_dict(torch.load(\"..\\\\audio\\\\best-model-parameters-audio-sent.pt\"))\n",
    "model_text.load_state_dict(torch.load(\"..\\\\text_only\\\\best-model-params_sent_weighted.pt\"))"
   ]
  },
  {
   "cell_type": "code",
   "execution_count": 14,
   "metadata": {},
   "outputs": [
    {
     "name": "stdout",
     "output_type": "stream",
     "text": [
      "Number of trainable params:  21\n"
     ]
    }
   ],
   "source": [
    "device = 'cuda' if torch.cuda.is_available() else 'cpu'\n",
    "model = LateFusion(6, 3).to(device)\n",
    "print('Number of trainable params: ',sum(p.numel() for p in model.parameters()) )"
   ]
  },
  {
   "cell_type": "code",
   "execution_count": 15,
   "metadata": {},
   "outputs": [
    {
     "name": "stdout",
     "output_type": "stream",
     "text": [
      "\n",
      "Epoch 1 --> loss:1.1585, acc:38.30%, val_loss:1.1272, val_acc:38.18%  f1:45.83%, val_f1:33.77%\n",
      "\n",
      "Epoch 2 --> loss:1.1561, acc:38.49%, val_loss:1.1310, val_acc:39.80%  f1:76.67%, val_f1:35.11%\n",
      "\n",
      "Epoch 3 --> loss:1.1536, acc:38.93%, val_loss:1.1315, val_acc:38.81%  f1:30.00%, val_f1:34.29%\n",
      "\n",
      "Epoch 4 --> loss:1.1566, acc:38.85%, val_loss:1.1257, val_acc:38.27%  f1:25.00%, val_f1:33.80%\n",
      "\n",
      "Epoch 5 --> loss:1.1534, acc:38.09%, val_loss:1.1240, val_acc:39.71%  f1:76.67%, val_f1:35.08%\n",
      "\n",
      "Epoch 6 --> loss:1.1548, acc:37.85%, val_loss:1.1294, val_acc:39.17%  f1:20.00%, val_f1:34.63%\n",
      "\n",
      "Epoch 7 --> loss:1.1526, acc:39.00%, val_loss:1.1234, val_acc:38.63%  f1:30.00%, val_f1:34.13%\n",
      "\n",
      "Epoch 8 --> loss:1.1511, acc:39.06%, val_loss:1.1232, val_acc:39.62%  f1:66.67%, val_f1:34.98%\n",
      "\n",
      "Epoch 9 --> loss:1.1514, acc:38.34%, val_loss:1.1252, val_acc:38.81%  f1:30.00%, val_f1:34.27%\n",
      "\n",
      "Epoch 10 --> loss:1.1519, acc:38.09%, val_loss:1.1216, val_acc:39.71%  f1:0.00%, val_f1:35.09%\n",
      "\n",
      "Epoch 11 --> loss:1.1500, acc:38.18%, val_loss:1.1293, val_acc:38.00%  f1:0.00%, val_f1:33.57%\n",
      "\n",
      "Epoch 12 --> loss:1.1481, acc:38.76%, val_loss:1.1212, val_acc:40.07%  f1:50.00%, val_f1:35.43%\n",
      "\n",
      "Epoch 13 --> loss:1.1482, acc:38.40%, val_loss:1.1157, val_acc:41.52%  f1:16.67%, val_f1:36.65%\n",
      "\n",
      "Epoch 14 --> loss:1.1509, acc:38.16%, val_loss:1.1209, val_acc:39.62%  f1:33.33%, val_f1:35.00%\n",
      "\n",
      "Epoch 15 --> loss:1.1463, acc:38.73%, val_loss:1.1181, val_acc:39.08%  f1:16.67%, val_f1:34.53%\n",
      "\n",
      "Epoch 16 --> loss:1.1470, acc:38.35%, val_loss:1.1180, val_acc:37.82%  f1:0.00%, val_f1:33.40%\n",
      "\n",
      "Epoch 17 --> loss:1.1465, acc:38.56%, val_loss:1.1162, val_acc:38.36%  f1:66.67%, val_f1:33.82%\n",
      "\n",
      "Epoch 18 --> loss:1.1448, acc:38.76%, val_loss:1.1240, val_acc:39.26%  f1:0.00%, val_f1:34.65%\n",
      "\n",
      "Epoch 19 --> loss:1.1458, acc:38.43%, val_loss:1.1167, val_acc:38.81%  f1:76.67%, val_f1:34.21%\n",
      "\n",
      "Epoch 20 --> loss:1.1435, acc:38.78%, val_loss:1.1214, val_acc:38.36%  f1:25.00%, val_f1:33.85%\n",
      "\n",
      "Epoch 21 --> loss:1.1438, acc:38.16%, val_loss:1.1211, val_acc:38.36%  f1:40.00%, val_f1:33.88%\n",
      "\n",
      "Epoch 22 --> loss:1.1418, acc:39.22%, val_loss:1.1111, val_acc:40.34%  f1:73.33%, val_f1:35.60%\n",
      "\n",
      "Epoch 23 --> loss:1.1415, acc:39.00%, val_loss:1.1141, val_acc:39.89%  f1:45.83%, val_f1:35.15%\n",
      "\n",
      "Epoch 24 --> loss:1.1416, acc:38.85%, val_loss:1.1081, val_acc:41.16%  f1:50.00%, val_f1:36.38%\n",
      "\n",
      "Epoch 25 --> loss:1.1408, acc:39.16%, val_loss:1.1167, val_acc:40.70%  f1:66.67%, val_f1:35.93%\n",
      "\n",
      "Epoch 26 --> loss:1.1407, acc:39.45%, val_loss:1.1150, val_acc:38.81%  f1:60.00%, val_f1:34.23%\n",
      "\n",
      "Epoch 27 --> loss:1.1406, acc:38.72%, val_loss:1.1140, val_acc:40.88%  f1:41.67%, val_f1:36.02%\n",
      "\n",
      "Epoch 28 --> loss:1.1397, acc:39.05%, val_loss:1.1191, val_acc:38.45%  f1:73.33%, val_f1:33.92%\n",
      "\n",
      "Epoch 29 --> loss:1.1371, acc:39.25%, val_loss:1.1188, val_acc:39.62%  f1:20.00%, val_f1:34.82%\n",
      "\n",
      "Epoch 30 --> loss:1.1379, acc:38.65%, val_loss:1.1172, val_acc:39.53%  f1:0.00%, val_f1:34.83%\n",
      "\n",
      "Epoch 31 --> loss:1.1381, acc:38.59%, val_loss:1.1118, val_acc:38.81%  f1:60.00%, val_f1:34.27%\n",
      "\n",
      "Epoch 32 --> loss:1.1368, acc:37.99%, val_loss:1.1130, val_acc:39.53%  f1:0.00%, val_f1:34.81%\n",
      "\n",
      "Epoch 33 --> loss:1.1349, acc:39.59%, val_loss:1.1103, val_acc:39.71%  f1:73.33%, val_f1:34.88%\n",
      "\n",
      "Epoch 34 --> loss:1.1353, acc:38.73%, val_loss:1.1113, val_acc:39.26%  f1:40.00%, val_f1:34.59%\n",
      "\n",
      "Epoch 35 --> loss:1.1361, acc:39.01%, val_loss:1.1083, val_acc:38.00%  f1:50.00%, val_f1:33.56%\n",
      "\n",
      "Epoch 36 --> loss:1.1346, acc:38.32%, val_loss:1.1082, val_acc:39.62%  f1:10.00%, val_f1:34.98%\n",
      "\n",
      "Epoch 37 --> loss:1.1334, acc:39.26%, val_loss:1.1054, val_acc:37.64%  f1:40.00%, val_f1:33.16%\n",
      "\n",
      "Epoch 38 --> loss:1.1337, acc:38.61%, val_loss:1.1113, val_acc:39.35%  f1:40.00%, val_f1:34.65%\n",
      "\n",
      "Epoch 39 --> loss:1.1311, acc:39.63%, val_loss:1.1048, val_acc:38.54%  f1:50.00%, val_f1:33.93%\n",
      "\n",
      "Epoch 40 --> loss:1.1332, acc:39.08%, val_loss:1.1036, val_acc:38.81%  f1:50.00%, val_f1:34.23%\n",
      "\n",
      "Epoch 41 --> loss:1.1294, acc:39.51%, val_loss:1.1106, val_acc:38.81%  f1:25.00%, val_f1:34.14%\n",
      "\n",
      "Epoch 42 --> loss:1.1298, acc:39.62%, val_loss:1.1117, val_acc:39.62%  f1:20.00%, val_f1:34.90%\n",
      "\n",
      "Epoch 43 --> loss:1.1306, acc:39.35%, val_loss:1.1147, val_acc:37.64%  f1:33.33%, val_f1:33.07%\n",
      "\n",
      "Epoch 44 --> loss:1.1292, acc:39.76%, val_loss:1.1044, val_acc:39.17%  f1:12.50%, val_f1:34.50%\n",
      "\n",
      "Epoch 45 --> loss:1.1301, acc:39.47%, val_loss:1.1044, val_acc:38.63%  f1:20.00%, val_f1:33.98%\n",
      "\n",
      "Epoch 46 --> loss:1.1287, acc:39.36%, val_loss:1.1087, val_acc:36.64%  f1:12.50%, val_f1:32.30%\n",
      "\n",
      "Epoch 47 --> loss:1.1313, acc:39.48%, val_loss:1.1053, val_acc:40.70%  f1:40.00%, val_f1:35.88%\n",
      "\n",
      "Epoch 48 --> loss:1.1270, acc:40.67%, val_loss:1.1034, val_acc:38.45%  f1:30.00%, val_f1:33.79%\n",
      "\n",
      "Epoch 49 --> loss:1.1272, acc:39.72%, val_loss:1.1059, val_acc:38.90%  f1:66.67%, val_f1:34.20%\n",
      "\n",
      "Epoch 50 --> loss:1.1274, acc:39.03%, val_loss:1.1107, val_acc:38.81%  f1:12.50%, val_f1:34.08%\n",
      "\n",
      "Epoch 51 --> loss:1.1251, acc:39.49%, val_loss:1.1039, val_acc:41.06%  f1:12.50%, val_f1:36.05%\n",
      "\n",
      "Epoch 52 --> loss:1.1242, acc:39.48%, val_loss:1.1047, val_acc:40.79%  f1:60.00%, val_f1:35.89%\n",
      "\n",
      "Epoch 53 --> loss:1.1252, acc:39.56%, val_loss:1.1093, val_acc:38.81%  f1:25.00%, val_f1:34.05%\n",
      "\n",
      "Epoch 54 --> loss:1.1267, acc:39.12%, val_loss:1.1070, val_acc:39.53%  f1:30.00%, val_f1:34.66%\n",
      "\n",
      "Epoch 55 --> loss:1.1251, acc:39.25%, val_loss:1.1020, val_acc:38.81%  f1:50.00%, val_f1:34.11%\n",
      "\n",
      "Epoch 56 --> loss:1.1231, acc:40.16%, val_loss:1.1092, val_acc:39.08%  f1:20.00%, val_f1:34.17%\n",
      "\n",
      "Epoch 57 --> loss:1.1227, acc:39.47%, val_loss:1.1040, val_acc:38.72%  f1:65.00%, val_f1:34.01%\n",
      "\n",
      "Epoch 58 --> loss:1.1210, acc:39.52%, val_loss:1.0975, val_acc:39.80%  f1:0.00%, val_f1:34.99%\n",
      "\n",
      "Epoch 59 --> loss:1.1225, acc:39.89%, val_loss:1.1080, val_acc:38.72%  f1:66.67%, val_f1:33.88%\n",
      "\n",
      "Epoch 60 --> loss:1.1208, acc:39.89%, val_loss:1.1035, val_acc:38.00%  f1:0.00%, val_f1:33.28%\n",
      "\n",
      "Epoch 61 --> loss:1.1216, acc:40.13%, val_loss:1.1045, val_acc:39.98%  f1:0.00%, val_f1:35.11%\n",
      "\n",
      "Epoch 62 --> loss:1.1239, acc:38.83%, val_loss:1.1062, val_acc:36.46%  f1:60.00%, val_f1:31.91%\n",
      "\n",
      "Epoch 63 --> loss:1.1204, acc:39.91%, val_loss:1.0992, val_acc:39.98%  f1:0.00%, val_f1:35.06%\n",
      "\n",
      "Epoch 64 --> loss:1.1188, acc:39.49%, val_loss:1.1016, val_acc:38.72%  f1:45.83%, val_f1:33.92%\n",
      "\n",
      "Epoch 65 --> loss:1.1191, acc:39.74%, val_loss:1.1011, val_acc:37.91%  f1:41.67%, val_f1:33.35%\n",
      "\n",
      "Epoch 66 --> loss:1.1181, acc:40.03%, val_loss:1.1012, val_acc:39.35%  f1:73.33%, val_f1:34.52%\n",
      "\n",
      "Epoch 67 --> loss:1.1176, acc:39.84%, val_loss:1.1108, val_acc:37.18%  f1:20.00%, val_f1:32.39%\n",
      "\n",
      "Epoch 68 --> loss:1.1187, acc:39.87%, val_loss:1.0960, val_acc:42.15%  f1:40.00%, val_f1:36.86%\n",
      "\n",
      "Epoch 69 --> loss:1.1172, acc:39.20%, val_loss:1.0986, val_acc:40.61%  f1:30.00%, val_f1:35.50%\n",
      "\n",
      "Epoch 70 --> loss:1.1190, acc:39.25%, val_loss:1.0956, val_acc:40.25%  f1:20.00%, val_f1:35.17%\n",
      "\n",
      "Epoch 71 --> loss:1.1176, acc:39.70%, val_loss:1.0975, val_acc:40.07%  f1:12.50%, val_f1:35.10%\n",
      "\n",
      "Epoch 72 --> loss:1.1184, acc:40.44%, val_loss:1.0983, val_acc:40.97%  f1:100.00%, val_f1:35.84%\n",
      "\n",
      "Epoch 73 --> loss:1.1153, acc:39.60%, val_loss:1.1010, val_acc:39.35%  f1:0.00%, val_f1:34.24%\n",
      "\n",
      "Epoch 74 --> loss:1.1158, acc:39.43%, val_loss:1.0991, val_acc:40.25%  f1:45.83%, val_f1:35.35%\n",
      "\n",
      "Epoch 75 --> loss:1.1135, acc:39.93%, val_loss:1.0990, val_acc:39.17%  f1:12.50%, val_f1:34.28%\n",
      "\n",
      "Epoch 76 --> loss:1.1151, acc:40.02%, val_loss:1.0962, val_acc:40.25%  f1:64.29%, val_f1:35.26%\n",
      "\n",
      "Epoch 77 --> loss:1.1141, acc:39.10%, val_loss:1.0993, val_acc:41.16%  f1:16.67%, val_f1:35.99%\n",
      "\n",
      "Epoch 78 --> loss:1.1138, acc:39.61%, val_loss:1.0998, val_acc:38.54%  f1:41.67%, val_f1:33.63%\n",
      "\n",
      "Epoch 79 --> loss:1.1150, acc:40.20%, val_loss:1.0993, val_acc:38.90%  f1:16.67%, val_f1:33.90%\n",
      "\n",
      "Epoch 80 --> loss:1.1136, acc:39.71%, val_loss:1.0980, val_acc:38.99%  f1:0.00%, val_f1:33.97%\n",
      "\n",
      "Epoch 81 --> loss:1.1123, acc:40.22%, val_loss:1.0973, val_acc:39.44%  f1:16.67%, val_f1:34.47%\n",
      "\n",
      "Epoch 82 --> loss:1.1121, acc:39.63%, val_loss:1.0974, val_acc:40.16%  f1:66.67%, val_f1:34.90%\n",
      "\n",
      "Epoch 83 --> loss:1.1127, acc:40.30%, val_loss:1.0999, val_acc:39.35%  f1:10.00%, val_f1:34.14%\n",
      "\n",
      "Epoch 84 --> loss:1.1128, acc:39.64%, val_loss:1.0895, val_acc:40.43%  f1:25.00%, val_f1:35.25%\n",
      "\n",
      "Epoch 85 --> loss:1.1124, acc:40.12%, val_loss:1.0969, val_acc:40.07%  f1:10.00%, val_f1:34.82%\n",
      "\n",
      "Epoch 86 --> loss:1.1114, acc:40.62%, val_loss:1.0981, val_acc:40.07%  f1:37.50%, val_f1:34.88%\n",
      "\n",
      "Epoch 87 --> loss:1.1089, acc:40.20%, val_loss:1.0992, val_acc:39.35%  f1:30.00%, val_f1:34.38%\n",
      "\n",
      "Epoch 88 --> loss:1.1105, acc:40.27%, val_loss:1.0920, val_acc:40.97%  f1:64.29%, val_f1:35.84%\n",
      "\n",
      "Epoch 89 --> loss:1.1110, acc:40.39%, val_loss:1.0983, val_acc:38.81%  f1:33.33%, val_f1:33.90%\n",
      "\n",
      "Epoch 90 --> loss:1.1118, acc:40.62%, val_loss:1.0973, val_acc:39.71%  f1:100.00%, val_f1:34.66%\n",
      "\n",
      "Epoch 91 --> loss:1.1096, acc:40.49%, val_loss:1.0945, val_acc:38.45%  f1:33.33%, val_f1:33.28%\n",
      "\n",
      "Epoch 92 --> loss:1.1075, acc:40.84%, val_loss:1.0940, val_acc:38.36%  f1:85.71%, val_f1:33.42%\n",
      "\n",
      "Epoch 93 --> loss:1.1088, acc:40.67%, val_loss:1.0932, val_acc:42.06%  f1:100.00%, val_f1:36.73%\n",
      "\n",
      "Epoch 94 --> loss:1.1096, acc:40.18%, val_loss:1.0926, val_acc:38.63%  f1:65.00%, val_f1:33.44%\n",
      "\n",
      "Epoch 95 --> loss:1.1073, acc:40.92%, val_loss:1.0964, val_acc:39.89%  f1:30.00%, val_f1:34.63%\n",
      "\n",
      "Epoch 96 --> loss:1.1116, acc:40.04%, val_loss:1.0944, val_acc:38.99%  f1:20.00%, val_f1:33.98%\n",
      "\n",
      "Epoch 97 --> loss:1.1085, acc:40.39%, val_loss:1.0986, val_acc:39.44%  f1:0.00%, val_f1:34.31%\n",
      "\n",
      "Epoch 98 --> loss:1.1091, acc:40.34%, val_loss:1.0918, val_acc:41.61%  f1:50.00%, val_f1:35.92%\n",
      "\n",
      "Epoch 99 --> loss:1.1089, acc:40.62%, val_loss:1.0912, val_acc:40.88%  f1:50.00%, val_f1:35.52%\n",
      "\n",
      "Epoch 100 --> loss:1.1077, acc:40.11%, val_loss:1.0974, val_acc:39.44%  f1:30.00%, val_f1:34.30%\n",
      "saved\n"
     ]
    }
   ],
   "source": [
    "\n",
    "OPTIMIZER = torch.optim.Adam(model.parameters(),lr=01e-5, weight_decay=1e-3) #???\n",
    "train_step = make_train_step(model, loss_fnc, OPTIMIZER)\n",
    "validate = make_validate_fnc(model,loss_fnc)\n",
    "\n",
    "val_accs = []\n",
    "losses=[]\n",
    "val_losses = []\n",
    "f1s = []\n",
    "val_f1s= []\n",
    "epochs = 100 #\n",
    "best_val_f1 = 2\n",
    "j = False\n",
    "\n",
    "\n",
    "for epoch in range(epochs):\n",
    "    epoch_acc = 0\n",
    "    epoch_loss = 0\n",
    "    epoch_f1 = 0\n",
    "    for idx, (features, labels) in enumerate(train_dataloader):\n",
    "        X, Y = features, labels\n",
    "        X_tensor = torch.tensor(X,device=device).float()\n",
    "        Y_tensor = torch.tensor(Y, dtype=torch.long,device=device)\n",
    "        text = model_text(X_tensor[:,:768])\n",
    "        audio = model_audio(X_tensor[:,768:])\n",
    "        combined_tensor = torch.cat((audio, text), axis=1)\n",
    "        loss, acc, f1= train_step(combined_tensor,Y_tensor)\n",
    "        epoch_acc += acc*len(features)/len(train)\n",
    "        epoch_loss += loss*len(features)/len(train)\n",
    "        epoch_f1 += f1*len(features)/len(train)\n",
    "    for batch in val_dataloader:\n",
    "        X_val, Y_val = batch\n",
    "        break\n",
    "    X_val_tensor = torch.tensor(X_val,device=device).float()\n",
    "    Y_val_tensor = torch.tensor(Y_val,dtype=torch.long,device=device)\n",
    "   \n",
    "    text_val = model_text(X_val_tensor[:,:768])\n",
    "    audio_val = model_audio(X_val_tensor[:,768:])\n",
    "    combined_tensor_val = torch.cat((audio_val, text_val), axis = 1)\n",
    " \n",
    "    val_loss, val_acc, _, val_f1= validate(combined_tensor_val,Y_val_tensor)\n",
    "    val_accs.append(val_acc.cpu())\n",
    "    losses.append(epoch_loss)\n",
    "    val_losses.append(val_loss)\n",
    "    f1s.append(epoch_f1)\n",
    "    val_f1s.append(val_f1)\n",
    "    if val_loss < best_val_f1:\n",
    "        torch.save(model.state_dict(), 'model_parameters/latefusion/best-model-parameters-latefusion_sent1.pt')\n",
    "        best_epoch = epoch\n",
    "        best_val_f1 = val_loss\n",
    "        j = True\n",
    "       \n",
    "       \n",
    "    \n",
    "    print('')\n",
    "    print(f\"Epoch {epoch+1} --> loss:{epoch_loss:.4f}, acc:{epoch_acc:.2f}%, val_loss:{val_loss:.4f}, val_acc:{val_acc:.2f}%  f1:{f1:.2f}%, val_f1:{val_f1:.2f}%\")\n",
    "    \n",
    "if j:\n",
    "    print('saved')"
   ]
  },
  {
   "cell_type": "code",
   "execution_count": 16,
   "metadata": {},
   "outputs": [
    {
     "name": "stdout",
     "output_type": "stream",
     "text": [
      "1.0894768238067627\n"
     ]
    },
    {
     "data": {
      "image/png": "[encoded data removed]",
      "text/plain": [
       "<Figure size 432x288 with 1 Axes>"
      ]
     },
     "metadata": {
      "needs_background": "light"
     },
     "output_type": "display_data"
    }
   ],
   "source": [
    "import matplotlib.pyplot as plt\n",
    "x = range(epochs)\n",
    "\n",
    "fig, ax = plt.subplots()\n",
    "ax.set_xlabel('epoch #')\n",
    "ax.set_ylabel('')\n",
    "ax.plot(x,np.divide(val_accs,100), label='val_acc')\n",
    "ax.plot(x,np.divide(val_f1s,100), label='val_f1')\n",
    "ax.plot(x, losses, label='loss')\n",
    "ax.plot(x, val_losses, label='val_loss')\n",
    "ax.scatter(best_epoch, best_val_f1)\n",
    "ax.plot(x, 0.7*np.ones(len(x)), '--', color=(0.1,0.1,0.1))\n",
    "ax.legend()\n",
    "\n",
    "\n",
    "print(best_val_f1)\n"
   ]
  },
  {
   "cell_type": "code",
   "execution_count": 17,
   "metadata": {},
   "outputs": [],
   "source": [
    "torch.save(model.state_dict(), \"model_parameters/latefusion/best-model-parameters-latefusion_sent.pt\")"
   ]
  },
  {
   "cell_type": "code",
   "execution_count": 23,
   "metadata": {},
   "outputs": [
    {
     "data": {
      "text/plain": [
       "<All keys matched successfully>"
      ]
     },
     "execution_count": 23,
     "metadata": {},
     "output_type": "execute_result"
    }
   ],
   "source": [
    "model.load_state_dict(torch.load(\"model_parameters/latefusion/best-model-parameters-latefusion_sent.pt\"))"
   ]
  },
  {
   "cell_type": "code",
   "execution_count": 18,
   "metadata": {},
   "outputs": [],
   "source": [
    "audio_test = AudioDataset(test_annotations, test_audio, emotion=em)\n",
    "text_test = TextDataset(test_annotations, test_bert, emotion=em)"
   ]
  },
  {
   "cell_type": "code",
   "execution_count": 19,
   "metadata": {},
   "outputs": [],
   "source": [
    "test = AudioNText(audio_test, text_test)\n",
    "test_dataloader = DataLoader(test, batch_size=len(test), shuffle=False, drop_last=False)"
   ]
  },
  {
   "cell_type": "code",
   "execution_count": 24,
   "metadata": {},
   "outputs": [
    {
     "name": "stdout",
     "output_type": "stream",
     "text": [
      "0.35698851278095894\n",
      "[0.33529098 0.         0.5193057 ]\n"
     ]
    }
   ],
   "source": [
    "\n",
    "\n",
    "\n",
    "device = 'cpu'\n",
    "model_audio.to(device)\n",
    "model_text.to(device)\n",
    "model.to(device)\n",
    "f1s = []\n",
    "f1ss = []\n",
    "\n",
    "for idx, (features, labels) in enumerate(test_dataloader):\n",
    "    X, Y = features, labels\n",
    "    X_tensor = torch.tensor(X,device=device).float()\n",
    "    Y_tensor = torch.tensor(Y, dtype=torch.long,device=device)\n",
    "    text = model_text(X_tensor[:,:768])\n",
    "    audio = model_audio(X_tensor[:,768:])\n",
    "    combined_tensor = torch.cat((audio, text), axis=1)\n",
    "    output_logits = model(combined_tensor)\n",
    "    predictions = torch.argmax(output_logits,dim=1)\n",
    "   \n",
    "    f1 = f1_score(Y.cpu(), predictions.cpu(), average='weighted')\n",
    "    f1_ = f1_score(Y.cpu(), predictions.cpu(), average=None)\n",
    "    f1s.append(f1)\n",
    "    f1ss.append(f1_)\n",
    "\n",
    "print(f1)\n",
    "print(f1_)\n",
    "# emotions = {'anger':0, 'disgust':1, 'fear':2, 'joy':3, 'neutral':4, 'sadness':5, 'surprise':6}\n",
    "#  emotions = {'negative':0, 'positive':1, 'neutral':2}"
   ]
  },
  {
   "cell_type": "code",
   "execution_count": null,
   "metadata": {},
   "outputs": [],
   "source": []
  }
 ],
 "metadata": {
  "interpreter": {
   "hash": "d1342e48b91422693146d497b2a8030f014fedc60a9bc30ab582333e6e4c2682"
  },
  "kernelspec": {
   "display_name": "Python 3.9.1 64-bit",
   "language": "python",
   "name": "python3"
  },
  "language_info": {
   "codemirror_mode": {
    "name": "ipython",
    "version": 3
   },
   "file_extension": ".py",
   "mimetype": "text/x-python",
   "name": "python",
   "nbconvert_exporter": "python",
   "pygments_lexer": "ipython3",
   "version": "3.9.1"
  },
  "orig_nbformat": 4
 },
 "nbformat": 4,
 "nbformat_minor": 2
}
