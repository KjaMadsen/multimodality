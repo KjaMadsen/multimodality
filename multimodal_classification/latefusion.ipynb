{
 "cells": [
  {
   "cell_type": "code",
   "execution_count": 1,
   "metadata": {},
   "outputs": [],
   "source": [
    "#Notebook for doing the actual classification"
   ]
  },
  {
   "cell_type": "code",
   "execution_count": 1,
   "metadata": {},
   "outputs": [],
   "source": [
    "import warnings\n",
    "warnings.filterwarnings(\"ignore\")\n",
    "from utils.dataset import AudioDataset, TextDataset, MultimodalDataset\n",
    "from torch.utils.data import DataLoader\n",
    "import torch.optim as optim\n",
    "from torch import nn\n",
    "import torch\n",
    "from utils.model import LSTMnet_RnnAtten, LateFusion, LSTMnet_RnnAtten_late\n",
    "import numpy as np\n",
    "from sklearn.model_selection import train_test_split\n",
    "from sklearn.metrics import f1_score\n",
    "import pandas as pd\n",
    "from sklearn.svm import SVC"
   ]
  },
  {
   "cell_type": "code",
   "execution_count": 2,
   "metadata": {},
   "outputs": [],
   "source": [
    "train_annotations = '..\\\\data\\\\MELD\\\\train_sent_emo.csv'\n",
    "val_annotations = '..\\\\data\\\\\\MELD\\\\dev_sent_emo.csv'\n",
    "test_annotations = '..\\\\data\\\\MELD\\\\test_sent_emo.csv'\n",
    "\n",
    "train_bert = '..\\\\text_only\\\\embeddings\\\\bert_embeddings'\n",
    "val_bert = '..\\\\text_only\\\\embeddings\\\\bert_embeddings_val'\n",
    "test_bert = '..\\\\text_only\\\\embeddings\\\\bert_embeddings_test'\n",
    "\n",
    "train_audio = '.\\\\data\\\\MELD\\\\audio\\\\wav\\\\'\n",
    "\n",
    "val_audio = '.\\\\data\\\\MELD\\\\audio\\\\wav_dev\\\\'"
   ]
  },
  {
   "cell_type": "code",
   "execution_count": 3,
   "metadata": {},
   "outputs": [],
   "source": [
    "train = MultimodalDataset(train_annotations, train_audio, train_bert)\n",
    "# val = MultimodalDataset(val_annotations, val_audio, val_bert)\n",
    "\n",
    "train, val = train_test_split(train, test_size=0.2)\n",
    "batch_size = 64\n",
    "\n",
    "train_dataloader = DataLoader(train, batch_size=batch_size, shuffle = False, drop_last=False)\n",
    "val_dataloader = DataLoader(val, batch_size=batch_size, shuffle=False, drop_last=False)\n",
    "train_features, train_labels = next(iter(train_dataloader))\n"
   ]
  },
  {
   "cell_type": "code",
   "execution_count": 4,
   "metadata": {},
   "outputs": [],
   "source": [
    "def loss_fnc(predictions, targets):\n",
    "    return nn.CrossEntropyLoss()(input=predictions,target=targets)"
   ]
  },
  {
   "cell_type": "code",
   "execution_count": 5,
   "metadata": {},
   "outputs": [],
   "source": [
    "def make_train_step(model, loss_fnc, optimizer):\n",
    "    def train_step(X,Y):\n",
    "        # set model to train mode\n",
    "        model.train()\n",
    "        # forward pass\n",
    "        output_logits = model(X)\n",
    "        predictions = torch.argmax(output_logits,dim=1)\n",
    "        accuracy = torch.sum(Y==predictions)/float(len(Y))\n",
    "        f1 = f1_score(Y.cpu(), predictions.cpu(), average='weighted')\n",
    "        # compute loss\n",
    "        loss = loss_fnc(output_logits, Y)\n",
    "        # compute gradients\n",
    "        loss.backward()\n",
    "        # update parameters and zero gradients\n",
    "        optimizer.step()\n",
    "        optimizer.zero_grad()\n",
    "        return loss.item(), accuracy*100 , f1*100\n",
    "    return train_step"
   ]
  },
  {
   "cell_type": "code",
   "execution_count": 30,
   "metadata": {},
   "outputs": [],
   "source": [
    "def make_validate_fnc(model,loss_fnc):\n",
    "    def validate(X,Y):\n",
    "        with torch.no_grad():\n",
    "            model.eval()\n",
    "            output_logits = model(X)\n",
    "            predictions = torch.argmax(output_logits,dim=1)\n",
    "            \n",
    "            accuracy = torch.sum(Y==predictions)/float(len(Y))\n",
    "            f1 = f1_score(Y.cpu(), predictions.cpu(), average='weighted')\n",
    "            loss = loss_fnc(output_logits,Y)\n",
    "        return loss.item(), accuracy*100, predictions, f1*100\n",
    "    return validate"
   ]
  },
  {
   "cell_type": "code",
   "execution_count": 38,
   "metadata": {},
   "outputs": [
    {
     "name": "stdout",
     "output_type": "stream",
     "text": [
      "Number of trainable params:  1255431\n"
     ]
    }
   ],
   "source": [
    "device = 'cuda' if torch.cuda.is_available() else 'cpu'\n",
    "model_audio = LSTMnet_RnnAtten_late(input_dim = 1611, hidden_dim=128, output_dim=7, num_layers=3).to(device)\n",
    "print('Number of trainable params: ',sum(p.numel() for p in model_audio.parameters()) )\n"
   ]
  },
  {
   "cell_type": "code",
   "execution_count": 39,
   "metadata": {},
   "outputs": [
    {
     "name": "stdout",
     "output_type": "stream",
     "text": [
      "Number of trainable params:  823815\n"
     ]
    }
   ],
   "source": [
    "model_text = LSTMnet_RnnAtten_late(input_dim = 768, hidden_dim=128, output_dim=7, num_layers=3).to(device)\n",
    "print('Number of trainable params: ',sum(p.numel() for p in model_text.parameters()) )"
   ]
  },
  {
   "cell_type": "code",
   "execution_count": 40,
   "metadata": {},
   "outputs": [
    {
     "data": {
      "text/plain": [
       "<All keys matched successfully>"
      ]
     },
     "execution_count": 40,
     "metadata": {},
     "output_type": "execute_result"
    }
   ],
   "source": [
    "model_audio.load_state_dict(torch.load(\"..\\\\audio\\\\best-model-parameters.pt\"))\n",
    "model_text.load_state_dict(torch.load(\"..\\\\text_only\\\\best-model-parameters.pt\"))"
   ]
  },
  {
   "cell_type": "code",
   "execution_count": 41,
   "metadata": {},
   "outputs": [],
   "source": [
    "a = LateFusion().to(device)"
   ]
  },
  {
   "cell_type": "code",
   "execution_count": 50,
   "metadata": {},
   "outputs": [
    {
     "name": "stdout",
     "output_type": "stream",
     "text": [
      "\n",
      "Epoch 1 --> loss:1.3683, acc:51.30%, val_loss:1.4451, val_acc:45.31%  f1:47.51%, val_f1:34.90%\n",
      "\n",
      "Epoch 2 --> loss:1.3442, acc:52.67%, val_loss:1.4235, val_acc:43.75%  f1:53.54%, val_f1:31.94%\n",
      "\n",
      "Epoch 3 --> loss:1.3232, acc:53.95%, val_loss:1.3894, val_acc:50.00%  f1:49.62%, val_f1:39.77%\n",
      "\n",
      "Epoch 4 --> loss:1.3022, acc:55.17%, val_loss:1.3484, val_acc:50.00%  f1:53.66%, val_f1:40.14%\n",
      "\n",
      "Epoch 5 --> loss:1.2896, acc:55.81%, val_loss:1.3404, val_acc:51.56%  f1:56.58%, val_f1:42.79%\n",
      "\n",
      "Epoch 6 --> loss:1.2724, acc:56.28%, val_loss:1.3647, val_acc:53.12%  f1:55.05%, val_f1:44.78%\n",
      "\n",
      "Epoch 7 --> loss:1.2588, acc:57.05%, val_loss:1.3507, val_acc:51.56%  f1:58.66%, val_f1:41.39%\n",
      "\n",
      "Epoch 8 --> loss:1.2512, acc:57.59%, val_loss:1.3173, val_acc:57.81%  f1:53.81%, val_f1:49.73%\n",
      "\n",
      "Epoch 9 --> loss:1.2406, acc:58.14%, val_loss:1.3111, val_acc:60.94%  f1:55.27%, val_f1:54.18%\n",
      "\n",
      "Epoch 10 --> loss:1.2331, acc:58.38%, val_loss:1.2815, val_acc:56.25%  f1:53.32%, val_f1:47.50%\n",
      "\n",
      "Epoch 11 --> loss:1.2270, acc:58.84%, val_loss:1.3376, val_acc:50.00%  f1:51.36%, val_f1:40.36%\n",
      "\n",
      "Epoch 12 --> loss:1.2175, acc:59.15%, val_loss:1.2681, val_acc:57.81%  f1:49.66%, val_f1:51.77%\n",
      "\n",
      "Epoch 13 --> loss:1.2061, acc:59.74%, val_loss:1.2433, val_acc:59.38%  f1:57.06%, val_f1:52.88%\n",
      "\n",
      "Epoch 14 --> loss:1.2067, acc:59.54%, val_loss:1.2745, val_acc:57.81%  f1:57.25%, val_f1:51.30%\n",
      "\n",
      "Epoch 15 --> loss:1.2029, acc:59.54%, val_loss:1.2754, val_acc:53.12%  f1:54.06%, val_f1:46.48%\n",
      "\n",
      "Epoch 16 --> loss:1.1958, acc:59.93%, val_loss:1.2677, val_acc:59.38%  f1:53.32%, val_f1:52.48%\n",
      "\n",
      "Epoch 17 --> loss:1.1920, acc:60.21%, val_loss:1.2321, val_acc:57.81%  f1:57.44%, val_f1:52.33%\n",
      "\n",
      "Epoch 18 --> loss:1.1863, acc:60.34%, val_loss:1.2425, val_acc:56.25%  f1:55.24%, val_f1:49.35%\n",
      "\n",
      "Epoch 19 --> loss:1.1850, acc:60.46%, val_loss:1.2415, val_acc:59.38%  f1:54.11%, val_f1:52.56%\n",
      "\n",
      "Epoch 20 --> loss:1.1830, acc:60.31%, val_loss:1.2131, val_acc:57.81%  f1:53.87%, val_f1:50.77%\n",
      "\n",
      "Epoch 21 --> loss:1.1792, acc:60.66%, val_loss:1.2561, val_acc:60.94%  f1:57.61%, val_f1:55.59%\n",
      "\n",
      "Epoch 22 --> loss:1.1761, acc:60.91%, val_loss:1.2193, val_acc:62.50%  f1:54.77%, val_f1:57.94%\n",
      "\n",
      "Epoch 23 --> loss:1.1714, acc:60.68%, val_loss:1.2448, val_acc:56.25%  f1:57.25%, val_f1:49.54%\n",
      "\n",
      "Epoch 24 --> loss:1.1665, acc:61.13%, val_loss:1.2574, val_acc:54.69%  f1:58.64%, val_f1:46.98%\n",
      "\n",
      "Epoch 25 --> loss:1.1681, acc:61.36%, val_loss:1.2231, val_acc:56.25%  f1:59.46%, val_f1:52.08%\n",
      "\n",
      "Epoch 26 --> loss:1.1633, acc:61.36%, val_loss:1.2549, val_acc:56.25%  f1:55.62%, val_f1:49.91%\n",
      "\n",
      "Epoch 27 --> loss:1.1564, acc:61.92%, val_loss:1.1966, val_acc:64.06%  f1:56.61%, val_f1:59.18%\n",
      "\n",
      "Epoch 28 --> loss:1.1551, acc:61.57%, val_loss:1.2063, val_acc:57.81%  f1:55.59%, val_f1:51.27%\n",
      "\n",
      "Epoch 29 --> loss:1.1570, acc:61.69%, val_loss:1.1906, val_acc:57.81%  f1:56.38%, val_f1:52.39%\n",
      "\n",
      "Epoch 30 --> loss:1.1559, acc:61.11%, val_loss:1.2475, val_acc:56.25%  f1:58.02%, val_f1:50.97%\n",
      "\n",
      "Epoch 31 --> loss:1.1522, acc:61.66%, val_loss:1.2133, val_acc:60.94%  f1:57.65%, val_f1:55.39%\n",
      "\n",
      "Epoch 32 --> loss:1.1507, acc:61.82%, val_loss:1.2313, val_acc:59.38%  f1:59.14%, val_f1:53.65%\n",
      "\n",
      "Epoch 33 --> loss:1.1542, acc:61.49%, val_loss:1.2096, val_acc:59.38%  f1:57.38%, val_f1:55.36%\n",
      "\n",
      "Epoch 34 --> loss:1.1505, acc:61.87%, val_loss:1.2564, val_acc:59.38%  f1:54.55%, val_f1:53.88%\n",
      "\n",
      "Epoch 35 --> loss:1.1475, acc:61.79%, val_loss:1.2544, val_acc:57.81%  f1:59.11%, val_f1:52.02%\n",
      "\n",
      "Epoch 36 --> loss:1.1493, acc:62.16%, val_loss:1.1667, val_acc:57.81%  f1:55.64%, val_f1:51.41%\n",
      "\n",
      "Epoch 37 --> loss:1.1460, acc:61.53%, val_loss:1.2010, val_acc:60.94%  f1:59.65%, val_f1:55.58%\n",
      "\n",
      "Epoch 38 --> loss:1.1476, acc:61.84%, val_loss:1.1882, val_acc:59.38%  f1:54.88%, val_f1:54.30%\n",
      "\n",
      "Epoch 39 --> loss:1.1436, acc:61.96%, val_loss:1.2143, val_acc:56.25%  f1:59.08%, val_f1:50.57%\n",
      "\n",
      "Epoch 40 --> loss:1.1446, acc:61.83%, val_loss:1.1789, val_acc:60.94%  f1:57.23%, val_f1:55.92%\n",
      "\n",
      "Epoch 41 --> loss:1.1422, acc:62.40%, val_loss:1.2699, val_acc:54.69%  f1:60.27%, val_f1:49.18%\n",
      "\n",
      "Epoch 42 --> loss:1.1406, acc:62.21%, val_loss:1.2443, val_acc:56.25%  f1:60.28%, val_f1:50.16%\n",
      "\n",
      "Epoch 43 --> loss:1.1388, acc:62.32%, val_loss:1.2030, val_acc:54.69%  f1:53.65%, val_f1:49.77%\n",
      "\n",
      "Epoch 44 --> loss:1.1383, acc:62.04%, val_loss:1.1946, val_acc:62.50%  f1:56.38%, val_f1:57.96%\n",
      "\n",
      "Epoch 45 --> loss:1.1407, acc:62.07%, val_loss:1.1889, val_acc:54.69%  f1:58.20%, val_f1:49.24%\n",
      "\n",
      "Epoch 46 --> loss:1.1408, acc:61.98%, val_loss:1.1700, val_acc:57.81%  f1:58.20%, val_f1:51.95%\n",
      "\n",
      "Epoch 47 --> loss:1.1381, acc:61.88%, val_loss:1.2076, val_acc:56.25%  f1:53.45%, val_f1:51.83%\n",
      "\n",
      "Epoch 48 --> loss:1.1373, acc:62.09%, val_loss:1.2555, val_acc:56.25%  f1:56.70%, val_f1:49.29%\n",
      "\n",
      "Epoch 49 --> loss:1.1359, acc:62.60%, val_loss:1.1575, val_acc:59.38%  f1:60.97%, val_f1:54.23%\n",
      "\n",
      "Epoch 50 --> loss:1.1427, acc:62.08%, val_loss:1.2761, val_acc:62.50%  f1:59.54%, val_f1:57.96%\n",
      "\n",
      "Epoch 51 --> loss:1.1405, acc:61.91%, val_loss:1.2008, val_acc:64.06%  f1:56.03%, val_f1:59.73%\n",
      "\n",
      "Epoch 52 --> loss:1.1330, acc:62.53%, val_loss:1.2047, val_acc:62.50%  f1:57.69%, val_f1:58.01%\n",
      "\n",
      "Epoch 53 --> loss:1.1358, acc:62.41%, val_loss:1.1832, val_acc:62.50%  f1:61.10%, val_f1:57.96%\n",
      "\n",
      "Epoch 54 --> loss:1.1376, acc:61.97%, val_loss:1.1551, val_acc:60.94%  f1:59.45%, val_f1:56.65%\n",
      "\n",
      "Epoch 55 --> loss:1.1380, acc:62.58%, val_loss:1.2451, val_acc:59.38%  f1:57.99%, val_f1:54.14%\n",
      "\n",
      "Epoch 56 --> loss:1.1350, acc:62.43%, val_loss:1.2175, val_acc:60.94%  f1:59.83%, val_f1:55.31%\n",
      "\n",
      "Epoch 57 --> loss:1.1356, acc:62.07%, val_loss:1.1925, val_acc:59.38%  f1:61.72%, val_f1:54.91%\n",
      "\n",
      "Epoch 58 --> loss:1.1351, acc:62.60%, val_loss:1.2387, val_acc:57.81%  f1:56.82%, val_f1:52.23%\n",
      "\n",
      "Epoch 59 --> loss:1.1341, acc:61.92%, val_loss:1.2297, val_acc:60.94%  f1:59.36%, val_f1:56.65%\n",
      "\n",
      "Epoch 60 --> loss:1.1352, acc:62.09%, val_loss:1.1908, val_acc:60.94%  f1:55.11%, val_f1:57.28%\n",
      "\n",
      "Epoch 61 --> loss:1.1290, acc:62.38%, val_loss:1.2333, val_acc:56.25%  f1:61.50%, val_f1:51.36%\n",
      "\n",
      "Epoch 62 --> loss:1.1290, acc:62.56%, val_loss:1.2684, val_acc:60.94%  f1:57.58%, val_f1:55.66%\n",
      "\n",
      "Epoch 63 --> loss:1.1350, acc:62.14%, val_loss:1.1893, val_acc:60.94%  f1:57.87%, val_f1:55.40%\n",
      "\n",
      "Epoch 64 --> loss:1.1301, acc:62.62%, val_loss:1.1739, val_acc:57.81%  f1:61.19%, val_f1:52.54%\n",
      "\n",
      "Epoch 65 --> loss:1.1365, acc:61.62%, val_loss:1.2173, val_acc:62.50%  f1:53.51%, val_f1:58.15%\n",
      "\n",
      "Epoch 66 --> loss:1.1355, acc:62.35%, val_loss:1.2440, val_acc:62.50%  f1:61.31%, val_f1:58.12%\n",
      "\n",
      "Epoch 67 --> loss:1.1343, acc:62.27%, val_loss:1.2009, val_acc:62.50%  f1:61.90%, val_f1:57.86%\n",
      "\n",
      "Epoch 68 --> loss:1.1318, acc:62.33%, val_loss:1.2542, val_acc:57.81%  f1:56.67%, val_f1:53.05%\n",
      "\n",
      "Epoch 69 --> loss:1.1319, acc:62.41%, val_loss:1.2498, val_acc:57.81%  f1:54.69%, val_f1:53.48%\n",
      "\n",
      "Epoch 70 --> loss:1.1373, acc:62.40%, val_loss:1.2442, val_acc:56.25%  f1:55.86%, val_f1:50.34%\n",
      "\n",
      "Epoch 71 --> loss:1.1292, acc:62.47%, val_loss:1.1747, val_acc:59.38%  f1:59.52%, val_f1:54.29%\n",
      "\n",
      "Epoch 72 --> loss:1.1359, acc:62.11%, val_loss:1.2027, val_acc:54.69%  f1:57.90%, val_f1:49.59%\n",
      "\n",
      "Epoch 73 --> loss:1.1338, acc:62.75%, val_loss:1.2600, val_acc:59.38%  f1:59.44%, val_f1:53.60%\n",
      "\n",
      "Epoch 74 --> loss:1.1311, acc:62.45%, val_loss:1.1897, val_acc:53.12%  f1:59.83%, val_f1:47.74%\n",
      "\n",
      "Epoch 75 --> loss:1.1329, acc:62.42%, val_loss:1.1977, val_acc:60.94%  f1:57.09%, val_f1:55.93%\n",
      "\n",
      "Epoch 76 --> loss:1.1303, acc:62.53%, val_loss:1.2099, val_acc:56.25%  f1:58.87%, val_f1:50.67%\n",
      "\n",
      "Epoch 77 --> loss:1.1289, acc:62.25%, val_loss:1.1132, val_acc:57.81%  f1:61.64%, val_f1:53.40%\n",
      "\n",
      "Epoch 78 --> loss:1.1311, acc:62.28%, val_loss:1.2065, val_acc:56.25%  f1:59.98%, val_f1:51.35%\n",
      "\n",
      "Epoch 79 --> loss:1.1314, acc:62.41%, val_loss:1.1721, val_acc:59.38%  f1:59.24%, val_f1:53.65%\n",
      "\n",
      "Epoch 80 --> loss:1.1350, acc:62.38%, val_loss:1.1433, val_acc:59.38%  f1:61.67%, val_f1:54.48%\n",
      "\n",
      "Epoch 81 --> loss:1.1329, acc:62.01%, val_loss:1.2378, val_acc:59.38%  f1:59.65%, val_f1:54.89%\n",
      "\n",
      "Epoch 82 --> loss:1.1292, acc:62.71%, val_loss:1.1555, val_acc:64.06%  f1:60.39%, val_f1:59.76%\n",
      "\n",
      "Epoch 83 --> loss:1.1272, acc:62.55%, val_loss:1.2462, val_acc:59.38%  f1:58.42%, val_f1:54.28%\n",
      "\n",
      "Epoch 84 --> loss:1.1351, acc:62.04%, val_loss:1.1946, val_acc:57.81%  f1:59.21%, val_f1:52.46%\n",
      "\n",
      "Epoch 85 --> loss:1.1310, acc:62.22%, val_loss:1.1646, val_acc:60.94%  f1:62.99%, val_f1:56.70%\n",
      "\n",
      "Epoch 86 --> loss:1.1330, acc:62.45%, val_loss:1.2080, val_acc:60.94%  f1:61.69%, val_f1:56.21%\n",
      "\n",
      "Epoch 87 --> loss:1.1244, acc:62.51%, val_loss:1.1854, val_acc:62.50%  f1:61.46%, val_f1:58.37%\n",
      "\n",
      "Epoch 88 --> loss:1.1266, acc:62.47%, val_loss:1.2253, val_acc:56.25%  f1:58.74%, val_f1:51.32%\n",
      "\n",
      "Epoch 89 --> loss:1.1325, acc:62.30%, val_loss:1.2220, val_acc:57.81%  f1:60.22%, val_f1:52.49%\n",
      "\n",
      "Epoch 90 --> loss:1.1309, acc:62.48%, val_loss:1.2793, val_acc:59.38%  f1:61.42%, val_f1:54.49%\n",
      "\n",
      "Epoch 91 --> loss:1.1319, acc:62.32%, val_loss:1.2013, val_acc:59.38%  f1:62.14%, val_f1:54.30%\n",
      "\n",
      "Epoch 92 --> loss:1.1339, acc:62.36%, val_loss:1.2219, val_acc:59.38%  f1:59.82%, val_f1:54.76%\n",
      "\n",
      "Epoch 93 --> loss:1.1323, acc:62.47%, val_loss:1.1929, val_acc:60.94%  f1:56.61%, val_f1:55.93%\n",
      "\n",
      "Epoch 94 --> loss:1.1284, acc:62.50%, val_loss:1.2079, val_acc:56.25%  f1:61.22%, val_f1:51.31%\n",
      "\n",
      "Epoch 95 --> loss:1.1341, acc:62.45%, val_loss:1.2442, val_acc:56.25%  f1:57.77%, val_f1:50.94%\n",
      "\n",
      "Epoch 96 --> loss:1.1314, acc:62.45%, val_loss:1.2087, val_acc:57.81%  f1:58.62%, val_f1:52.55%\n",
      "\n",
      "Epoch 97 --> loss:1.1287, acc:62.78%, val_loss:1.1704, val_acc:59.38%  f1:61.89%, val_f1:55.59%\n",
      "\n",
      "Epoch 98 --> loss:1.1323, acc:62.33%, val_loss:1.2208, val_acc:57.81%  f1:60.11%, val_f1:52.78%\n",
      "\n",
      "Epoch 99 --> loss:1.1293, acc:62.61%, val_loss:1.2652, val_acc:59.38%  f1:57.81%, val_f1:54.42%\n",
      "\n",
      "Epoch 100 --> loss:1.1352, acc:62.18%, val_loss:1.2381, val_acc:57.81%  f1:58.75%, val_f1:52.15%\n"
     ]
    }
   ],
   "source": [
    "\n",
    "OPTIMIZER = torch.optim.Adam(a.parameters(),lr=0.0001, weight_decay=1e-2) #???\n",
    "train_step = make_train_step(a, loss_fnc, OPTIMIZER)\n",
    "validate = make_validate_fnc(a,loss_fnc)\n",
    "\n",
    "val_accs = []\n",
    "losses=[]\n",
    "val_losses = []\n",
    "f1s = []\n",
    "val_f1s= []\n",
    "epochs = 120 #\n",
    "best_val_f1 = 0\n",
    "\n",
    "\n",
    "\n",
    "for epoch in range(epochs):\n",
    "    epoch_acc = 0\n",
    "    epoch_loss = 0\n",
    "    epoch_f1 = 0\n",
    "    for idx, (features, labels) in enumerate(train_dataloader):\n",
    "        X, Y = features, labels\n",
    "        X_tensor = torch.tensor(X,device=device).float()\n",
    "        Y_tensor = torch.tensor(Y, dtype=torch.long,device=device)\n",
    "        text = model_text(X_tensor[:,:768])\n",
    "        audio = model_audio(X_tensor[:,768:])\n",
    "        combined_tensor = torch.cat((audio, text), axis=1)\n",
    "        loss, acc, f1= train_step(combined_tensor,Y_tensor)\n",
    "        epoch_acc += acc*len(features)/len(train)\n",
    "        epoch_loss += loss*len(features)/len(train)\n",
    "        epoch_f1 += f1*len(features)/len(train)\n",
    "    for batch in val_dataloader:\n",
    "        X_val, Y_val = batch\n",
    "        break\n",
    "    X_val_tensor = torch.tensor(X_val,device=device).float()\n",
    "    Y_val_tensor = torch.tensor(Y_val,dtype=torch.long,device=device)\n",
    "   \n",
    "    text_val = model_text(X_val_tensor[:,:768])\n",
    "    audio_val = model_audio(X_val_tensor[:,768:])\n",
    "    combined_tensor_val = torch.cat((audio_val, text_val), axis = 1)\n",
    " \n",
    "    val_loss, val_acc, _, val_f1= validate(combined_tensor_val,Y_val_tensor)\n",
    "    val_accs.append(val_acc.cpu())\n",
    "    losses.append(epoch_loss)\n",
    "    val_losses.append(val_loss)\n",
    "    f1s.append(epoch_f1)\n",
    "    val_f1s.append(val_f1)\n",
    "    if val_f1 > best_val_f1:\n",
    "        torch.save(a.state_dict(), 'best-model-parameters-latefusion.pt')\n",
    "        best_epoch = epoch\n",
    "        best_val_f1 = val_f1\n",
    "       \n",
    "    \n",
    "    print('')\n",
    "    print(f\"Epoch {epoch+1} --> loss:{epoch_loss:.4f}, acc:{epoch_acc:.2f}%, val_loss:{val_loss:.4f}, val_acc:{val_acc:.2f}%  f1:{f1:.2f}%, val_f1:{val_f1:.2f}%\")"
   ]
  },
  {
   "cell_type": "code",
   "execution_count": 51,
   "metadata": {},
   "outputs": [
    {
     "data": {
      "text/plain": [
       "<matplotlib.legend.Legend at 0x278790d79a0>"
      ]
     },
     "execution_count": 51,
     "metadata": {},
     "output_type": "execute_result"
    },
    {
     "data": {
      "image/png": "[encoded data removed]",
      "text/plain": [
       "<Figure size 432x288 with 1 Axes>"
      ]
     },
     "metadata": {
      "needs_background": "light"
     },
     "output_type": "display_data"
    }
   ],
   "source": [
    "import matplotlib.pyplot as plt\n",
    "x = range(epochs)\n",
    "\n",
    "fig, ax = plt.subplots()\n",
    "ax.set_xlabel('epoch #')\n",
    "ax.set_ylabel('')\n",
    "ax.plot(x,np.divide(val_accs,100), label='val_acc')\n",
    "ax.plot(x,np.divide(val_f1s,100), label='val_f1')\n",
    "ax.plot(x, losses, label='loss')\n",
    "ax.plot(x, val_losses, label='val_loss')\n",
    "ax.scatter(best_epoch, best_val_f1/100)\n",
    "ax.plot(x, 0.7*np.ones(len(x)), '--', color=(0.1,0.1,0.1))\n",
    "ax.legend()\n",
    "\n",
    "\n",
    "\n"
   ]
  },
  {
   "cell_type": "code",
   "execution_count": 52,
   "metadata": {},
   "outputs": [
    {
     "name": "stdout",
     "output_type": "stream",
     "text": [
      "tensor([[-0.0708, -0.1002, -0.0840, -0.0387,  0.1029,  0.0213, -0.1142,  0.4816,\n",
      "         -0.1119,  0.0718,  0.0348, -0.3011,  0.1549, -0.0913],\n",
      "        [ 0.0289, -0.0573, -0.0456,  0.0276, -0.1183, -0.0210,  0.0453,  0.0971,\n",
      "          0.3354,  0.3787,  0.0049, -0.1332,  0.1366,  0.0820],\n",
      "        [ 0.0258, -0.0254, -0.0567,  0.0289,  0.0569, -0.0238,  0.0376, -0.1051,\n",
      "          0.2955,  0.2637, -0.0502, -0.1748,  0.1930,  0.0271],\n",
      "        [ 0.0157, -0.0493, -0.1042,  0.0426,  0.0931,  0.0152, -0.0172,  0.1068,\n",
      "          0.0506, -0.3087,  0.4824, -0.2498, -0.4659, -0.2339],\n",
      "        [-0.0128, -0.1449,  0.0201,  0.0105,  0.0787,  0.0420, -0.1066, -0.3253,\n",
      "         -0.2953, -0.2127, -0.1022,  0.4251,  0.0779, -0.1762],\n",
      "        [-0.0476, -0.0751, -0.1176,  0.0080, -0.0259, -0.0044, -0.0335,  0.1399,\n",
      "          0.1983,  0.0047, -0.3355, -0.1479,  0.0959, -0.1935],\n",
      "        [-0.0046, -0.1902,  0.0210, -0.0122,  0.0270, -0.0308, -0.0274, -0.2850,\n",
      "         -0.1084, -0.3193, -0.3765, -0.4647, -0.2276,  0.5384]],\n",
      "       device='cuda:0')\n",
      "tensor([ 0.3222, -0.2336, -0.2926, -0.0232,  0.1799, -0.0196, -0.0062],\n",
      "       device='cuda:0')\n"
     ]
    }
   ],
   "source": [
    "for param in a.parameters():\n",
    "  print(param.data)"
   ]
  },
  {
   "cell_type": "code",
   "execution_count": null,
   "metadata": {},
   "outputs": [],
   "source": []
  }
 ],
 "metadata": {
  "interpreter": {
   "hash": "d1342e48b91422693146d497b2a8030f014fedc60a9bc30ab582333e6e4c2682"
  },
  "kernelspec": {
   "display_name": "Python 3.9.1 64-bit",
   "language": "python",
   "name": "python3"
  },
  "language_info": {
   "codemirror_mode": {
    "name": "ipython",
    "version": 3
   },
   "file_extension": ".py",
   "mimetype": "text/x-python",
   "name": "python",
   "nbconvert_exporter": "python",
   "pygments_lexer": "ipython3",
   "version": "3.9.1"
  },
  "orig_nbformat": 4
 },
 "nbformat": 4,
 "nbformat_minor": 2
}
