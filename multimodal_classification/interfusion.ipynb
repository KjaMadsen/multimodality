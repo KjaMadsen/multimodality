{
 "cells": [
  {
   "cell_type": "code",
   "execution_count": 1,
   "metadata": {},
   "outputs": [],
   "source": [
    "#Notebook for doing the actual classification\n"
   ]
  },
  {
   "cell_type": "code",
   "execution_count": 2,
   "metadata": {},
   "outputs": [],
   "source": [
    "import warnings\n",
    "warnings.filterwarnings(\"ignore\")\n",
    "from utils.dataset import AudioDataset, TextDataset, AudioNText\n",
    "from torch.utils.data import DataLoader\n",
    "import torch.optim as optim\n",
    "from torch import nn\n",
    "import torch\n",
    "from utils.model import LSTMnet_RnnAtten_latefusion\n",
    "import numpy as np\n",
    "from sklearn.metrics import f1_score\n"
   ]
  },
  {
   "cell_type": "code",
   "execution_count": 3,
   "metadata": {},
   "outputs": [],
   "source": [
    "train_annotations = '..\\\\data\\\\MELD\\\\train_sent_emo.csv'\n",
    "val_annotations = '..\\\\data\\\\\\MELD\\\\dev_sent_emo.csv'\n",
    "test_annotations = '..\\\\data\\\\MELD\\\\test_sent_emo.csv'\n",
    "\n",
    "train_bert = '..\\\\text_only\\\\embeddings\\\\bert_embeddings'\n",
    "val_bert = '..\\\\text_only\\\\embeddings\\\\bert_embeddings_val'\n",
    "test_bert = '..\\\\text_only\\\\embeddings\\\\bert_embeddings_test'\n",
    "\n",
    "train_audio = '..\\\\data\\\\MELD\\\\audio\\\\wav\\\\'\n",
    "val_audio = '..\\\\data\\\\MELD\\\\audio\\\\wav_dev\\\\'\n",
    "test_audio = '..\\\\data\\\\MELD\\\\audio\\\\wav_test\\\\'"
   ]
  },
  {
   "cell_type": "code",
   "execution_count": 4,
   "metadata": {},
   "outputs": [],
   "source": [
    "em = False\n",
    "audio_train = AudioDataset(train_annotations, train_audio, emotion=em)\n",
    "audio_val = AudioDataset(val_annotations, val_audio, emotion=em)\n",
    "\n",
    "\n",
    "text_train = TextDataset(train_annotations, train_bert, emotion=em)\n",
    "text_val = TextDataset(val_annotations, val_bert, emotion=em)\n"
   ]
  },
  {
   "cell_type": "code",
   "execution_count": 5,
   "metadata": {},
   "outputs": [],
   "source": [
    "\n",
    "train = AudioNText(audio_train, text_train)\n",
    "val = AudioNText(audio_val, text_val)\n",
    "\n",
    "\n",
    "batch_size = 64\n",
    "\n",
    "train_dataloader = DataLoader(train, batch_size=batch_size, shuffle = True, drop_last=False)\n",
    "\n",
    "\n",
    "train_features, train_labels = next(iter(train_dataloader))"
   ]
  },
  {
   "cell_type": "code",
   "execution_count": 6,
   "metadata": {},
   "outputs": [],
   "source": [
    "val_dataloader = DataLoader(val, batch_size=len(val), shuffle=False, drop_last=False)"
   ]
  },
  {
   "cell_type": "code",
   "execution_count": 7,
   "metadata": {},
   "outputs": [],
   "source": [
    "device = 'cuda' if torch.cuda.is_available() else 'cpu'\n",
    "if em:\n",
    "    weight=torch.tensor([1-1109/9989, 1-271/9989, 1-268/9989, 1-1743/9989, 1-4710/9989, 1-683/9989, 1-1205/9989]).to(device=device)\n",
    "else:\n",
    "    weight=torch.tensor([1-2945/9989, 1-2334/9989, 1-4710/9989]).to(device=device)\n",
    "\n"
   ]
  },
  {
   "cell_type": "code",
   "execution_count": 8,
   "metadata": {},
   "outputs": [],
   "source": [
    "def loss_fnc(predictions, targets):\n",
    "    return nn.CrossEntropyLoss(weight=weight, label_smoothing=0.0)(input=predictions,target=targets)"
   ]
  },
  {
   "cell_type": "code",
   "execution_count": 9,
   "metadata": {},
   "outputs": [],
   "source": [
    "def make_train_step(model, loss_fnc, optimizer):\n",
    "    def train_step(X1, X2, Y):\n",
    "        # set model to train mode\n",
    "        model.train()\n",
    "        # forward pass\n",
    "        output_logits = model(X1, X2)\n",
    "        predictions = torch.argmax(output_logits,dim=1)\n",
    "        accuracy = torch.sum(Y==predictions)/float(len(Y))\n",
    "        f1 = f1_score(Y.cpu(), predictions.cpu(), average='weighted')\n",
    "        # compute loss\n",
    "        loss = loss_fnc(output_logits, Y)\n",
    "        # compute gradients\n",
    "        loss.backward()\n",
    "        # update parameters and zero gradients\n",
    "        optimizer.step()\n",
    "        optimizer.zero_grad()\n",
    "        return loss.item(), accuracy*100 , f1*100\n",
    "    return train_step"
   ]
  },
  {
   "cell_type": "code",
   "execution_count": 10,
   "metadata": {},
   "outputs": [],
   "source": [
    "def make_validate_fnc(model,loss_fnc):\n",
    "    def validate(X1, X2 ,Y):\n",
    "        with torch.no_grad():\n",
    "            model.eval()\n",
    "            output_logits = model(X1, X2)\n",
    "            predictions = torch.argmax(output_logits,dim=1)\n",
    "            \n",
    "            accuracy = torch.sum(Y==predictions)/float(len(Y))\n",
    "            f1 = f1_score(Y.cpu(), predictions.cpu(), average='weighted')\n",
    "            loss = loss_fnc(output_logits,Y)\n",
    "        return loss.item(), accuracy*100, predictions, f1*100\n",
    "    return validate"
   ]
  },
  {
   "cell_type": "code",
   "execution_count": 11,
   "metadata": {},
   "outputs": [
    {
     "name": "stdout",
     "output_type": "stream",
     "text": [
      "Number of trainable params:  1223939\n"
     ]
    }
   ],
   "source": [
    "device = 'cuda' if torch.cuda.is_available() else 'cpu'\n",
    "model = LSTMnet_RnnAtten_latefusion(input_dim_a=104, input_dim_b=768, hidden_dim_a=128, hidden_dim_b=128, hidden_dim=128, output_dim=3, num_layers_a=3, num_layers_b=3).to(device)\n",
    "print('Number of trainable params: ',sum(p.numel() for p in model.parameters()) )"
   ]
  },
  {
   "cell_type": "code",
   "execution_count": 12,
   "metadata": {},
   "outputs": [
    {
     "name": "stdout",
     "output_type": "stream",
     "text": [
      "\n",
      "Epoch 1 --> loss:1.1143, acc:31.47%, val_loss:1.0906, val_acc:39.53%  f1:60.00%, val_f1:39.31%\n",
      "\n",
      "Epoch 2 --> loss:1.1090, acc:33.21%, val_loss:1.0890, val_acc:40.34%  f1:33.33%, val_f1:39.46%\n",
      "\n",
      "Epoch 3 --> loss:1.1033, acc:35.85%, val_loss:1.0810, val_acc:43.77%  f1:40.00%, val_f1:42.01%\n",
      "\n",
      "Epoch 4 --> loss:1.1027, acc:36.07%, val_loss:1.0821, val_acc:43.50%  f1:20.00%, val_f1:38.49%\n",
      "\n",
      "Epoch 5 --> loss:1.0947, acc:38.83%, val_loss:1.0795, val_acc:43.68%  f1:20.00%, val_f1:39.13%\n",
      "\n",
      "Epoch 6 --> loss:1.0974, acc:38.27%, val_loss:1.0761, val_acc:44.86%  f1:37.50%, val_f1:39.64%\n",
      "\n",
      "Epoch 7 --> loss:1.0940, acc:40.64%, val_loss:1.0713, val_acc:46.03%  f1:50.00%, val_f1:39.78%\n",
      "\n",
      "Epoch 8 --> loss:1.0899, acc:41.80%, val_loss:1.0738, val_acc:45.49%  f1:40.00%, val_f1:37.98%\n",
      "\n",
      "Epoch 9 --> loss:1.0895, acc:42.11%, val_loss:1.0672, val_acc:46.30%  f1:45.83%, val_f1:39.16%\n",
      "\n",
      "Epoch 10 --> loss:1.0875, acc:43.65%, val_loss:1.0666, val_acc:47.38%  f1:65.00%, val_f1:40.33%\n",
      "\n",
      "Epoch 11 --> loss:1.0899, acc:43.04%, val_loss:1.0640, val_acc:47.47%  f1:10.00%, val_f1:39.39%\n",
      "\n",
      "Epoch 12 --> loss:1.0881, acc:43.67%, val_loss:1.0606, val_acc:47.65%  f1:33.33%, val_f1:40.33%\n",
      "\n",
      "Epoch 13 --> loss:1.0846, acc:44.36%, val_loss:1.0615, val_acc:47.83%  f1:100.00%, val_f1:39.45%\n",
      "\n",
      "Epoch 14 --> loss:1.0839, acc:44.48%, val_loss:1.0582, val_acc:48.10%  f1:40.00%, val_f1:40.84%\n",
      "\n",
      "Epoch 15 --> loss:1.0866, acc:44.31%, val_loss:1.0582, val_acc:47.74%  f1:12.50%, val_f1:39.98%\n",
      "\n",
      "Epoch 16 --> loss:1.0829, acc:44.19%, val_loss:1.0546, val_acc:48.92%  f1:30.00%, val_f1:41.49%\n",
      "\n",
      "Epoch 17 --> loss:1.0825, acc:44.75%, val_loss:1.0536, val_acc:48.65%  f1:20.00%, val_f1:41.12%\n",
      "\n",
      "Epoch 18 --> loss:1.0800, acc:45.37%, val_loss:1.0517, val_acc:49.19%  f1:37.50%, val_f1:41.48%\n",
      "\n",
      "Epoch 19 --> loss:1.0802, acc:45.18%, val_loss:1.0468, val_acc:49.73%  f1:33.33%, val_f1:42.70%\n",
      "\n",
      "Epoch 20 --> loss:1.0804, acc:45.62%, val_loss:1.0468, val_acc:49.73%  f1:20.00%, val_f1:42.52%\n",
      "\n",
      "Epoch 21 --> loss:1.0766, acc:45.67%, val_loss:1.0424, val_acc:49.64%  f1:85.71%, val_f1:42.43%\n",
      "\n",
      "Epoch 22 --> loss:1.0754, acc:46.15%, val_loss:1.0400, val_acc:49.37%  f1:10.00%, val_f1:42.44%\n",
      "\n",
      "Epoch 23 --> loss:1.0753, acc:45.89%, val_loss:1.0351, val_acc:50.72%  f1:50.00%, val_f1:44.65%\n",
      "\n",
      "Epoch 24 --> loss:1.0734, acc:46.25%, val_loss:1.0308, val_acc:51.81%  f1:20.00%, val_f1:46.08%\n",
      "\n",
      "Epoch 25 --> loss:1.0735, acc:45.68%, val_loss:1.0320, val_acc:50.81%  f1:10.00%, val_f1:44.56%\n",
      "\n",
      "Epoch 26 --> loss:1.0680, acc:47.01%, val_loss:1.0268, val_acc:51.53%  f1:10.00%, val_f1:45.68%\n",
      "\n",
      "Epoch 27 --> loss:1.0733, acc:46.13%, val_loss:1.0294, val_acc:51.44%  f1:60.00%, val_f1:45.37%\n",
      "\n",
      "Epoch 28 --> loss:1.0697, acc:46.50%, val_loss:1.0282, val_acc:51.53%  f1:64.29%, val_f1:45.57%\n",
      "\n",
      "Epoch 29 --> loss:1.0705, acc:46.29%, val_loss:1.0233, val_acc:51.35%  f1:30.00%, val_f1:45.73%\n",
      "\n",
      "Epoch 30 --> loss:1.0675, acc:46.51%, val_loss:1.0243, val_acc:52.08%  f1:10.00%, val_f1:46.72%\n",
      "\n",
      "Epoch 31 --> loss:1.0667, acc:47.46%, val_loss:1.0198, val_acc:51.90%  f1:64.29%, val_f1:47.28%\n",
      "\n",
      "Epoch 32 --> loss:1.0645, acc:47.55%, val_loss:1.0168, val_acc:51.71%  f1:65.00%, val_f1:46.72%\n",
      "\n",
      "Epoch 33 --> loss:1.0632, acc:47.62%, val_loss:1.0199, val_acc:51.08%  f1:20.00%, val_f1:46.15%\n",
      "\n",
      "Epoch 34 --> loss:1.0599, acc:47.69%, val_loss:1.0146, val_acc:51.26%  f1:45.83%, val_f1:46.35%\n",
      "\n",
      "Epoch 35 --> loss:1.0612, acc:47.74%, val_loss:1.0162, val_acc:53.43%  f1:50.00%, val_f1:50.66%\n",
      "\n",
      "Epoch 36 --> loss:1.0570, acc:47.85%, val_loss:1.0167, val_acc:53.61%  f1:50.00%, val_f1:50.60%\n",
      "\n",
      "Epoch 37 --> loss:1.0536, acc:48.86%, val_loss:1.0109, val_acc:53.70%  f1:20.00%, val_f1:50.43%\n",
      "\n",
      "Epoch 38 --> loss:1.0566, acc:47.56%, val_loss:1.0058, val_acc:53.61%  f1:45.83%, val_f1:50.41%\n",
      "\n",
      "Epoch 39 --> loss:1.0529, acc:48.44%, val_loss:1.0144, val_acc:53.07%  f1:45.83%, val_f1:50.58%\n",
      "\n",
      "Epoch 40 --> loss:1.0506, acc:48.80%, val_loss:1.0147, val_acc:52.80%  f1:76.67%, val_f1:49.69%\n",
      "\n",
      "Epoch 41 --> loss:1.0489, acc:48.74%, val_loss:1.0074, val_acc:53.07%  f1:37.50%, val_f1:50.28%\n",
      "\n",
      "Epoch 42 --> loss:1.0482, acc:48.81%, val_loss:1.0082, val_acc:53.43%  f1:50.00%, val_f1:50.95%\n",
      "\n",
      "Epoch 43 --> loss:1.0444, acc:48.78%, val_loss:1.0135, val_acc:53.43%  f1:0.00%, val_f1:51.50%\n",
      "\n",
      "Epoch 44 --> loss:1.0444, acc:49.80%, val_loss:1.0075, val_acc:53.43%  f1:100.00%, val_f1:51.44%\n",
      "\n",
      "Epoch 45 --> loss:1.0440, acc:49.35%, val_loss:1.0147, val_acc:53.16%  f1:50.00%, val_f1:51.10%\n",
      "\n",
      "Epoch 46 --> loss:1.0414, acc:48.92%, val_loss:1.0072, val_acc:52.80%  f1:64.29%, val_f1:51.06%\n",
      "\n",
      "Epoch 47 --> loss:1.0366, acc:49.45%, val_loss:1.0070, val_acc:52.53%  f1:37.50%, val_f1:51.17%\n",
      "\n",
      "Epoch 48 --> loss:1.0363, acc:50.06%, val_loss:1.0085, val_acc:52.53%  f1:60.00%, val_f1:51.01%\n",
      "\n",
      "Epoch 49 --> loss:1.0333, acc:50.71%, val_loss:1.0075, val_acc:52.17%  f1:25.00%, val_f1:50.97%\n",
      "\n",
      "Epoch 50 --> loss:1.0301, acc:50.41%, val_loss:1.0102, val_acc:52.08%  f1:33.33%, val_f1:50.62%\n",
      "\n",
      "Epoch 51 --> loss:1.0317, acc:50.58%, val_loss:1.0103, val_acc:51.81%  f1:100.00%, val_f1:50.44%\n",
      "\n",
      "Epoch 52 --> loss:1.0278, acc:51.00%, val_loss:1.0186, val_acc:52.08%  f1:40.00%, val_f1:50.78%\n",
      "\n",
      "Epoch 53 --> loss:1.0262, acc:50.81%, val_loss:1.0085, val_acc:51.71%  f1:54.17%, val_f1:50.63%\n",
      "\n",
      "Epoch 54 --> loss:1.0284, acc:50.68%, val_loss:1.0139, val_acc:51.35%  f1:40.00%, val_f1:50.76%\n",
      "\n",
      "Epoch 55 --> loss:1.0220, acc:51.08%, val_loss:1.0135, val_acc:51.62%  f1:37.50%, val_f1:50.68%\n",
      "\n",
      "Epoch 56 --> loss:1.0225, acc:51.88%, val_loss:1.0172, val_acc:51.26%  f1:100.00%, val_f1:49.71%\n",
      "\n",
      "Epoch 57 --> loss:1.0183, acc:50.98%, val_loss:1.0213, val_acc:51.08%  f1:54.17%, val_f1:49.54%\n",
      "\n",
      "Epoch 58 --> loss:1.0181, acc:51.87%, val_loss:1.0148, val_acc:51.62%  f1:40.00%, val_f1:50.85%\n",
      "\n",
      "Epoch 59 --> loss:1.0189, acc:51.38%, val_loss:1.0192, val_acc:50.99%  f1:66.67%, val_f1:49.91%\n",
      "\n",
      "Epoch 60 --> loss:1.0158, acc:52.35%, val_loss:1.0176, val_acc:51.81%  f1:64.29%, val_f1:51.31%\n",
      "\n",
      "Epoch 61 --> loss:1.0110, acc:52.50%, val_loss:1.0175, val_acc:51.71%  f1:50.00%, val_f1:50.84%\n",
      "\n",
      "Epoch 62 --> loss:1.0128, acc:52.27%, val_loss:1.0181, val_acc:50.99%  f1:60.00%, val_f1:49.96%\n",
      "\n",
      "Epoch 63 --> loss:1.0100, acc:52.66%, val_loss:1.0199, val_acc:50.54%  f1:50.00%, val_f1:49.79%\n",
      "\n",
      "Epoch 64 --> loss:1.0126, acc:52.02%, val_loss:1.0262, val_acc:49.82%  f1:50.00%, val_f1:49.09%\n",
      "\n",
      "Epoch 65 --> loss:1.0036, acc:53.53%, val_loss:1.0236, val_acc:50.00%  f1:73.33%, val_f1:49.64%\n",
      "\n",
      "Epoch 66 --> loss:1.0039, acc:53.05%, val_loss:1.0245, val_acc:49.73%  f1:0.00%, val_f1:49.51%\n",
      "\n",
      "Epoch 67 --> loss:1.0012, acc:53.56%, val_loss:1.0262, val_acc:50.00%  f1:50.00%, val_f1:49.20%\n",
      "\n",
      "Epoch 68 --> loss:0.9997, acc:53.45%, val_loss:1.0293, val_acc:49.19%  f1:37.50%, val_f1:47.93%\n",
      "\n",
      "Epoch 69 --> loss:1.0027, acc:53.25%, val_loss:1.0255, val_acc:49.73%  f1:100.00%, val_f1:49.10%\n",
      "\n",
      "Epoch 70 --> loss:0.9956, acc:54.19%, val_loss:1.0273, val_acc:49.10%  f1:0.00%, val_f1:48.74%\n",
      "\n",
      "Epoch 71 --> loss:0.9934, acc:53.85%, val_loss:1.0246, val_acc:50.09%  f1:76.67%, val_f1:49.77%\n",
      "\n",
      "Epoch 72 --> loss:0.9933, acc:53.77%, val_loss:1.0346, val_acc:48.83%  f1:20.00%, val_f1:48.16%\n",
      "\n",
      "Epoch 73 --> loss:0.9969, acc:53.98%, val_loss:1.0324, val_acc:48.74%  f1:16.67%, val_f1:47.94%\n",
      "\n",
      "Epoch 74 --> loss:0.9902, acc:54.24%, val_loss:1.0295, val_acc:48.47%  f1:100.00%, val_f1:48.21%\n",
      "\n",
      "Epoch 75 --> loss:0.9940, acc:54.07%, val_loss:1.0328, val_acc:48.74%  f1:75.00%, val_f1:47.98%\n",
      "saved\n"
     ]
    }
   ],
   "source": [
    "\n",
    "OPTIMIZER = torch.optim.Adam(model.parameters(),lr=1e-5, weight_decay=1e-3) #???\n",
    "train_step = make_train_step(model, loss_fnc, OPTIMIZER)\n",
    "validate = make_validate_fnc(model,loss_fnc)\n",
    "\n",
    "val_accs = []\n",
    "losses=[]\n",
    "val_losses = []\n",
    "f1s = []\n",
    "val_f1s= []\n",
    "epochs = 75 #\n",
    "best_val_f1 = 0.3\n",
    "j = False\n",
    "\n",
    "\n",
    "for epoch in range(epochs):\n",
    "    epoch_acc = 0\n",
    "    epoch_loss = 0\n",
    "    epoch_f1 = 0\n",
    "    for idx, (features, labels) in enumerate(train_dataloader):\n",
    "        X, Y = features, labels\n",
    "        X_tensor = torch.tensor(X,device=device).float()\n",
    "        Y_tensor = torch.tensor(Y, dtype=torch.long,device=device)\n",
    "        text = X_tensor[:,:768]\n",
    "        audio = X_tensor[:,768:]\n",
    "        # combined_tensor = torch.cat((audio, text), axis=1)\n",
    "        loss, acc, f1= train_step(audio,text,Y_tensor)\n",
    "        epoch_acc += acc*len(features)/len(train)\n",
    "        epoch_loss += loss*len(features)/len(train)\n",
    "        epoch_f1 += f1*len(features)/len(train)\n",
    "    for batch in val_dataloader:\n",
    "        X_val, Y_val = batch\n",
    "        break\n",
    "    X_val_tensor = torch.tensor(X_val,device=device).float()\n",
    "    Y_val_tensor = torch.tensor(Y_val,dtype=torch.long,device=device)\n",
    "   \n",
    "    text_val = X_val_tensor[:,:768]\n",
    "    audio_val = X_val_tensor[:,768:]\n",
    "    # combined_tensor_val = torch.cat((audio_val, text_val), axis = 1)\n",
    " \n",
    "    val_loss, val_acc, _, val_f1= validate(audio_val, text_val,Y_val_tensor)\n",
    "    val_accs.append(val_acc.cpu())\n",
    "    losses.append(epoch_loss)\n",
    "    val_losses.append(val_loss)\n",
    "    f1s.append(epoch_f1)\n",
    "    val_f1s.append(val_f1)\n",
    "    if val_f1 > best_val_f1:\n",
    "        torch.save(model.state_dict(), 'model_parameters/interfusion/best-model-parameters-interfusion_sent1.pt')\n",
    "        best_epoch = epoch\n",
    "        best_val_f1 = val_f1\n",
    "        j = True\n",
    "       \n",
    "       \n",
    "    \n",
    "    print('')\n",
    "    print(f\"Epoch {epoch+1} --> loss:{epoch_loss:.4f}, acc:{epoch_acc:.2f}%, val_loss:{val_loss:.4f}, val_acc:{val_acc:.2f}%  f1:{f1:.2f}%, val_f1:{val_f1:.2f}%\")\n",
    "    \n",
    "if j:\n",
    "    print('saved')"
   ]
  },
  {
   "cell_type": "code",
   "execution_count": 13,
   "metadata": {},
   "outputs": [
    {
     "name": "stdout",
     "output_type": "stream",
     "text": [
      "51.49603517596783\n"
     ]
    },
    {
     "data": {
      "image/png": "[encoded data removed]",
      "text/plain": [
       "<Figure size 432x288 with 1 Axes>"
      ]
     },
     "metadata": {
      "needs_background": "light"
     },
     "output_type": "display_data"
    }
   ],
   "source": [
    "import matplotlib.pyplot as plt\n",
    "x = range(epochs)\n",
    "\n",
    "fig, ax = plt.subplots()\n",
    "ax.set_xlabel('epoch #')\n",
    "ax.set_ylabel('')\n",
    "ax.plot(x,np.divide(val_accs,100), label='val_acc')\n",
    "ax.plot(x,np.divide(val_f1s,100), label='val_f1')\n",
    "ax.plot(x, losses, label='loss')\n",
    "ax.plot(x, val_losses, label='val_loss')\n",
    "ax.scatter(best_epoch, best_val_f1/100)\n",
    "ax.plot(x, 0.7*np.ones(len(x)), '--', color=(0.1,0.1,0.1))\n",
    "ax.legend()\n",
    "\n",
    "\n",
    "print(best_val_f1)\n"
   ]
  },
  {
   "cell_type": "code",
   "execution_count": 14,
   "metadata": {},
   "outputs": [],
   "source": [
    "torch.save(model.state_dict(), \"model_parameters/interfusion/best-model-parameters-interfusion_sent2.pt\")\n"
   ]
  },
  {
   "cell_type": "code",
   "execution_count": 19,
   "metadata": {},
   "outputs": [
    {
     "data": {
      "text/plain": [
       "<All keys matched successfully>"
      ]
     },
     "execution_count": 19,
     "metadata": {},
     "output_type": "execute_result"
    }
   ],
   "source": [
    "model.load_state_dict(torch.load(\"model_parameters/interfusion/best-model-parameters-interfusion_sent1.pt\"))"
   ]
  },
  {
   "cell_type": "code",
   "execution_count": 16,
   "metadata": {},
   "outputs": [],
   "source": [
    "audio_test = AudioDataset(test_annotations, test_audio, emotion=em)\n",
    "text_test = TextDataset(test_annotations, test_bert, emotion=em)"
   ]
  },
  {
   "cell_type": "code",
   "execution_count": 17,
   "metadata": {},
   "outputs": [],
   "source": [
    "test = AudioNText(audio_test, text_test)\n",
    "test_dataloader = DataLoader(test, batch_size=len(test), shuffle=False, drop_last=False)"
   ]
  },
  {
   "cell_type": "code",
   "execution_count": 20,
   "metadata": {},
   "outputs": [
    {
     "name": "stdout",
     "output_type": "stream",
     "text": [
      "0.49039492476790875\n",
      "[0.46727829 0.25515464 0.60320856 0.         0.         0.\n",
      " 0.        ]\n"
     ]
    }
   ],
   "source": [
    "\n",
    "\n",
    "\n",
    "device = 'cpu'\n",
    "# model_audio.to(device)\n",
    "# model_text.to(device)\n",
    "model.to(device)\n",
    "f1s = []\n",
    "f1ss = []\n",
    "\n",
    "for idx, (features, labels) in enumerate(test_dataloader):\n",
    "    X, Y = features, labels\n",
    "    X_tensor = torch.tensor(X,device=device).float()\n",
    "    Y_tensor = torch.tensor(Y, dtype=torch.long,device=device)\n",
    "    text = X_tensor[:,:768]\n",
    "    audio = X_tensor[:,768:]\n",
    "    combined_tensor = torch.cat((audio, text), axis=1)\n",
    "    output_logits = model(audio, text)\n",
    "    predictions = torch.argmax(output_logits,dim=1)\n",
    "   \n",
    "    f1 = f1_score(Y.cpu(), predictions.cpu(), average='weighted')\n",
    "    f1_ = f1_score(Y.cpu(), predictions.cpu(), average=None, labels=[0,1,2,3,4,5,6])\n",
    "    f1s.append(f1)\n",
    "    f1ss.append(f1_)\n",
    "\n",
    "print(f1)\n",
    "print(f1_)\n",
    "# emotions = {'anger':0, 'disgust':1, 'fear':2, 'joy':3, 'neutral':4, 'sadness':5, 'surprise':6}\n",
    "#  emotions = {'negative':0, 'positive':1, 'neutral':2}"
   ]
  },
  {
   "cell_type": "code",
   "execution_count": null,
   "metadata": {},
   "outputs": [],
   "source": []
  }
 ],
 "metadata": {
  "interpreter": {
   "hash": "d1342e48b91422693146d497b2a8030f014fedc60a9bc30ab582333e6e4c2682"
  },
  "kernelspec": {
   "display_name": "Python 3.9.1 64-bit",
   "language": "python",
   "name": "python3"
  },
  "language_info": {
   "codemirror_mode": {
    "name": "ipython",
    "version": 3
   },
   "file_extension": ".py",
   "mimetype": "text/x-python",
   "name": "python",
   "nbconvert_exporter": "python",
   "pygments_lexer": "ipython3",
   "version": "3.9.1"
  },
  "orig_nbformat": 4
 },
 "nbformat": 4,
 "nbformat_minor": 2
}
